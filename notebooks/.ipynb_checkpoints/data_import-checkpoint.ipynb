{
 "cells": [
  {
   "cell_type": "code",
   "execution_count": 23,
   "id": "563795a1",
   "metadata": {},
   "outputs": [],
   "source": [
    "import boto3\n",
    "from boto3 import client\n",
    "import json\n",
    "import IPython\n",
    "import jsonlines"
   ]
  },
  {
   "cell_type": "code",
   "execution_count": 5,
   "id": "475f024a",
   "metadata": {},
   "outputs": [],
   "source": [
    "s3 = boto3.resource('s3')"
   ]
  },
  {
   "cell_type": "code",
   "execution_count": 6,
   "id": "b84d4b7b",
   "metadata": {},
   "outputs": [],
   "source": [
    "conn = client('s3')"
   ]
  },
  {
   "cell_type": "code",
   "execution_count": 7,
   "id": "1d5ae4b9",
   "metadata": {},
   "outputs": [],
   "source": [
    "key_list = []"
   ]
  },
  {
   "cell_type": "code",
   "execution_count": 8,
   "id": "de60c477",
   "metadata": {},
   "outputs": [],
   "source": [
    "for key in conn.list_objects(Bucket='sportradar-wisd-data')['Contents']:\n",
    "    key_list.append(key['Key'])"
   ]
  },
  {
   "cell_type": "code",
   "execution_count": 10,
   "id": "24ce67fa",
   "metadata": {},
   "outputs": [],
   "source": [
    "game_list = key_list[:-3]"
   ]
  },
  {
   "cell_type": "code",
   "execution_count": 24,
   "id": "6f851dad",
   "metadata": {},
   "outputs": [],
   "source": [
    "for key in game_list:\n",
    "    conn.download_file(\n",
    "        Bucket=\"sportradar-wisd-data\", Key=key, Filename=\"data/\" + str(key.split('/')[-1])\n",
    "    )"
   ]
  },
  {
   "cell_type": "code",
   "execution_count": 27,
   "id": "e6009e08",
   "metadata": {},
   "outputs": [],
   "source": [
    "conn.download_file(\n",
    "    Bucket=\"sportradar-wisd-data\", Key=\"metadata/games.json\", Filename=\"data/metadata.json\"\n",
    ")"
   ]
  },
  {
   "cell_type": "code",
   "execution_count": 28,
   "id": "ae2d27b6",
   "metadata": {},
   "outputs": [],
   "source": [
    "conn.download_file(\n",
    "    Bucket=\"sportradar-wisd-data\", Key=\"metadata/players.json\", Filename=\"data/metadata_players.json\"\n",
    ")"
   ]
  },
  {
   "cell_type": "code",
   "execution_count": 29,
   "id": "19070110",
   "metadata": {},
   "outputs": [],
   "source": [
    "conn.download_file(\n",
    "    Bucket=\"sportradar-wisd-data\", Key=\"metadata/teams.json\", Filename=\"data/metadata_teams.json\"\n",
    ")"
   ]
  },
  {
   "cell_type": "code",
   "execution_count": null,
   "id": "cb85292e",
   "metadata": {},
   "outputs": [],
   "source": []
  }
 ],
 "metadata": {
  "kernelspec": {
   "display_name": "hack2023",
   "language": "python",
   "name": "hack2023"
  },
  "language_info": {
   "codemirror_mode": {
    "name": "ipython",
    "version": 3
   },
   "file_extension": ".py",
   "mimetype": "text/x-python",
   "name": "python",
   "nbconvert_exporter": "python",
   "pygments_lexer": "ipython3",
   "version": "3.9.13"
  }
 },
 "nbformat": 4,
 "nbformat_minor": 5
}
