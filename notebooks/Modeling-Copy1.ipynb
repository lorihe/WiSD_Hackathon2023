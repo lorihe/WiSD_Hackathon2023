{
 "cells": [
  {
   "cell_type": "code",
   "execution_count": 3,
   "id": "3b13b739",
   "metadata": {},
   "outputs": [],
   "source": [
    "import json\n",
    "import pandas as pd\n",
    "import numpy as np\n",
    "import urllib3\n",
    "import jsonlines\n",
    "import matplotlib.pyplot as plt\n",
    "import seaborn as sns\n",
    "import os\n",
    "import datetime\n",
    "%matplotlib inline\n",
    "sns.set_style(\"whitegrid\")\n",
    "\n",
    "# import local modules\n",
    "import getpbp\n",
    "import getdata as gd\n",
    "from BasketballCourt import get_layout\n",
    "\n",
    "pd.set_option('display.max_columns', None)\n",
    "pd.set_option('display.max_rows',  None)\n",
    "%load_ext autoreload\n",
    "%autoreload 2\n",
    "import math\n",
    "import warnings\n",
    "warnings.filterwarnings('ignore')\n",
    "\n",
    "from sklearn.pipeline import Pipeline\n",
    "from sklearn.linear_model import LogisticRegression\n",
    "from sklearn.ensemble import RandomForestClassifier\n",
    "from sklearn.neighbors import KNeighborsClassifier\n",
    "from sklearn.preprocessing import StandardScaler\n",
    "from sklearn.decomposition import PCA\n",
    "from sklearn.preprocessing import MinMaxScaler\n",
    "from sklearn.cluster import KMeans\n",
    "from sklearn.model_selection import train_test_split\n",
    "from sklearn.metrics import classification_report,ConfusionMatrixDisplay,confusion_matrix,accuracy_score,make_scorer\n",
    "from sklearn.model_selection import GridSearchCV\n",
    "from sklearn.model_selection import RandomizedSearchCV\n",
    "from sklearn.naive_bayes import GaussianNB\n",
    "from xgboost import XGBClassifier\n",
    "from imblearn.over_sampling import SMOTE\n",
    "from imblearn.over_sampling import RandomOverSampler\n",
    "import joblib\n",
    "\n",
    "import plotly.express as px\n",
    "import plotly.graph_objs as go\n",
    "import plotly.io as pio\n",
    "pio.renderers.default = 'notebook'"
   ]
  },
  {
   "cell_type": "code",
   "execution_count": 4,
   "id": "bee08545",
   "metadata": {},
   "outputs": [],
   "source": [
    "all_player_shots = pd.read_csv('new_data/all_player_shots.csv')"
   ]
  },
  {
   "cell_type": "code",
   "execution_count": 5,
   "id": "52cb16dd",
   "metadata": {},
   "outputs": [
    {
     "data": {
      "text/plain": [
       "(2983, 20)"
      ]
     },
     "execution_count": 5,
     "metadata": {},
     "output_type": "execute_result"
    }
   ],
   "source": [
    "all_player_shots.shape"
   ]
  },
  {
   "cell_type": "code",
   "execution_count": 6,
   "id": "54a11390",
   "metadata": {},
   "outputs": [
    {
     "data": {
      "text/html": [
       "<div>\n",
       "<style scoped>\n",
       "    .dataframe tbody tr th:only-of-type {\n",
       "        vertical-align: middle;\n",
       "    }\n",
       "\n",
       "    .dataframe tbody tr th {\n",
       "        vertical-align: top;\n",
       "    }\n",
       "\n",
       "    .dataframe thead th {\n",
       "        text-align: right;\n",
       "    }\n",
       "</style>\n",
       "<table border=\"1\" class=\"dataframe\">\n",
       "  <thead>\n",
       "    <tr style=\"text-align: right;\">\n",
       "      <th></th>\n",
       "      <th>shotType</th>\n",
       "      <th>ACTIONTYPE</th>\n",
       "      <th>score_miss</th>\n",
       "      <th>eventType</th>\n",
       "      <th>HOMEDESCRIPTION</th>\n",
       "      <th>VISITORDESCRIPTION</th>\n",
       "      <th>gameClock</th>\n",
       "      <th>shotClock</th>\n",
       "      <th>period</th>\n",
       "      <th>x</th>\n",
       "      <th>y</th>\n",
       "      <th>closest_opponent_dist</th>\n",
       "      <th>game_id</th>\n",
       "      <th>height</th>\n",
       "      <th>name</th>\n",
       "      <th>position</th>\n",
       "      <th>Team</th>\n",
       "      <th>closest_opponent</th>\n",
       "      <th>opponent_importance</th>\n",
       "      <th>opponent_height</th>\n",
       "    </tr>\n",
       "  </thead>\n",
       "  <tbody>\n",
       "    <tr>\n",
       "      <th>0</th>\n",
       "      <td>3PT_DRIBBLE SHOT</td>\n",
       "      <td>3PT</td>\n",
       "      <td>miss</td>\n",
       "      <td>DRIBBLE SHOT</td>\n",
       "      <td>MISS Thompson 24' 3PT Jump Shot</td>\n",
       "      <td>NaN</td>\n",
       "      <td>593.04</td>\n",
       "      <td>19.4</td>\n",
       "      <td>1.0</td>\n",
       "      <td>-40.30</td>\n",
       "      <td>-22.74</td>\n",
       "      <td>4.09</td>\n",
       "      <td>42100311</td>\n",
       "      <td>78.0</td>\n",
       "      <td>Klay Thompson</td>\n",
       "      <td>G</td>\n",
       "      <td>home</td>\n",
       "      <td>Dorian Finney-Smith</td>\n",
       "      <td>0.0228</td>\n",
       "      <td>79.0</td>\n",
       "    </tr>\n",
       "    <tr>\n",
       "      <th>1</th>\n",
       "      <td>3PT_SHOT</td>\n",
       "      <td>3PT</td>\n",
       "      <td>miss</td>\n",
       "      <td>SHOT</td>\n",
       "      <td>MISS Thompson 27' 3PT Jump Shot</td>\n",
       "      <td>NaN</td>\n",
       "      <td>634.00</td>\n",
       "      <td>16.1</td>\n",
       "      <td>2.0</td>\n",
       "      <td>-17.03</td>\n",
       "      <td>1.90</td>\n",
       "      <td>4.92</td>\n",
       "      <td>42100311</td>\n",
       "      <td>78.0</td>\n",
       "      <td>Klay Thompson</td>\n",
       "      <td>G</td>\n",
       "      <td>home</td>\n",
       "      <td>Dwight Powell</td>\n",
       "      <td>0.0070</td>\n",
       "      <td>82.0</td>\n",
       "    </tr>\n",
       "    <tr>\n",
       "      <th>2</th>\n",
       "      <td>2PT_PAINT</td>\n",
       "      <td>2PT</td>\n",
       "      <td>miss</td>\n",
       "      <td>DRIBBLE SHOT</td>\n",
       "      <td>MISS Thompson 6' Driving Layup</td>\n",
       "      <td>NaN</td>\n",
       "      <td>467.16</td>\n",
       "      <td>10.6</td>\n",
       "      <td>2.0</td>\n",
       "      <td>-42.48</td>\n",
       "      <td>3.43</td>\n",
       "      <td>2.01</td>\n",
       "      <td>42100311</td>\n",
       "      <td>78.0</td>\n",
       "      <td>Klay Thompson</td>\n",
       "      <td>G</td>\n",
       "      <td>home</td>\n",
       "      <td>Maxi Kleber</td>\n",
       "      <td>0.0238</td>\n",
       "      <td>82.0</td>\n",
       "    </tr>\n",
       "    <tr>\n",
       "      <th>3</th>\n",
       "      <td>3PT_DRIBBLE SHOT</td>\n",
       "      <td>3PT</td>\n",
       "      <td>miss</td>\n",
       "      <td>DRIBBLE SHOT</td>\n",
       "      <td>MISS Thompson 28' 3PT Pullup Jump Shot</td>\n",
       "      <td>NaN</td>\n",
       "      <td>394.40</td>\n",
       "      <td>3.6</td>\n",
       "      <td>2.0</td>\n",
       "      <td>-13.34</td>\n",
       "      <td>0.98</td>\n",
       "      <td>4.76</td>\n",
       "      <td>42100311</td>\n",
       "      <td>78.0</td>\n",
       "      <td>Klay Thompson</td>\n",
       "      <td>G</td>\n",
       "      <td>home</td>\n",
       "      <td>Luka Doncic</td>\n",
       "      <td>0.0265</td>\n",
       "      <td>79.0</td>\n",
       "    </tr>\n",
       "    <tr>\n",
       "      <th>4</th>\n",
       "      <td>2PT_PAINT</td>\n",
       "      <td>2PT</td>\n",
       "      <td>score</td>\n",
       "      <td>SHOT</td>\n",
       "      <td>Thompson 4' Running Layup (2 PTS) (Green 2 AST)</td>\n",
       "      <td>NaN</td>\n",
       "      <td>624.64</td>\n",
       "      <td>20.3</td>\n",
       "      <td>3.0</td>\n",
       "      <td>38.90</td>\n",
       "      <td>-0.27</td>\n",
       "      <td>5.71</td>\n",
       "      <td>42100311</td>\n",
       "      <td>78.0</td>\n",
       "      <td>Klay Thompson</td>\n",
       "      <td>G</td>\n",
       "      <td>home</td>\n",
       "      <td>Dwight Powell</td>\n",
       "      <td>0.0070</td>\n",
       "      <td>82.0</td>\n",
       "    </tr>\n",
       "  </tbody>\n",
       "</table>\n",
       "</div>"
      ],
      "text/plain": [
       "           shotType ACTIONTYPE score_miss     eventType  \\\n",
       "0  3PT_DRIBBLE SHOT        3PT       miss  DRIBBLE SHOT   \n",
       "1          3PT_SHOT        3PT       miss          SHOT   \n",
       "2         2PT_PAINT        2PT       miss  DRIBBLE SHOT   \n",
       "3  3PT_DRIBBLE SHOT        3PT       miss  DRIBBLE SHOT   \n",
       "4         2PT_PAINT        2PT      score          SHOT   \n",
       "\n",
       "                                   HOMEDESCRIPTION VISITORDESCRIPTION  \\\n",
       "0                  MISS Thompson 24' 3PT Jump Shot                NaN   \n",
       "1                  MISS Thompson 27' 3PT Jump Shot                NaN   \n",
       "2                   MISS Thompson 6' Driving Layup                NaN   \n",
       "3           MISS Thompson 28' 3PT Pullup Jump Shot                NaN   \n",
       "4  Thompson 4' Running Layup (2 PTS) (Green 2 AST)                NaN   \n",
       "\n",
       "   gameClock  shotClock  period      x      y  closest_opponent_dist  \\\n",
       "0     593.04       19.4     1.0 -40.30 -22.74                   4.09   \n",
       "1     634.00       16.1     2.0 -17.03   1.90                   4.92   \n",
       "2     467.16       10.6     2.0 -42.48   3.43                   2.01   \n",
       "3     394.40        3.6     2.0 -13.34   0.98                   4.76   \n",
       "4     624.64       20.3     3.0  38.90  -0.27                   5.71   \n",
       "\n",
       "    game_id  height           name position  Team     closest_opponent  \\\n",
       "0  42100311    78.0  Klay Thompson        G  home  Dorian Finney-Smith   \n",
       "1  42100311    78.0  Klay Thompson        G  home        Dwight Powell   \n",
       "2  42100311    78.0  Klay Thompson        G  home          Maxi Kleber   \n",
       "3  42100311    78.0  Klay Thompson        G  home          Luka Doncic   \n",
       "4  42100311    78.0  Klay Thompson        G  home        Dwight Powell   \n",
       "\n",
       "   opponent_importance  opponent_height  \n",
       "0               0.0228             79.0  \n",
       "1               0.0070             82.0  \n",
       "2               0.0238             82.0  \n",
       "3               0.0265             79.0  \n",
       "4               0.0070             82.0  "
      ]
     },
     "execution_count": 6,
     "metadata": {},
     "output_type": "execute_result"
    }
   ],
   "source": [
    "all_player_shots.head()"
   ]
  },
  {
   "cell_type": "code",
   "execution_count": 7,
   "id": "b02ecfdd",
   "metadata": {},
   "outputs": [
    {
     "data": {
      "text/plain": [
       "shotType                    0\n",
       "ACTIONTYPE                  0\n",
       "score_miss                  0\n",
       "eventType                   0\n",
       "HOMEDESCRIPTION          1396\n",
       "VISITORDESCRIPTION       1412\n",
       "gameClock                   0\n",
       "shotClock                   0\n",
       "period                      0\n",
       "x                           0\n",
       "y                           0\n",
       "closest_opponent_dist       0\n",
       "game_id                     0\n",
       "height                      0\n",
       "name                        0\n",
       "position                    0\n",
       "Team                        0\n",
       "closest_opponent            0\n",
       "opponent_importance         0\n",
       "opponent_height             0\n",
       "dtype: int64"
      ]
     },
     "execution_count": 7,
     "metadata": {},
     "output_type": "execute_result"
    }
   ],
   "source": [
    "all_player_shots.isna().sum()"
   ]
  },
  {
   "cell_type": "code",
   "execution_count": 6,
   "id": "3c4d51dd",
   "metadata": {},
   "outputs": [
    {
     "data": {
      "text/plain": [
       "height                   float64\n",
       "name                      object\n",
       "position                  object\n",
       "shotType                  object\n",
       "ACTIONTYPE                object\n",
       "EVENTMSGTYPE              object\n",
       "eventType                 object\n",
       "HOMEDESCRIPTION           object\n",
       "VISITORDESCRIPTION        object\n",
       "gameClock                float64\n",
       "shotClock                float64\n",
       "period                   float64\n",
       "x                        float64\n",
       "y                        float64\n",
       "closest_opponent_dist    float64\n",
       "game_id                    int64\n",
       "Team                      object\n",
       "closest_opponent          object\n",
       "opponent_strength        float64\n",
       "dtype: object"
      ]
     },
     "execution_count": 6,
     "metadata": {},
     "output_type": "execute_result"
    }
   ],
   "source": [
    "all_player_shots.dtypes"
   ]
  },
  {
   "cell_type": "code",
   "execution_count": 7,
   "id": "c7781106",
   "metadata": {},
   "outputs": [
    {
     "data": {
      "text/html": [
       "<div>\n",
       "<style scoped>\n",
       "    .dataframe tbody tr th:only-of-type {\n",
       "        vertical-align: middle;\n",
       "    }\n",
       "\n",
       "    .dataframe tbody tr th {\n",
       "        vertical-align: top;\n",
       "    }\n",
       "\n",
       "    .dataframe thead th {\n",
       "        text-align: right;\n",
       "    }\n",
       "</style>\n",
       "<table border=\"1\" class=\"dataframe\">\n",
       "  <thead>\n",
       "    <tr style=\"text-align: right;\">\n",
       "      <th></th>\n",
       "      <th>height</th>\n",
       "      <th>gameClock</th>\n",
       "      <th>shotClock</th>\n",
       "      <th>period</th>\n",
       "      <th>x</th>\n",
       "      <th>y</th>\n",
       "      <th>closest_opponent_dist</th>\n",
       "      <th>game_id</th>\n",
       "      <th>opponent_strength</th>\n",
       "    </tr>\n",
       "  </thead>\n",
       "  <tbody>\n",
       "    <tr>\n",
       "      <th>count</th>\n",
       "      <td>2983.000000</td>\n",
       "      <td>2983.000000</td>\n",
       "      <td>2983.000000</td>\n",
       "      <td>2983.000000</td>\n",
       "      <td>2983.000000</td>\n",
       "      <td>2983.000000</td>\n",
       "      <td>2983.000000</td>\n",
       "      <td>2.983000e+03</td>\n",
       "      <td>2983.000000</td>\n",
       "    </tr>\n",
       "    <tr>\n",
       "      <th>mean</th>\n",
       "      <td>77.639625</td>\n",
       "      <td>354.062923</td>\n",
       "      <td>11.630439</td>\n",
       "      <td>2.455582</td>\n",
       "      <td>0.695313</td>\n",
       "      <td>-0.016363</td>\n",
       "      <td>4.670074</td>\n",
       "      <td>4.210034e+07</td>\n",
       "      <td>0.034237</td>\n",
       "    </tr>\n",
       "    <tr>\n",
       "      <th>std</th>\n",
       "      <td>2.380729</td>\n",
       "      <td>208.731377</td>\n",
       "      <td>5.655485</td>\n",
       "      <td>1.112677</td>\n",
       "      <td>33.401902</td>\n",
       "      <td>12.561527</td>\n",
       "      <td>2.686837</td>\n",
       "      <td>4.556770e+01</td>\n",
       "      <td>0.017067</td>\n",
       "    </tr>\n",
       "    <tr>\n",
       "      <th>min</th>\n",
       "      <td>72.000000</td>\n",
       "      <td>0.120000</td>\n",
       "      <td>0.000000</td>\n",
       "      <td>1.000000</td>\n",
       "      <td>-45.340000</td>\n",
       "      <td>-24.400000</td>\n",
       "      <td>0.830000</td>\n",
       "      <td>4.210030e+07</td>\n",
       "      <td>0.000300</td>\n",
       "    </tr>\n",
       "    <tr>\n",
       "      <th>25%</th>\n",
       "      <td>76.000000</td>\n",
       "      <td>172.020000</td>\n",
       "      <td>7.700000</td>\n",
       "      <td>1.000000</td>\n",
       "      <td>-34.805000</td>\n",
       "      <td>-6.190000</td>\n",
       "      <td>2.900000</td>\n",
       "      <td>4.210030e+07</td>\n",
       "      <td>0.022100</td>\n",
       "    </tr>\n",
       "    <tr>\n",
       "      <th>50%</th>\n",
       "      <td>78.000000</td>\n",
       "      <td>353.600000</td>\n",
       "      <td>11.900000</td>\n",
       "      <td>2.000000</td>\n",
       "      <td>14.020000</td>\n",
       "      <td>-0.140000</td>\n",
       "      <td>4.140000</td>\n",
       "      <td>4.210031e+07</td>\n",
       "      <td>0.035900</td>\n",
       "    </tr>\n",
       "    <tr>\n",
       "      <th>75%</th>\n",
       "      <td>79.000000</td>\n",
       "      <td>536.060000</td>\n",
       "      <td>15.750000</td>\n",
       "      <td>3.000000</td>\n",
       "      <td>36.210000</td>\n",
       "      <td>6.110000</td>\n",
       "      <td>5.600000</td>\n",
       "      <td>4.210040e+07</td>\n",
       "      <td>0.048600</td>\n",
       "    </tr>\n",
       "    <tr>\n",
       "      <th>max</th>\n",
       "      <td>86.000000</td>\n",
       "      <td>715.840000</td>\n",
       "      <td>24.000000</td>\n",
       "      <td>4.000000</td>\n",
       "      <td>44.870000</td>\n",
       "      <td>24.350000</td>\n",
       "      <td>38.670000</td>\n",
       "      <td>4.210041e+07</td>\n",
       "      <td>0.066400</td>\n",
       "    </tr>\n",
       "  </tbody>\n",
       "</table>\n",
       "</div>"
      ],
      "text/plain": [
       "            height    gameClock    shotClock       period            x  \\\n",
       "count  2983.000000  2983.000000  2983.000000  2983.000000  2983.000000   \n",
       "mean     77.639625   354.062923    11.630439     2.455582     0.695313   \n",
       "std       2.380729   208.731377     5.655485     1.112677    33.401902   \n",
       "min      72.000000     0.120000     0.000000     1.000000   -45.340000   \n",
       "25%      76.000000   172.020000     7.700000     1.000000   -34.805000   \n",
       "50%      78.000000   353.600000    11.900000     2.000000    14.020000   \n",
       "75%      79.000000   536.060000    15.750000     3.000000    36.210000   \n",
       "max      86.000000   715.840000    24.000000     4.000000    44.870000   \n",
       "\n",
       "                 y  closest_opponent_dist       game_id  opponent_strength  \n",
       "count  2983.000000            2983.000000  2.983000e+03        2983.000000  \n",
       "mean     -0.016363               4.670074  4.210034e+07           0.034237  \n",
       "std      12.561527               2.686837  4.556770e+01           0.017067  \n",
       "min     -24.400000               0.830000  4.210030e+07           0.000300  \n",
       "25%      -6.190000               2.900000  4.210030e+07           0.022100  \n",
       "50%      -0.140000               4.140000  4.210031e+07           0.035900  \n",
       "75%       6.110000               5.600000  4.210040e+07           0.048600  \n",
       "max      24.350000              38.670000  4.210041e+07           0.066400  "
      ]
     },
     "execution_count": 7,
     "metadata": {},
     "output_type": "execute_result"
    }
   ],
   "source": [
    "all_player_shots.describe()"
   ]
  },
  {
   "cell_type": "code",
   "execution_count": 8,
   "id": "6441ea97",
   "metadata": {},
   "outputs": [],
   "source": [
    "all_player_shots = all_player_shots.drop(columns = ['ACTIONTYPE', 'eventType', 'HOMEDESCRIPTION', 'VISITORDESCRIPTION'])"
   ]
  },
  {
   "cell_type": "code",
   "execution_count": 10,
   "id": "0a5a009c",
   "metadata": {},
   "outputs": [
    {
     "data": {
      "text/html": [
       "<div>\n",
       "<style scoped>\n",
       "    .dataframe tbody tr th:only-of-type {\n",
       "        vertical-align: middle;\n",
       "    }\n",
       "\n",
       "    .dataframe tbody tr th {\n",
       "        vertical-align: top;\n",
       "    }\n",
       "\n",
       "    .dataframe thead th {\n",
       "        text-align: right;\n",
       "    }\n",
       "</style>\n",
       "<table border=\"1\" class=\"dataframe\">\n",
       "  <thead>\n",
       "    <tr style=\"text-align: right;\">\n",
       "      <th></th>\n",
       "      <th>height</th>\n",
       "      <th>name</th>\n",
       "      <th>position</th>\n",
       "      <th>shotType</th>\n",
       "      <th>score_miss</th>\n",
       "      <th>gameClock</th>\n",
       "      <th>shotClock</th>\n",
       "      <th>period</th>\n",
       "      <th>x</th>\n",
       "      <th>y</th>\n",
       "      <th>closest_opponent_dist</th>\n",
       "      <th>game_id</th>\n",
       "      <th>Team</th>\n",
       "      <th>closest_opponent</th>\n",
       "      <th>opponent_strength</th>\n",
       "    </tr>\n",
       "  </thead>\n",
       "  <tbody>\n",
       "    <tr>\n",
       "      <th>0</th>\n",
       "      <td>81.0</td>\n",
       "      <td>Al Horford</td>\n",
       "      <td>F-C</td>\n",
       "      <td>2PT_SHOT</td>\n",
       "      <td>score</td>\n",
       "      <td>303.32</td>\n",
       "      <td>10.2</td>\n",
       "      <td>2.0</td>\n",
       "      <td>-27.89</td>\n",
       "      <td>6.74</td>\n",
       "      <td>6.20</td>\n",
       "      <td>42100406</td>\n",
       "      <td>home</td>\n",
       "      <td>Klay Thompson</td>\n",
       "      <td>0.0359</td>\n",
       "    </tr>\n",
       "    <tr>\n",
       "      <th>1</th>\n",
       "      <td>81.0</td>\n",
       "      <td>Al Horford</td>\n",
       "      <td>F-C</td>\n",
       "      <td>3PT_SHOT</td>\n",
       "      <td>miss</td>\n",
       "      <td>661.04</td>\n",
       "      <td>16.6</td>\n",
       "      <td>3.0</td>\n",
       "      <td>16.43</td>\n",
       "      <td>1.74</td>\n",
       "      <td>4.96</td>\n",
       "      <td>42100406</td>\n",
       "      <td>home</td>\n",
       "      <td>Andrew Wiggins</td>\n",
       "      <td>0.0567</td>\n",
       "    </tr>\n",
       "    <tr>\n",
       "      <th>2</th>\n",
       "      <td>81.0</td>\n",
       "      <td>Al Horford</td>\n",
       "      <td>F-C</td>\n",
       "      <td>3PT_SHOT</td>\n",
       "      <td>score</td>\n",
       "      <td>585.68</td>\n",
       "      <td>13.0</td>\n",
       "      <td>3.0</td>\n",
       "      <td>43.06</td>\n",
       "      <td>-23.07</td>\n",
       "      <td>9.29</td>\n",
       "      <td>42100406</td>\n",
       "      <td>home</td>\n",
       "      <td>Otto Porter Jr.</td>\n",
       "      <td>0.0134</td>\n",
       "    </tr>\n",
       "    <tr>\n",
       "      <th>3</th>\n",
       "      <td>81.0</td>\n",
       "      <td>Al Horford</td>\n",
       "      <td>F-C</td>\n",
       "      <td>3PT_SHOT</td>\n",
       "      <td>score</td>\n",
       "      <td>482.04</td>\n",
       "      <td>10.9</td>\n",
       "      <td>3.0</td>\n",
       "      <td>38.34</td>\n",
       "      <td>23.42</td>\n",
       "      <td>6.19</td>\n",
       "      <td>42100406</td>\n",
       "      <td>home</td>\n",
       "      <td>Draymond Green</td>\n",
       "      <td>0.0540</td>\n",
       "    </tr>\n",
       "    <tr>\n",
       "      <th>4</th>\n",
       "      <td>81.0</td>\n",
       "      <td>Al Horford</td>\n",
       "      <td>F-C</td>\n",
       "      <td>3PT_SHOT</td>\n",
       "      <td>score</td>\n",
       "      <td>414.68</td>\n",
       "      <td>11.1</td>\n",
       "      <td>3.0</td>\n",
       "      <td>24.33</td>\n",
       "      <td>-19.77</td>\n",
       "      <td>4.91</td>\n",
       "      <td>42100406</td>\n",
       "      <td>home</td>\n",
       "      <td>Draymond Green</td>\n",
       "      <td>0.0540</td>\n",
       "    </tr>\n",
       "  </tbody>\n",
       "</table>\n",
       "</div>"
      ],
      "text/plain": [
       "   height        name position  shotType score_miss  gameClock  shotClock  \\\n",
       "0    81.0  Al Horford      F-C  2PT_SHOT      score     303.32       10.2   \n",
       "1    81.0  Al Horford      F-C  3PT_SHOT       miss     661.04       16.6   \n",
       "2    81.0  Al Horford      F-C  3PT_SHOT      score     585.68       13.0   \n",
       "3    81.0  Al Horford      F-C  3PT_SHOT      score     482.04       10.9   \n",
       "4    81.0  Al Horford      F-C  3PT_SHOT      score     414.68       11.1   \n",
       "\n",
       "   period      x      y  closest_opponent_dist   game_id  Team  \\\n",
       "0     2.0 -27.89   6.74                   6.20  42100406  home   \n",
       "1     3.0  16.43   1.74                   4.96  42100406  home   \n",
       "2     3.0  43.06 -23.07                   9.29  42100406  home   \n",
       "3     3.0  38.34  23.42                   6.19  42100406  home   \n",
       "4     3.0  24.33 -19.77                   4.91  42100406  home   \n",
       "\n",
       "  closest_opponent  opponent_strength  \n",
       "0    Klay Thompson             0.0359  \n",
       "1   Andrew Wiggins             0.0567  \n",
       "2  Otto Porter Jr.             0.0134  \n",
       "3   Draymond Green             0.0540  \n",
       "4   Draymond Green             0.0540  "
      ]
     },
     "execution_count": 10,
     "metadata": {},
     "output_type": "execute_result"
    }
   ],
   "source": [
    "all_player_shots.head()"
   ]
  },
  {
   "cell_type": "code",
   "execution_count": 9,
   "id": "0ad09832",
   "metadata": {},
   "outputs": [
    {
     "data": {
      "text/plain": [
       "score_miss\n",
       "miss     1646\n",
       "score    1337\n",
       "Name: count, dtype: int64"
      ]
     },
     "execution_count": 9,
     "metadata": {},
     "output_type": "execute_result"
    }
   ],
   "source": [
    "all_player_shots['score_miss'].value_counts()"
   ]
  },
  {
   "cell_type": "code",
   "execution_count": 12,
   "id": "f05bbf72",
   "metadata": {},
   "outputs": [
    {
     "data": {
      "text/plain": [
       "shotType\n",
       "2PT_PAINT           1179\n",
       "3PT_SHOT             868\n",
       "3PT_DRIBBLE SHOT     451\n",
       "2PT_DRIBBLE SHOT     402\n",
       "2PT_SHOT              83\n",
       "Name: count, dtype: int64"
      ]
     },
     "execution_count": 12,
     "metadata": {},
     "output_type": "execute_result"
    }
   ],
   "source": [
    "all_player_shots['shotType'].value_counts()"
   ]
  },
  {
   "cell_type": "code",
   "execution_count": 13,
   "id": "312555d9",
   "metadata": {},
   "outputs": [
    {
     "data": {
      "text/plain": [
       "period\n",
       "1.0    783\n",
       "3.0    756\n",
       "2.0    751\n",
       "4.0    693\n",
       "Name: count, dtype: int64"
      ]
     },
     "execution_count": 13,
     "metadata": {},
     "output_type": "execute_result"
    }
   ],
   "source": [
    "all_player_shots['period'].value_counts()"
   ]
  },
  {
   "cell_type": "code",
   "execution_count": 14,
   "id": "20b1280a",
   "metadata": {},
   "outputs": [
    {
     "data": {
      "text/plain": [
       "position\n",
       "G      1221\n",
       "F       764\n",
       "G-F     742\n",
       "F-C     240\n",
       "C        16\n",
       "Name: count, dtype: int64"
      ]
     },
     "execution_count": 14,
     "metadata": {},
     "output_type": "execute_result"
    }
   ],
   "source": [
    "all_player_shots['position'].value_counts()"
   ]
  },
  {
   "cell_type": "code",
   "execution_count": 15,
   "id": "da443131",
   "metadata": {},
   "outputs": [
    {
     "data": {
      "text/plain": [
       "name\n",
       "Jaylen Brown             237\n",
       "Jayson Tatum             237\n",
       "Stephen Curry            227\n",
       "Andrew Wiggins           178\n",
       "Klay Thompson            177\n",
       "Marcus Smart             154\n",
       "Jimmy Butler             130\n",
       "Luka Doncic              118\n",
       "Jordan Poole             106\n",
       "Derrick White            105\n",
       "Al Horford                88\n",
       "Bam Adebayo               79\n",
       "Draymond Green            79\n",
       "Jalen Brunson             69\n",
       "Max Strus                 66\n",
       "Victor Oladipo            62\n",
       "Grant Williams            58\n",
       "Payton Pritchard          56\n",
       "Kevon Looney              56\n",
       "Robert Williams III       53\n",
       "Gabe Vincent              52\n",
       "Kyle Lowry                49\n",
       "Spencer Dinwiddie         49\n",
       "Reggie Bullock            47\n",
       "Tyler Herro               43\n",
       "Dorian Finney-Smith       42\n",
       "P.J. Tucker               39\n",
       "Caleb Martin              37\n",
       "Duncan Robinson           33\n",
       "Otto Porter Jr.           30\n",
       "Maxi Kleber               26\n",
       "Gary Payton II            22\n",
       "Davis Bertans             18\n",
       "Jonathan Kuminga          16\n",
       "Moses Moody               16\n",
       "Aaron Nesmith             15\n",
       "Nemanja Bjelica           14\n",
       "Damion Lee                13\n",
       "Frank Ntilikina           13\n",
       "Daniel Theis              11\n",
       "Dewayne Dedmon            10\n",
       "Nik Stauskas              10\n",
       "Trey Burke                 7\n",
       "Omer Yurtseven             6\n",
       "Sterling Brown             5\n",
       "Dwight Powell              5\n",
       "Andre Iguodala             4\n",
       "Luke Kornet                4\n",
       "Josh Green                 4\n",
       "Sam Hauser                 3\n",
       "Haywood Highsmith          2\n",
       "Juwan Morgan               1\n",
       "Malik Fitts                1\n",
       "Juan Toscano-Anderson      1\n",
       "Name: count, dtype: int64"
      ]
     },
     "execution_count": 15,
     "metadata": {},
     "output_type": "execute_result"
    }
   ],
   "source": [
    "all_player_shots['name'].value_counts()"
   ]
  },
  {
   "cell_type": "code",
   "execution_count": 16,
   "id": "32af4b69",
   "metadata": {},
   "outputs": [
    {
     "data": {
      "text/plain": [
       "Index(['height', 'name', 'position', 'shotType', 'score_miss', 'gameClock',\n",
       "       'shotClock', 'period', 'x', 'y', 'closest_opponent_dist', 'game_id',\n",
       "       'Team', 'closest_opponent', 'opponent_strength'],\n",
       "      dtype='object')"
      ]
     },
     "execution_count": 16,
     "metadata": {},
     "output_type": "execute_result"
    }
   ],
   "source": [
    "all_player_shots.columns"
   ]
  },
  {
   "cell_type": "code",
   "execution_count": 17,
   "id": "11ef30fe",
   "metadata": {},
   "outputs": [],
   "source": [
    "# num_bins = 6\n",
    "# bin_labels = ['LL', 'L', 'LM', 'MH', 'H', 'HH']\n",
    "# all_player_shots['closest_opponent_dist'] = pd.qcut(all_player_shots['closest_opponent_dist'], q=num_bins, labels=bin_labels)"
   ]
  },
  {
   "cell_type": "code",
   "execution_count": 18,
   "id": "3ff59721",
   "metadata": {},
   "outputs": [],
   "source": [
    "# num_bins = 6\n",
    "# bin_labels = ['LL', 'L', 'LM', 'MH', 'H', 'HH']\n",
    "# all_player_shots['height'] = pd.qcut(all_player_shots['height'], q=num_bins, labels=bin_labels)"
   ]
  },
  {
   "cell_type": "code",
   "execution_count": 11,
   "id": "be076a96",
   "metadata": {},
   "outputs": [],
   "source": [
    "model_df = all_player_shots[['shotType', 'shotClock', 'period', 'x', 'y',\n",
    "       'closest_opponent_dist', 'height', 'position', 'Team',\n",
    "       'opponent_importance', 'score_miss', 'opponent_height']]"
   ]
  },
  {
   "cell_type": "code",
   "execution_count": 12,
   "id": "b7461dfe",
   "metadata": {},
   "outputs": [],
   "source": [
    "model_df['score_miss'] = model_df['score_miss'].replace({'score': 1, 'miss': 0}) "
   ]
  },
  {
   "cell_type": "code",
   "execution_count": 13,
   "id": "e07b4962",
   "metadata": {},
   "outputs": [
    {
     "data": {
      "text/plain": [
       "shotType                  object\n",
       "shotClock                float64\n",
       "period                   float64\n",
       "x                        float64\n",
       "y                        float64\n",
       "closest_opponent_dist    float64\n",
       "height                   float64\n",
       "position                  object\n",
       "Team                      object\n",
       "opponent_importance      float64\n",
       "score_miss                 int64\n",
       "opponent_height          float64\n",
       "dtype: object"
      ]
     },
     "execution_count": 13,
     "metadata": {},
     "output_type": "execute_result"
    }
   ],
   "source": [
    "model_df.dtypes"
   ]
  },
  {
   "cell_type": "code",
   "execution_count": 14,
   "id": "1c394f52",
   "metadata": {},
   "outputs": [],
   "source": [
    "model_df['shotType'] = model_df['shotType'].astype('category')\n",
    "model_df['period'] = model_df['period'].astype('category')\n",
    "model_df['position'] = model_df['position'].astype('category')\n",
    "#model_df['height'] = model_df['height'].astype('category')"
   ]
  },
  {
   "cell_type": "code",
   "execution_count": 15,
   "id": "c4071601",
   "metadata": {},
   "outputs": [
    {
     "data": {
      "text/plain": [
       "shotType                 category\n",
       "shotClock                 float64\n",
       "period                   category\n",
       "x                         float64\n",
       "y                         float64\n",
       "closest_opponent_dist     float64\n",
       "height                    float64\n",
       "position                 category\n",
       "Team                       object\n",
       "opponent_importance       float64\n",
       "score_miss                  int64\n",
       "opponent_height           float64\n",
       "dtype: object"
      ]
     },
     "execution_count": 15,
     "metadata": {},
     "output_type": "execute_result"
    }
   ],
   "source": [
    "model_df.dtypes"
   ]
  },
  {
   "cell_type": "code",
   "execution_count": 97,
   "id": "e34a771f",
   "metadata": {},
   "outputs": [
    {
     "data": {
      "text/html": [
       "<div>\n",
       "<style scoped>\n",
       "    .dataframe tbody tr th:only-of-type {\n",
       "        vertical-align: middle;\n",
       "    }\n",
       "\n",
       "    .dataframe tbody tr th {\n",
       "        vertical-align: top;\n",
       "    }\n",
       "\n",
       "    .dataframe thead th {\n",
       "        text-align: right;\n",
       "    }\n",
       "</style>\n",
       "<table border=\"1\" class=\"dataframe\">\n",
       "  <thead>\n",
       "    <tr style=\"text-align: right;\">\n",
       "      <th></th>\n",
       "      <th>shotType</th>\n",
       "      <th>shotClock</th>\n",
       "      <th>period</th>\n",
       "      <th>x</th>\n",
       "      <th>y</th>\n",
       "      <th>closest_opponent_dist</th>\n",
       "      <th>height</th>\n",
       "      <th>position</th>\n",
       "      <th>Team</th>\n",
       "      <th>opponent_strength</th>\n",
       "      <th>score_miss</th>\n",
       "    </tr>\n",
       "  </thead>\n",
       "  <tbody>\n",
       "    <tr>\n",
       "      <th>0</th>\n",
       "      <td>2PT_SHOT</td>\n",
       "      <td>10.2</td>\n",
       "      <td>2.0</td>\n",
       "      <td>-27.89</td>\n",
       "      <td>6.74</td>\n",
       "      <td>6.20</td>\n",
       "      <td>81.0</td>\n",
       "      <td>F-C</td>\n",
       "      <td>home</td>\n",
       "      <td>0.0359</td>\n",
       "      <td>1</td>\n",
       "    </tr>\n",
       "    <tr>\n",
       "      <th>1</th>\n",
       "      <td>3PT_SHOT</td>\n",
       "      <td>16.6</td>\n",
       "      <td>3.0</td>\n",
       "      <td>16.43</td>\n",
       "      <td>1.74</td>\n",
       "      <td>4.96</td>\n",
       "      <td>81.0</td>\n",
       "      <td>F-C</td>\n",
       "      <td>home</td>\n",
       "      <td>0.0567</td>\n",
       "      <td>0</td>\n",
       "    </tr>\n",
       "    <tr>\n",
       "      <th>2</th>\n",
       "      <td>3PT_SHOT</td>\n",
       "      <td>13.0</td>\n",
       "      <td>3.0</td>\n",
       "      <td>43.06</td>\n",
       "      <td>-23.07</td>\n",
       "      <td>9.29</td>\n",
       "      <td>81.0</td>\n",
       "      <td>F-C</td>\n",
       "      <td>home</td>\n",
       "      <td>0.0134</td>\n",
       "      <td>1</td>\n",
       "    </tr>\n",
       "    <tr>\n",
       "      <th>3</th>\n",
       "      <td>3PT_SHOT</td>\n",
       "      <td>10.9</td>\n",
       "      <td>3.0</td>\n",
       "      <td>38.34</td>\n",
       "      <td>23.42</td>\n",
       "      <td>6.19</td>\n",
       "      <td>81.0</td>\n",
       "      <td>F-C</td>\n",
       "      <td>home</td>\n",
       "      <td>0.0540</td>\n",
       "      <td>1</td>\n",
       "    </tr>\n",
       "    <tr>\n",
       "      <th>4</th>\n",
       "      <td>3PT_SHOT</td>\n",
       "      <td>11.1</td>\n",
       "      <td>3.0</td>\n",
       "      <td>24.33</td>\n",
       "      <td>-19.77</td>\n",
       "      <td>4.91</td>\n",
       "      <td>81.0</td>\n",
       "      <td>F-C</td>\n",
       "      <td>home</td>\n",
       "      <td>0.0540</td>\n",
       "      <td>1</td>\n",
       "    </tr>\n",
       "  </tbody>\n",
       "</table>\n",
       "</div>"
      ],
      "text/plain": [
       "   shotType  shotClock period      x      y  closest_opponent_dist  height  \\\n",
       "0  2PT_SHOT       10.2    2.0 -27.89   6.74                   6.20    81.0   \n",
       "1  3PT_SHOT       16.6    3.0  16.43   1.74                   4.96    81.0   \n",
       "2  3PT_SHOT       13.0    3.0  43.06 -23.07                   9.29    81.0   \n",
       "3  3PT_SHOT       10.9    3.0  38.34  23.42                   6.19    81.0   \n",
       "4  3PT_SHOT       11.1    3.0  24.33 -19.77                   4.91    81.0   \n",
       "\n",
       "  position  Team  opponent_strength  score_miss  \n",
       "0      F-C  home             0.0359           1  \n",
       "1      F-C  home             0.0567           0  \n",
       "2      F-C  home             0.0134           1  \n",
       "3      F-C  home             0.0540           1  \n",
       "4      F-C  home             0.0540           1  "
      ]
     },
     "execution_count": 97,
     "metadata": {},
     "output_type": "execute_result"
    }
   ],
   "source": [
    "model_df.head()"
   ]
  },
  {
   "cell_type": "code",
   "execution_count": 16,
   "id": "11673dd3",
   "metadata": {},
   "outputs": [],
   "source": [
    "def get_importance(df, target):\n",
    "    X_train, X_test, y_train, y_test = train_test_split(\n",
    "        df.drop(columns=target), df[target], test_size=0.25, random_state=47)\n",
    "    \n",
    "    rf_model = RandomForestClassifier(random_state=42)\n",
    "    rf_model.fit(X_train, y_train)\n",
    "\n",
    "    y_pred = best_rf_model.predict(X_test)\n",
    "    feature_importances = best_rf_model.feature_importances_\n",
    "    features = X_train.columns\n",
    "    \n",
    "    print(classification_report(y_test,y_pred))\n",
    "    cm = confusion_matrix(y_test, y_pred, labels=best_rf_model.classes_)\n",
    "    disp = ConfusionMatrixDisplay(confusion_matrix=cm, display_labels=best_rf_model.classes_)\n",
    "\n",
    "    fig, ax = plt.subplots(figsize=(2, 2))  \n",
    "    disp.plot(ax=ax,cmap=plt.cm.Blues, colorbar = False)  \n",
    "    plt.grid(False)\n",
    "    plt.show()  \n",
    "    \n",
    "    feature_importance_df = pd.DataFrame({'Feature': features, 'Importance': feature_importances})\n",
    "    sorted_feature_importance_df = feature_importance_df.sort_values(by='Importance', ascending=False)\n",
    "    sorted_feature_importance_df = sorted_feature_importance_df.reset_index(drop = True)\n",
    "    print(sorted_feature_importance_df)\n",
    "\n",
    "    plt.figure(figsize=(8, 5))\n",
    "    plt.bar(sorted_feature_importance_df['Feature'], sorted_feature_importance_df['Importance'], color = 'lavender')\n",
    "    plt.xticks(rotation=90)\n",
    "    plt.xlabel('Feature')\n",
    "    plt.ylabel('Importance')\n",
    "    plt.title('Feature Importances in Random Forest (Best Model)')\n",
    "    plt.tight_layout()\n",
    "    plt.show()"
   ]
  },
  {
   "cell_type": "code",
   "execution_count": 17,
   "id": "866656d5",
   "metadata": {},
   "outputs": [
    {
     "ename": "ValueError",
     "evalue": "could not convert string to float: '3PT_SHOT'",
     "output_type": "error",
     "traceback": [
      "\u001b[1;31m---------------------------------------------------------------------------\u001b[0m",
      "\u001b[1;31mValueError\u001b[0m                                Traceback (most recent call last)",
      "\u001b[1;32m~\\AppData\\Local\\Temp\\ipykernel_14876\\2002137742.py\u001b[0m in \u001b[0;36m?\u001b[1;34m()\u001b[0m\n\u001b[1;32m----> 1\u001b[1;33m \u001b[0mget_importance\u001b[0m\u001b[1;33m(\u001b[0m\u001b[0mmodel_df\u001b[0m\u001b[1;33m,\u001b[0m \u001b[1;34m'score_miss'\u001b[0m\u001b[1;33m)\u001b[0m\u001b[1;33m\u001b[0m\u001b[1;33m\u001b[0m\u001b[0m\n\u001b[0m",
      "\u001b[1;32m~\\AppData\\Local\\Temp\\ipykernel_14876\\3717729088.py\u001b[0m in \u001b[0;36m?\u001b[1;34m(df, target)\u001b[0m\n\u001b[0;32m      2\u001b[0m     X_train, X_test, y_train, y_test = train_test_split(\n\u001b[0;32m      3\u001b[0m         df.drop(columns=target), df[target], test_size=0.25, random_state=47)\n\u001b[0;32m      4\u001b[0m \u001b[1;33m\u001b[0m\u001b[0m\n\u001b[0;32m      5\u001b[0m     \u001b[0mrf_model\u001b[0m \u001b[1;33m=\u001b[0m \u001b[0mRandomForestClassifier\u001b[0m\u001b[1;33m(\u001b[0m\u001b[0mrandom_state\u001b[0m\u001b[1;33m=\u001b[0m\u001b[1;36m42\u001b[0m\u001b[1;33m)\u001b[0m\u001b[1;33m\u001b[0m\u001b[1;33m\u001b[0m\u001b[0m\n\u001b[1;32m----> 6\u001b[1;33m     \u001b[0mrf_model\u001b[0m\u001b[1;33m.\u001b[0m\u001b[0mfit\u001b[0m\u001b[1;33m(\u001b[0m\u001b[0mX_train\u001b[0m\u001b[1;33m,\u001b[0m \u001b[0my_train\u001b[0m\u001b[1;33m)\u001b[0m\u001b[1;33m\u001b[0m\u001b[1;33m\u001b[0m\u001b[0m\n\u001b[0m\u001b[0;32m      7\u001b[0m \u001b[1;33m\u001b[0m\u001b[0m\n\u001b[0;32m      8\u001b[0m     \u001b[0my_pred\u001b[0m \u001b[1;33m=\u001b[0m \u001b[0mbest_rf_model\u001b[0m\u001b[1;33m.\u001b[0m\u001b[0mpredict\u001b[0m\u001b[1;33m(\u001b[0m\u001b[0mX_test\u001b[0m\u001b[1;33m)\u001b[0m\u001b[1;33m\u001b[0m\u001b[1;33m\u001b[0m\u001b[0m\n\u001b[0;32m      9\u001b[0m     \u001b[0mfeature_importances\u001b[0m \u001b[1;33m=\u001b[0m \u001b[0mbest_rf_model\u001b[0m\u001b[1;33m.\u001b[0m\u001b[0mfeature_importances_\u001b[0m\u001b[1;33m\u001b[0m\u001b[1;33m\u001b[0m\u001b[0m\n",
      "\u001b[1;32m~\\anaconda3\\envs\\hack2023\\lib\\site-packages\\sklearn\\base.py\u001b[0m in \u001b[0;36m?\u001b[1;34m(estimator, *args, **kwargs)\u001b[0m\n\u001b[0;32m   1147\u001b[0m                 skip_parameter_validation=(\n\u001b[0;32m   1148\u001b[0m                     \u001b[0mprefer_skip_nested_validation\u001b[0m \u001b[1;32mor\u001b[0m \u001b[0mglobal_skip_validation\u001b[0m\u001b[1;33m\u001b[0m\u001b[1;33m\u001b[0m\u001b[0m\n\u001b[0;32m   1149\u001b[0m                 )\n\u001b[0;32m   1150\u001b[0m             ):\n\u001b[1;32m-> 1151\u001b[1;33m                 \u001b[1;32mreturn\u001b[0m \u001b[0mfit_method\u001b[0m\u001b[1;33m(\u001b[0m\u001b[0mestimator\u001b[0m\u001b[1;33m,\u001b[0m \u001b[1;33m*\u001b[0m\u001b[0margs\u001b[0m\u001b[1;33m,\u001b[0m \u001b[1;33m**\u001b[0m\u001b[0mkwargs\u001b[0m\u001b[1;33m)\u001b[0m\u001b[1;33m\u001b[0m\u001b[1;33m\u001b[0m\u001b[0m\n\u001b[0m",
      "\u001b[1;32m~\\anaconda3\\envs\\hack2023\\lib\\site-packages\\sklearn\\ensemble\\_forest.py\u001b[0m in \u001b[0;36m?\u001b[1;34m(self, X, y, sample_weight)\u001b[0m\n\u001b[0;32m    344\u001b[0m         \"\"\"\n\u001b[0;32m    345\u001b[0m         \u001b[1;31m# Validate or convert input data\u001b[0m\u001b[1;33m\u001b[0m\u001b[1;33m\u001b[0m\u001b[0m\n\u001b[0;32m    346\u001b[0m         \u001b[1;32mif\u001b[0m \u001b[0missparse\u001b[0m\u001b[1;33m(\u001b[0m\u001b[0my\u001b[0m\u001b[1;33m)\u001b[0m\u001b[1;33m:\u001b[0m\u001b[1;33m\u001b[0m\u001b[1;33m\u001b[0m\u001b[0m\n\u001b[0;32m    347\u001b[0m             \u001b[1;32mraise\u001b[0m \u001b[0mValueError\u001b[0m\u001b[1;33m(\u001b[0m\u001b[1;34m\"sparse multilabel-indicator for y is not supported.\"\u001b[0m\u001b[1;33m)\u001b[0m\u001b[1;33m\u001b[0m\u001b[1;33m\u001b[0m\u001b[0m\n\u001b[1;32m--> 348\u001b[1;33m         X, y = self._validate_data(\n\u001b[0m\u001b[0;32m    349\u001b[0m             \u001b[0mX\u001b[0m\u001b[1;33m,\u001b[0m \u001b[0my\u001b[0m\u001b[1;33m,\u001b[0m \u001b[0mmulti_output\u001b[0m\u001b[1;33m=\u001b[0m\u001b[1;32mTrue\u001b[0m\u001b[1;33m,\u001b[0m \u001b[0maccept_sparse\u001b[0m\u001b[1;33m=\u001b[0m\u001b[1;34m\"csc\"\u001b[0m\u001b[1;33m,\u001b[0m \u001b[0mdtype\u001b[0m\u001b[1;33m=\u001b[0m\u001b[0mDTYPE\u001b[0m\u001b[1;33m\u001b[0m\u001b[1;33m\u001b[0m\u001b[0m\n\u001b[0;32m    350\u001b[0m         )\n\u001b[0;32m    351\u001b[0m         \u001b[1;32mif\u001b[0m \u001b[0msample_weight\u001b[0m \u001b[1;32mis\u001b[0m \u001b[1;32mnot\u001b[0m \u001b[1;32mNone\u001b[0m\u001b[1;33m:\u001b[0m\u001b[1;33m\u001b[0m\u001b[1;33m\u001b[0m\u001b[0m\n",
      "\u001b[1;32m~\\anaconda3\\envs\\hack2023\\lib\\site-packages\\sklearn\\base.py\u001b[0m in \u001b[0;36m?\u001b[1;34m(self, X, y, reset, validate_separately, cast_to_ndarray, **check_params)\u001b[0m\n\u001b[0;32m    617\u001b[0m                 \u001b[1;32mif\u001b[0m \u001b[1;34m\"estimator\"\u001b[0m \u001b[1;32mnot\u001b[0m \u001b[1;32min\u001b[0m \u001b[0mcheck_y_params\u001b[0m\u001b[1;33m:\u001b[0m\u001b[1;33m\u001b[0m\u001b[1;33m\u001b[0m\u001b[0m\n\u001b[0;32m    618\u001b[0m                     \u001b[0mcheck_y_params\u001b[0m \u001b[1;33m=\u001b[0m \u001b[1;33m{\u001b[0m\u001b[1;33m**\u001b[0m\u001b[0mdefault_check_params\u001b[0m\u001b[1;33m,\u001b[0m \u001b[1;33m**\u001b[0m\u001b[0mcheck_y_params\u001b[0m\u001b[1;33m}\u001b[0m\u001b[1;33m\u001b[0m\u001b[1;33m\u001b[0m\u001b[0m\n\u001b[0;32m    619\u001b[0m                 \u001b[0my\u001b[0m \u001b[1;33m=\u001b[0m \u001b[0mcheck_array\u001b[0m\u001b[1;33m(\u001b[0m\u001b[0my\u001b[0m\u001b[1;33m,\u001b[0m \u001b[0minput_name\u001b[0m\u001b[1;33m=\u001b[0m\u001b[1;34m\"y\"\u001b[0m\u001b[1;33m,\u001b[0m \u001b[1;33m**\u001b[0m\u001b[0mcheck_y_params\u001b[0m\u001b[1;33m)\u001b[0m\u001b[1;33m\u001b[0m\u001b[1;33m\u001b[0m\u001b[0m\n\u001b[0;32m    620\u001b[0m             \u001b[1;32melse\u001b[0m\u001b[1;33m:\u001b[0m\u001b[1;33m\u001b[0m\u001b[1;33m\u001b[0m\u001b[0m\n\u001b[1;32m--> 621\u001b[1;33m                 \u001b[0mX\u001b[0m\u001b[1;33m,\u001b[0m \u001b[0my\u001b[0m \u001b[1;33m=\u001b[0m \u001b[0mcheck_X_y\u001b[0m\u001b[1;33m(\u001b[0m\u001b[0mX\u001b[0m\u001b[1;33m,\u001b[0m \u001b[0my\u001b[0m\u001b[1;33m,\u001b[0m \u001b[1;33m**\u001b[0m\u001b[0mcheck_params\u001b[0m\u001b[1;33m)\u001b[0m\u001b[1;33m\u001b[0m\u001b[1;33m\u001b[0m\u001b[0m\n\u001b[0m\u001b[0;32m    622\u001b[0m             \u001b[0mout\u001b[0m \u001b[1;33m=\u001b[0m \u001b[0mX\u001b[0m\u001b[1;33m,\u001b[0m \u001b[0my\u001b[0m\u001b[1;33m\u001b[0m\u001b[1;33m\u001b[0m\u001b[0m\n\u001b[0;32m    623\u001b[0m \u001b[1;33m\u001b[0m\u001b[0m\n\u001b[0;32m    624\u001b[0m         \u001b[1;32mif\u001b[0m \u001b[1;32mnot\u001b[0m \u001b[0mno_val_X\u001b[0m \u001b[1;32mand\u001b[0m \u001b[0mcheck_params\u001b[0m\u001b[1;33m.\u001b[0m\u001b[0mget\u001b[0m\u001b[1;33m(\u001b[0m\u001b[1;34m\"ensure_2d\"\u001b[0m\u001b[1;33m,\u001b[0m \u001b[1;32mTrue\u001b[0m\u001b[1;33m)\u001b[0m\u001b[1;33m:\u001b[0m\u001b[1;33m\u001b[0m\u001b[1;33m\u001b[0m\u001b[0m\n",
      "\u001b[1;32m~\\anaconda3\\envs\\hack2023\\lib\\site-packages\\sklearn\\utils\\validation.py\u001b[0m in \u001b[0;36m?\u001b[1;34m(X, y, accept_sparse, accept_large_sparse, dtype, order, copy, force_all_finite, ensure_2d, allow_nd, multi_output, ensure_min_samples, ensure_min_features, y_numeric, estimator)\u001b[0m\n\u001b[0;32m   1143\u001b[0m         raise ValueError(\n\u001b[0;32m   1144\u001b[0m             \u001b[1;34mf\"{estimator_name} requires y to be passed, but the target y is None\"\u001b[0m\u001b[1;33m\u001b[0m\u001b[1;33m\u001b[0m\u001b[0m\n\u001b[0;32m   1145\u001b[0m         )\n\u001b[0;32m   1146\u001b[0m \u001b[1;33m\u001b[0m\u001b[0m\n\u001b[1;32m-> 1147\u001b[1;33m     X = check_array(\n\u001b[0m\u001b[0;32m   1148\u001b[0m         \u001b[0mX\u001b[0m\u001b[1;33m,\u001b[0m\u001b[1;33m\u001b[0m\u001b[1;33m\u001b[0m\u001b[0m\n\u001b[0;32m   1149\u001b[0m         \u001b[0maccept_sparse\u001b[0m\u001b[1;33m=\u001b[0m\u001b[0maccept_sparse\u001b[0m\u001b[1;33m,\u001b[0m\u001b[1;33m\u001b[0m\u001b[1;33m\u001b[0m\u001b[0m\n\u001b[0;32m   1150\u001b[0m         \u001b[0maccept_large_sparse\u001b[0m\u001b[1;33m=\u001b[0m\u001b[0maccept_large_sparse\u001b[0m\u001b[1;33m,\u001b[0m\u001b[1;33m\u001b[0m\u001b[1;33m\u001b[0m\u001b[0m\n",
      "\u001b[1;32m~\\anaconda3\\envs\\hack2023\\lib\\site-packages\\sklearn\\utils\\validation.py\u001b[0m in \u001b[0;36m?\u001b[1;34m(array, accept_sparse, accept_large_sparse, dtype, order, copy, force_all_finite, ensure_2d, allow_nd, ensure_min_samples, ensure_min_features, estimator, input_name)\u001b[0m\n\u001b[0;32m    915\u001b[0m                     \u001b[0marray\u001b[0m \u001b[1;33m=\u001b[0m \u001b[0mxp\u001b[0m\u001b[1;33m.\u001b[0m\u001b[0mastype\u001b[0m\u001b[1;33m(\u001b[0m\u001b[0marray\u001b[0m\u001b[1;33m,\u001b[0m \u001b[0mdtype\u001b[0m\u001b[1;33m,\u001b[0m \u001b[0mcopy\u001b[0m\u001b[1;33m=\u001b[0m\u001b[1;32mFalse\u001b[0m\u001b[1;33m)\u001b[0m\u001b[1;33m\u001b[0m\u001b[1;33m\u001b[0m\u001b[0m\n\u001b[0;32m    916\u001b[0m                 \u001b[1;32melse\u001b[0m\u001b[1;33m:\u001b[0m\u001b[1;33m\u001b[0m\u001b[1;33m\u001b[0m\u001b[0m\n\u001b[0;32m    917\u001b[0m                     \u001b[0marray\u001b[0m \u001b[1;33m=\u001b[0m \u001b[0m_asarray_with_order\u001b[0m\u001b[1;33m(\u001b[0m\u001b[0marray\u001b[0m\u001b[1;33m,\u001b[0m \u001b[0morder\u001b[0m\u001b[1;33m=\u001b[0m\u001b[0morder\u001b[0m\u001b[1;33m,\u001b[0m \u001b[0mdtype\u001b[0m\u001b[1;33m=\u001b[0m\u001b[0mdtype\u001b[0m\u001b[1;33m,\u001b[0m \u001b[0mxp\u001b[0m\u001b[1;33m=\u001b[0m\u001b[0mxp\u001b[0m\u001b[1;33m)\u001b[0m\u001b[1;33m\u001b[0m\u001b[1;33m\u001b[0m\u001b[0m\n\u001b[0;32m    918\u001b[0m             \u001b[1;32mexcept\u001b[0m \u001b[0mComplexWarning\u001b[0m \u001b[1;32mas\u001b[0m \u001b[0mcomplex_warning\u001b[0m\u001b[1;33m:\u001b[0m\u001b[1;33m\u001b[0m\u001b[1;33m\u001b[0m\u001b[0m\n\u001b[1;32m--> 919\u001b[1;33m                 raise ValueError(\n\u001b[0m\u001b[0;32m    920\u001b[0m                     \u001b[1;34m\"Complex data not supported\\n{}\\n\"\u001b[0m\u001b[1;33m.\u001b[0m\u001b[0mformat\u001b[0m\u001b[1;33m(\u001b[0m\u001b[0marray\u001b[0m\u001b[1;33m)\u001b[0m\u001b[1;33m\u001b[0m\u001b[1;33m\u001b[0m\u001b[0m\n\u001b[0;32m    921\u001b[0m                 ) from complex_warning\n\u001b[0;32m    922\u001b[0m \u001b[1;33m\u001b[0m\u001b[0m\n",
      "\u001b[1;32m~\\anaconda3\\envs\\hack2023\\lib\\site-packages\\sklearn\\utils\\_array_api.py\u001b[0m in \u001b[0;36m?\u001b[1;34m(array, dtype, order, copy, xp)\u001b[0m\n\u001b[0;32m    376\u001b[0m         \u001b[1;31m# Use NumPy API to support order\u001b[0m\u001b[1;33m\u001b[0m\u001b[1;33m\u001b[0m\u001b[0m\n\u001b[0;32m    377\u001b[0m         \u001b[1;32mif\u001b[0m \u001b[0mcopy\u001b[0m \u001b[1;32mis\u001b[0m \u001b[1;32mTrue\u001b[0m\u001b[1;33m:\u001b[0m\u001b[1;33m\u001b[0m\u001b[1;33m\u001b[0m\u001b[0m\n\u001b[0;32m    378\u001b[0m             \u001b[0marray\u001b[0m \u001b[1;33m=\u001b[0m \u001b[0mnumpy\u001b[0m\u001b[1;33m.\u001b[0m\u001b[0marray\u001b[0m\u001b[1;33m(\u001b[0m\u001b[0marray\u001b[0m\u001b[1;33m,\u001b[0m \u001b[0morder\u001b[0m\u001b[1;33m=\u001b[0m\u001b[0morder\u001b[0m\u001b[1;33m,\u001b[0m \u001b[0mdtype\u001b[0m\u001b[1;33m=\u001b[0m\u001b[0mdtype\u001b[0m\u001b[1;33m)\u001b[0m\u001b[1;33m\u001b[0m\u001b[1;33m\u001b[0m\u001b[0m\n\u001b[0;32m    379\u001b[0m         \u001b[1;32melse\u001b[0m\u001b[1;33m:\u001b[0m\u001b[1;33m\u001b[0m\u001b[1;33m\u001b[0m\u001b[0m\n\u001b[1;32m--> 380\u001b[1;33m             \u001b[0marray\u001b[0m \u001b[1;33m=\u001b[0m \u001b[0mnumpy\u001b[0m\u001b[1;33m.\u001b[0m\u001b[0masarray\u001b[0m\u001b[1;33m(\u001b[0m\u001b[0marray\u001b[0m\u001b[1;33m,\u001b[0m \u001b[0morder\u001b[0m\u001b[1;33m=\u001b[0m\u001b[0morder\u001b[0m\u001b[1;33m,\u001b[0m \u001b[0mdtype\u001b[0m\u001b[1;33m=\u001b[0m\u001b[0mdtype\u001b[0m\u001b[1;33m)\u001b[0m\u001b[1;33m\u001b[0m\u001b[1;33m\u001b[0m\u001b[0m\n\u001b[0m\u001b[0;32m    381\u001b[0m \u001b[1;33m\u001b[0m\u001b[0m\n\u001b[0;32m    382\u001b[0m         \u001b[1;31m# At this point array is a NumPy ndarray. We convert it to an array\u001b[0m\u001b[1;33m\u001b[0m\u001b[1;33m\u001b[0m\u001b[0m\n\u001b[0;32m    383\u001b[0m         \u001b[1;31m# container that is consistent with the input's namespace.\u001b[0m\u001b[1;33m\u001b[0m\u001b[1;33m\u001b[0m\u001b[0m\n",
      "\u001b[1;32m~\\anaconda3\\envs\\hack2023\\lib\\site-packages\\pandas\\core\\generic.py\u001b[0m in \u001b[0;36m?\u001b[1;34m(self, dtype)\u001b[0m\n\u001b[0;32m   1996\u001b[0m     \u001b[1;32mdef\u001b[0m \u001b[0m__array__\u001b[0m\u001b[1;33m(\u001b[0m\u001b[0mself\u001b[0m\u001b[1;33m,\u001b[0m \u001b[0mdtype\u001b[0m\u001b[1;33m:\u001b[0m \u001b[0mnpt\u001b[0m\u001b[1;33m.\u001b[0m\u001b[0mDTypeLike\u001b[0m \u001b[1;33m|\u001b[0m \u001b[1;32mNone\u001b[0m \u001b[1;33m=\u001b[0m \u001b[1;32mNone\u001b[0m\u001b[1;33m)\u001b[0m \u001b[1;33m->\u001b[0m \u001b[0mnp\u001b[0m\u001b[1;33m.\u001b[0m\u001b[0mndarray\u001b[0m\u001b[1;33m:\u001b[0m\u001b[1;33m\u001b[0m\u001b[1;33m\u001b[0m\u001b[0m\n\u001b[0;32m   1997\u001b[0m         \u001b[0mvalues\u001b[0m \u001b[1;33m=\u001b[0m \u001b[0mself\u001b[0m\u001b[1;33m.\u001b[0m\u001b[0m_values\u001b[0m\u001b[1;33m\u001b[0m\u001b[1;33m\u001b[0m\u001b[0m\n\u001b[1;32m-> 1998\u001b[1;33m         \u001b[0marr\u001b[0m \u001b[1;33m=\u001b[0m \u001b[0mnp\u001b[0m\u001b[1;33m.\u001b[0m\u001b[0masarray\u001b[0m\u001b[1;33m(\u001b[0m\u001b[0mvalues\u001b[0m\u001b[1;33m,\u001b[0m \u001b[0mdtype\u001b[0m\u001b[1;33m=\u001b[0m\u001b[0mdtype\u001b[0m\u001b[1;33m)\u001b[0m\u001b[1;33m\u001b[0m\u001b[1;33m\u001b[0m\u001b[0m\n\u001b[0m\u001b[0;32m   1999\u001b[0m         if (\n\u001b[0;32m   2000\u001b[0m             \u001b[0mastype_is_view\u001b[0m\u001b[1;33m(\u001b[0m\u001b[0mvalues\u001b[0m\u001b[1;33m.\u001b[0m\u001b[0mdtype\u001b[0m\u001b[1;33m,\u001b[0m \u001b[0marr\u001b[0m\u001b[1;33m.\u001b[0m\u001b[0mdtype\u001b[0m\u001b[1;33m)\u001b[0m\u001b[1;33m\u001b[0m\u001b[1;33m\u001b[0m\u001b[0m\n\u001b[0;32m   2001\u001b[0m             \u001b[1;32mand\u001b[0m \u001b[0musing_copy_on_write\u001b[0m\u001b[1;33m(\u001b[0m\u001b[1;33m)\u001b[0m\u001b[1;33m\u001b[0m\u001b[1;33m\u001b[0m\u001b[0m\n",
      "\u001b[1;31mValueError\u001b[0m: could not convert string to float: '3PT_SHOT'"
     ]
    }
   ],
   "source": [
    "get_importance(model_df, 'score_miss')"
   ]
  },
  {
   "cell_type": "code",
   "execution_count": null,
   "id": "213aa6ae",
   "metadata": {},
   "outputs": [],
   "source": []
  },
  {
   "cell_type": "code",
   "execution_count": 24,
   "id": "029d07da",
   "metadata": {},
   "outputs": [],
   "source": [
    "dummy_cols = ['shotType', 'period', 'position', 'Team']"
   ]
  },
  {
   "cell_type": "code",
   "execution_count": 25,
   "id": "05883f44",
   "metadata": {},
   "outputs": [],
   "source": [
    "def get_dummy(df, dummy_cols):\n",
    "    for col in dummy_cols:\n",
    "        dummy = pd.get_dummies(df[col], prefix=col, drop_first=False, dtype=int)\n",
    "        df = pd.concat([df, dummy], axis=1)\n",
    "    df.drop(dummy_cols, axis = 1, inplace = True)\n",
    "    return df"
   ]
  },
  {
   "cell_type": "code",
   "execution_count": 26,
   "id": "f2e6ed6a",
   "metadata": {},
   "outputs": [],
   "source": [
    "model_df_2 = get_dummy(model_df, dummy_cols)"
   ]
  },
  {
   "cell_type": "code",
   "execution_count": 27,
   "id": "87320c41",
   "metadata": {},
   "outputs": [
    {
     "data": {
      "text/html": [
       "<div>\n",
       "<style scoped>\n",
       "    .dataframe tbody tr th:only-of-type {\n",
       "        vertical-align: middle;\n",
       "    }\n",
       "\n",
       "    .dataframe tbody tr th {\n",
       "        vertical-align: top;\n",
       "    }\n",
       "\n",
       "    .dataframe thead th {\n",
       "        text-align: right;\n",
       "    }\n",
       "</style>\n",
       "<table border=\"1\" class=\"dataframe\">\n",
       "  <thead>\n",
       "    <tr style=\"text-align: right;\">\n",
       "      <th></th>\n",
       "      <th>shotClock</th>\n",
       "      <th>x</th>\n",
       "      <th>y</th>\n",
       "      <th>closest_opponent_dist</th>\n",
       "      <th>height</th>\n",
       "      <th>opponent_strength</th>\n",
       "      <th>score_miss</th>\n",
       "      <th>shotType_2PT_DRIBBLE SHOT</th>\n",
       "      <th>shotType_2PT_PAINT</th>\n",
       "      <th>shotType_2PT_SHOT</th>\n",
       "      <th>shotType_3PT_DRIBBLE SHOT</th>\n",
       "      <th>shotType_3PT_SHOT</th>\n",
       "      <th>period_1.0</th>\n",
       "      <th>period_2.0</th>\n",
       "      <th>period_3.0</th>\n",
       "      <th>period_4.0</th>\n",
       "      <th>position_C</th>\n",
       "      <th>position_F</th>\n",
       "      <th>position_F-C</th>\n",
       "      <th>position_G</th>\n",
       "      <th>position_G-F</th>\n",
       "      <th>Team_away</th>\n",
       "      <th>Team_home</th>\n",
       "    </tr>\n",
       "  </thead>\n",
       "  <tbody>\n",
       "    <tr>\n",
       "      <th>0</th>\n",
       "      <td>10.2</td>\n",
       "      <td>-27.89</td>\n",
       "      <td>6.74</td>\n",
       "      <td>6.20</td>\n",
       "      <td>81.0</td>\n",
       "      <td>0.0359</td>\n",
       "      <td>1</td>\n",
       "      <td>0</td>\n",
       "      <td>0</td>\n",
       "      <td>1</td>\n",
       "      <td>0</td>\n",
       "      <td>0</td>\n",
       "      <td>0</td>\n",
       "      <td>1</td>\n",
       "      <td>0</td>\n",
       "      <td>0</td>\n",
       "      <td>0</td>\n",
       "      <td>0</td>\n",
       "      <td>1</td>\n",
       "      <td>0</td>\n",
       "      <td>0</td>\n",
       "      <td>0</td>\n",
       "      <td>1</td>\n",
       "    </tr>\n",
       "    <tr>\n",
       "      <th>1</th>\n",
       "      <td>16.6</td>\n",
       "      <td>16.43</td>\n",
       "      <td>1.74</td>\n",
       "      <td>4.96</td>\n",
       "      <td>81.0</td>\n",
       "      <td>0.0567</td>\n",
       "      <td>0</td>\n",
       "      <td>0</td>\n",
       "      <td>0</td>\n",
       "      <td>0</td>\n",
       "      <td>0</td>\n",
       "      <td>1</td>\n",
       "      <td>0</td>\n",
       "      <td>0</td>\n",
       "      <td>1</td>\n",
       "      <td>0</td>\n",
       "      <td>0</td>\n",
       "      <td>0</td>\n",
       "      <td>1</td>\n",
       "      <td>0</td>\n",
       "      <td>0</td>\n",
       "      <td>0</td>\n",
       "      <td>1</td>\n",
       "    </tr>\n",
       "    <tr>\n",
       "      <th>2</th>\n",
       "      <td>13.0</td>\n",
       "      <td>43.06</td>\n",
       "      <td>-23.07</td>\n",
       "      <td>9.29</td>\n",
       "      <td>81.0</td>\n",
       "      <td>0.0134</td>\n",
       "      <td>1</td>\n",
       "      <td>0</td>\n",
       "      <td>0</td>\n",
       "      <td>0</td>\n",
       "      <td>0</td>\n",
       "      <td>1</td>\n",
       "      <td>0</td>\n",
       "      <td>0</td>\n",
       "      <td>1</td>\n",
       "      <td>0</td>\n",
       "      <td>0</td>\n",
       "      <td>0</td>\n",
       "      <td>1</td>\n",
       "      <td>0</td>\n",
       "      <td>0</td>\n",
       "      <td>0</td>\n",
       "      <td>1</td>\n",
       "    </tr>\n",
       "    <tr>\n",
       "      <th>3</th>\n",
       "      <td>10.9</td>\n",
       "      <td>38.34</td>\n",
       "      <td>23.42</td>\n",
       "      <td>6.19</td>\n",
       "      <td>81.0</td>\n",
       "      <td>0.0540</td>\n",
       "      <td>1</td>\n",
       "      <td>0</td>\n",
       "      <td>0</td>\n",
       "      <td>0</td>\n",
       "      <td>0</td>\n",
       "      <td>1</td>\n",
       "      <td>0</td>\n",
       "      <td>0</td>\n",
       "      <td>1</td>\n",
       "      <td>0</td>\n",
       "      <td>0</td>\n",
       "      <td>0</td>\n",
       "      <td>1</td>\n",
       "      <td>0</td>\n",
       "      <td>0</td>\n",
       "      <td>0</td>\n",
       "      <td>1</td>\n",
       "    </tr>\n",
       "    <tr>\n",
       "      <th>4</th>\n",
       "      <td>11.1</td>\n",
       "      <td>24.33</td>\n",
       "      <td>-19.77</td>\n",
       "      <td>4.91</td>\n",
       "      <td>81.0</td>\n",
       "      <td>0.0540</td>\n",
       "      <td>1</td>\n",
       "      <td>0</td>\n",
       "      <td>0</td>\n",
       "      <td>0</td>\n",
       "      <td>0</td>\n",
       "      <td>1</td>\n",
       "      <td>0</td>\n",
       "      <td>0</td>\n",
       "      <td>1</td>\n",
       "      <td>0</td>\n",
       "      <td>0</td>\n",
       "      <td>0</td>\n",
       "      <td>1</td>\n",
       "      <td>0</td>\n",
       "      <td>0</td>\n",
       "      <td>0</td>\n",
       "      <td>1</td>\n",
       "    </tr>\n",
       "  </tbody>\n",
       "</table>\n",
       "</div>"
      ],
      "text/plain": [
       "   shotClock      x      y  closest_opponent_dist  height  opponent_strength  \\\n",
       "0       10.2 -27.89   6.74                   6.20    81.0             0.0359   \n",
       "1       16.6  16.43   1.74                   4.96    81.0             0.0567   \n",
       "2       13.0  43.06 -23.07                   9.29    81.0             0.0134   \n",
       "3       10.9  38.34  23.42                   6.19    81.0             0.0540   \n",
       "4       11.1  24.33 -19.77                   4.91    81.0             0.0540   \n",
       "\n",
       "   score_miss  shotType_2PT_DRIBBLE SHOT  shotType_2PT_PAINT  \\\n",
       "0           1                          0                   0   \n",
       "1           0                          0                   0   \n",
       "2           1                          0                   0   \n",
       "3           1                          0                   0   \n",
       "4           1                          0                   0   \n",
       "\n",
       "   shotType_2PT_SHOT  shotType_3PT_DRIBBLE SHOT  shotType_3PT_SHOT  \\\n",
       "0                  1                          0                  0   \n",
       "1                  0                          0                  1   \n",
       "2                  0                          0                  1   \n",
       "3                  0                          0                  1   \n",
       "4                  0                          0                  1   \n",
       "\n",
       "   period_1.0  period_2.0  period_3.0  period_4.0  position_C  position_F  \\\n",
       "0           0           1           0           0           0           0   \n",
       "1           0           0           1           0           0           0   \n",
       "2           0           0           1           0           0           0   \n",
       "3           0           0           1           0           0           0   \n",
       "4           0           0           1           0           0           0   \n",
       "\n",
       "   position_F-C  position_G  position_G-F  Team_away  Team_home  \n",
       "0             1           0             0          0          1  \n",
       "1             1           0             0          0          1  \n",
       "2             1           0             0          0          1  \n",
       "3             1           0             0          0          1  \n",
       "4             1           0             0          0          1  "
      ]
     },
     "execution_count": 27,
     "metadata": {},
     "output_type": "execute_result"
    }
   ],
   "source": [
    "model_df_2.head()"
   ]
  },
  {
   "cell_type": "code",
   "execution_count": 28,
   "id": "808c40c9",
   "metadata": {},
   "outputs": [],
   "source": [
    "lr_pipeline = Pipeline([('lr', LogisticRegression())])\n",
    "\n",
    "rf_pipeline = Pipeline([('rf', RandomForestClassifier())])\n",
    "\n",
    "nb_pipeline = Pipeline([('nb', GaussianNB())])\n",
    "\n",
    "xgb_pipeline = Pipeline([('xgb', XGBClassifier())])\n",
    "\n",
    "pipelines = [lr_pipeline, rf_pipeline, nb_pipeline, xgb_pipeline]"
   ]
  },
  {
   "cell_type": "code",
   "execution_count": 29,
   "id": "7162b921",
   "metadata": {},
   "outputs": [],
   "source": [
    "def metrics_display(model, df, target):\n",
    "    '''display model performence metrics'''\n",
    "    X_train, X_test, y_train, y_test = train_test_split(df.drop(columns=target), \n",
    "                                                    df[target], test_size=0.25, \n",
    "                                                    random_state=47)    \n",
    "    model.fit(X_train,y_train)\n",
    "    y_pred = model.predict(X_test)\n",
    "    \n",
    "    print(classification_report(y_test,y_pred))\n",
    "    cm = confusion_matrix(y_test, y_pred, labels=model.classes_)\n",
    "    disp = ConfusionMatrixDisplay(confusion_matrix=cm, display_labels=model.classes_)\n",
    "\n",
    "    fig, ax = plt.subplots(figsize=(2, 2))  \n",
    "    disp.plot(ax=ax,cmap=plt.cm.Blues, colorbar = False)  \n",
    "    plt.grid(False)\n",
    "    plt.show()  "
   ]
  },
  {
   "cell_type": "code",
   "execution_count": 30,
   "id": "42c076b0",
   "metadata": {},
   "outputs": [],
   "source": [
    "def modeling(df, target, scale = True):\n",
    "    X_train, X_test, y_train, y_test = train_test_split(df.drop(columns=target), \n",
    "                                                    df[target], test_size=0.25, \n",
    "                                                    random_state=47)\n",
    "    if scale == True:\n",
    "        scaler = MinMaxScaler()\n",
    "        scaler.fit(X_train)\n",
    "        X_train = scaler.transform(X_train)\n",
    "        X_test= scaler.transform(X_test)\n",
    "    else: \n",
    "        pass\n",
    "    \n",
    "    #oversampler = RandomOverSampler(sampling_strategy='auto', random_state=42)\n",
    "    #X_train, y_train = oversampler.fit_resample(X_train, y_train)\n",
    "    \n",
    "    highest_accuracy = 0.0\n",
    "    best_pipeline = None\n",
    "\n",
    "    for pipeline in pipelines:\n",
    "        pipeline.fit(X_train, y_train)\n",
    "        y_pred = pipeline.predict(X_test)\n",
    "        accuracy = accuracy_score(y_test, y_pred)\n",
    "        model_name = pipeline.steps[-1][1].__class__.__name__\n",
    "        print(f'{model_name} Accuracy: {accuracy:.2f}')\n",
    "\n",
    "        if accuracy > highest_accuracy:\n",
    "            highest_accuracy = accuracy\n",
    "            best_pipeline = pipeline   \n",
    "        else: pass\n",
    "        \n",
    "    print(' ')\n",
    "    print('Best model: ' + best_pipeline.steps[-1][1].__class__.__name__)\n",
    "    metrics_display(best_pipeline, df, target)"
   ]
  },
  {
   "cell_type": "code",
   "execution_count": 31,
   "id": "245295da",
   "metadata": {
    "collapsed": true
   },
   "outputs": [
    {
     "name": "stdout",
     "output_type": "stream",
     "text": [
      "LogisticRegression Accuracy: 0.63\n",
      "RandomForestClassifier Accuracy: 0.59\n",
      "GaussianNB Accuracy: 0.62\n",
      "XGBClassifier Accuracy: 0.58\n",
      " \n",
      "Best model: LogisticRegression\n",
      "              precision    recall  f1-score   support\n",
      "\n",
      "           0       0.64      0.72      0.68       411\n",
      "           1       0.59      0.50      0.54       335\n",
      "\n",
      "    accuracy                           0.62       746\n",
      "   macro avg       0.62      0.61      0.61       746\n",
      "weighted avg       0.62      0.62      0.62       746\n",
      "\n"
     ]
    },
    {
     "data": {
      "image/png": "[encoded data removed]",
      "text/plain": [
       "<Figure size 200x200 with 1 Axes>"
      ]
     },
     "metadata": {},
     "output_type": "display_data"
    }
   ],
   "source": [
    "#modeling(model_df_2, 'score_miss')"
   ]
  },
  {
   "cell_type": "code",
   "execution_count": 32,
   "id": "6a810cc1",
   "metadata": {
    "collapsed": true
   },
   "outputs": [
    {
     "name": "stdout",
     "output_type": "stream",
     "text": [
      "LogisticRegression Accuracy: 0.62\n",
      "RandomForestClassifier Accuracy: 0.60\n",
      "GaussianNB Accuracy: 0.62\n",
      "XGBClassifier Accuracy: 0.58\n",
      " \n",
      "Best model: LogisticRegression\n",
      "              precision    recall  f1-score   support\n",
      "\n",
      "           0       0.64      0.72      0.68       411\n",
      "           1       0.59      0.50      0.54       335\n",
      "\n",
      "    accuracy                           0.62       746\n",
      "   macro avg       0.62      0.61      0.61       746\n",
      "weighted avg       0.62      0.62      0.62       746\n",
      "\n"
     ]
    },
    {
     "data": {
      "image/png": "[encoded data removed]",
      "text/plain": [
       "<Figure size 200x200 with 1 Axes>"
      ]
     },
     "metadata": {},
     "output_type": "display_data"
    }
   ],
   "source": [
    "#modeling(model_df_2, 'score_miss', scale = False)"
   ]
  },
  {
   "cell_type": "code",
   "execution_count": 33,
   "id": "e950790f",
   "metadata": {},
   "outputs": [],
   "source": [
    "def logistic_Grid_CV(df, target):\n",
    "    X_train, X_test, y_train, y_test = train_test_split(\n",
    "        df.drop(columns=target), df[target], test_size=0.25, random_state=47)\n",
    "\n",
    "    scaler = MinMaxScaler()\n",
    "    scaler.fit(X_train)\n",
    "    X_train = scaler.transform(X_train)\n",
    "    X_test= scaler.transform(X_test)\n",
    "        \n",
    "    param_grid = {\n",
    "        'C': [0.01, 0.1, 0.5, 1.0, 10.0],  \n",
    "        'penalty': ['l1', 'l2'],           \n",
    "        'solver': ['liblinear', 'saga'],   \n",
    "        'max_iter': [100, 500, 1000]       \n",
    "    }\n",
    "    \n",
    "    logistic_model = LogisticRegression() \n",
    "    grid_search = GridSearchCV(logistic_model, param_grid, cv=5, scoring=make_scorer(accuracy_score))\n",
    "    grid_search.fit(X_train, y_train)\n",
    "    \n",
    "    best_params = grid_search.best_params_\n",
    "    print(\"Best hyperparameters:\", best_params)\n",
    "    best_logistic_model = grid_search.best_estimator_\n",
    "\n",
    "    y_pred = best_logistic_model.predict(X_test)\n",
    "    \n",
    "    print(classification_report(y_test,y_pred))\n",
    "    cm = confusion_matrix(y_test, y_pred, labels=best_logistic_model.classes_)\n",
    "    disp = ConfusionMatrixDisplay(confusion_matrix=cm, display_labels=best_logistic_model.classes_)\n",
    "\n",
    "    fig, ax = plt.subplots(figsize=(2, 2))  \n",
    "    disp.plot(ax=ax,cmap=plt.cm.Blues, colorbar = False)  \n",
    "    plt.grid(False)\n",
    "    plt.show()  \n"
   ]
  },
  {
   "cell_type": "code",
   "execution_count": 34,
   "id": "431ec9c7",
   "metadata": {},
   "outputs": [],
   "source": [
    "#logistic_Grid_CV(model_df_2, 'score_miss')"
   ]
  },
  {
   "cell_type": "code",
   "execution_count": 35,
   "id": "2c0c58bf",
   "metadata": {},
   "outputs": [],
   "source": [
    "#model_df_3 = model_df_2[['shotClock', 'x', 'y', 'closest_opponent_dist', 'height', 'opponent_strength', 'score_miss', 'shotType_2PT_PAINT']]"
   ]
  },
  {
   "cell_type": "code",
   "execution_count": 36,
   "id": "57ef6ae1",
   "metadata": {},
   "outputs": [],
   "source": [
    "#model_df_3.to_csv('new_data/model3_df.csv', index = False)"
   ]
  },
  {
   "cell_type": "code",
   "execution_count": 37,
   "id": "5b8d49a9",
   "metadata": {},
   "outputs": [],
   "source": [
    "#model_df_2.to_csv('new_data/model2_df.csv', index = False)"
   ]
  },
  {
   "cell_type": "code",
   "execution_count": 70,
   "id": "e0624e78",
   "metadata": {},
   "outputs": [],
   "source": [
    "X_train, X_test, y_train, y_test = train_test_split(\n",
    "    model_df_2.drop(columns='score_miss'), model_df_2['score_miss'], test_size=0.25, random_state=47)\n",
    "\n",
    "scaler = MinMaxScaler()\n",
    "scaler.fit(X_train)\n",
    "X_train_transformed = scaler.transform(X_train)\n",
    "X_test_transformed = scaler.transform(X_test)\n",
    "\n",
    "param_grid = {\n",
    "    'C': [0.01, 0.1, 0.5, 1.0, 10.0],  \n",
    "    'penalty': ['l1', 'l2'],           \n",
    "    'solver': ['liblinear', 'saga'],   \n",
    "    'max_iter': [100, 500, 1000]       \n",
    "}\n",
    "\n",
    "logistic_model = LogisticRegression() \n",
    "grid_search = GridSearchCV(logistic_model, param_grid, cv=5, scoring=make_scorer(accuracy_score))\n",
    "grid_search.fit(X_train_transformed, y_train)\n",
    "\n",
    "best_params = grid_search.best_params_\n",
    "best_logistic_model = grid_search.best_estimator_"
   ]
  },
  {
   "cell_type": "code",
   "execution_count": 72,
   "id": "c40004cb",
   "metadata": {},
   "outputs": [
    {
     "name": "stdout",
     "output_type": "stream",
     "text": [
      "              precision    recall  f1-score   support\n",
      "\n",
      "           0       0.64      0.76      0.69       411\n",
      "           1       0.61      0.47      0.53       335\n",
      "\n",
      "    accuracy                           0.63       746\n",
      "   macro avg       0.63      0.61      0.61       746\n",
      "weighted avg       0.63      0.63      0.62       746\n",
      "\n"
     ]
    },
    {
     "data": {
      "image/png": "[encoded data removed]",
      "text/plain": [
       "<Figure size 200x200 with 1 Axes>"
      ]
     },
     "metadata": {},
     "output_type": "display_data"
    }
   ],
   "source": [
    "y_pred = best_logistic_model.predict(X_test_transformed)\n",
    "\n",
    "print(classification_report(y_test,y_pred))\n",
    "cm = confusion_matrix(y_test, y_pred, labels=best_logistic_model.classes_)\n",
    "disp = ConfusionMatrixDisplay(confusion_matrix=cm, display_labels=best_logistic_model.classes_)\n",
    "\n",
    "fig, ax = plt.subplots(figsize=(2, 2))  \n",
    "disp.plot(ax=ax,cmap=plt.cm.Blues, colorbar = False)  \n",
    "plt.grid(False)\n",
    "plt.show()  "
   ]
  },
  {
   "cell_type": "code",
   "execution_count": 73,
   "id": "5477c557",
   "metadata": {},
   "outputs": [],
   "source": [
    "X_col = X_train.columns"
   ]
  },
  {
   "cell_type": "code",
   "execution_count": 74,
   "id": "9870e374",
   "metadata": {},
   "outputs": [
    {
     "data": {
      "text/plain": [
       "Index(['shotClock', 'x', 'y', 'closest_opponent_dist', 'height',\n",
       "       'opponent_strength', 'shotType_2PT_DRIBBLE SHOT', 'shotType_2PT_PAINT',\n",
       "       'shotType_2PT_SHOT', 'shotType_3PT_DRIBBLE SHOT', 'shotType_3PT_SHOT',\n",
       "       'period_1.0', 'period_2.0', 'period_3.0', 'period_4.0', 'position_C',\n",
       "       'position_F', 'position_F-C', 'position_G', 'position_G-F', 'Team_away',\n",
       "       'Team_home'],\n",
       "      dtype='object')"
      ]
     },
     "execution_count": 74,
     "metadata": {},
     "output_type": "execute_result"
    }
   ],
   "source": [
    "X_col"
   ]
  },
  {
   "cell_type": "code",
   "execution_count": 75,
   "id": "fe763a70",
   "metadata": {},
   "outputs": [],
   "source": [
    "def get_predict(player):\n",
    "    df = all_player_shots[all_player_shots['name'] == player]\n",
    "    df = df[['shotType', 'shotClock', 'period', 'x', 'y',\n",
    "       'closest_opponent_dist', 'height', 'position', 'Team',\n",
    "       'opponent_strength', 'score_miss']]\n",
    "    df['shotType'] = df['shotType'].astype('category')\n",
    "    df['period'] = df['period'].astype('category')\n",
    "    df['position'] = df['position'].astype('category')\n",
    "    df = get_dummy(df, dummy_cols)\n",
    "    df_X = df.drop(columns = 'score_miss')\n",
    "    for col in X_col:\n",
    "        if col not in df_X.columns:\n",
    "            df_X[col] = 0\n",
    "    df_X = df_X[X_col]\n",
    "    df_X = scaler.transform(df_X)\n",
    "    predict = best_logistic_model.predict(df_X)\n",
    "    #print(df_X)\n",
    "    return predict"
   ]
  },
  {
   "cell_type": "code",
   "execution_count": 87,
   "id": "9a3c00cb",
   "metadata": {},
   "outputs": [],
   "source": [
    "bX_dict = {}"
   ]
  },
  {
   "cell_type": "code",
   "execution_count": 89,
   "id": "13358d1d",
   "metadata": {},
   "outputs": [],
   "source": [
    "def count_bX(player):\n",
    "    df= pd.DataFrame()\n",
    "    df['true'] = all_player_shots[all_player_shots['name'] == player]['score_miss'].replace({'score': 1, 'miss': 0}) \n",
    "    df['predict'] = get_predict(player)\n",
    "    df['compare'] = df['true'] - df['predict']\n",
    "    bX_dict[player] = df['compare'].mean()"
   ]
  },
  {
   "cell_type": "code",
   "execution_count": 92,
   "id": "3bb0f0e1",
   "metadata": {},
   "outputs": [],
   "source": [
    "for player in player_list:\n",
    "    count_bX(player)"
   ]
  },
  {
   "cell_type": "code",
   "execution_count": 93,
   "id": "a3daaf65",
   "metadata": {},
   "outputs": [
    {
     "data": {
      "text/plain": [
       "{'Gabe Vincent': 0.2692307692307692,\n",
       " 'Omer Yurtseven': -0.5,\n",
       " 'Haywood Highsmith': -0.5,\n",
       " 'Bam Adebayo': -0.27848101265822783,\n",
       " 'Duncan Robinson': 0.18181818181818182,\n",
       " 'Victor Oladipo': 0.12903225806451613,\n",
       " 'Tyler Herro': 0.18604651162790697,\n",
       " 'Dewayne Dedmon': -0.1,\n",
       " 'Caleb Martin': 0.13513513513513514,\n",
       " 'Max Strus': 0.21212121212121213,\n",
       " 'Jimmy Butler': 0.038461538461538464,\n",
       " 'P.J. Tucker': 0.07692307692307693,\n",
       " 'Al Horford': -0.11363636363636363,\n",
       " 'Payton Pritchard': 0.25,\n",
       " 'Nik Stauskas': 0.3,\n",
       " 'Aaron Nesmith': 0.06666666666666667,\n",
       " 'Grant Williams': 0.05172413793103448,\n",
       " 'Robert Williams III': -0.22641509433962265,\n",
       " 'Daniel Theis': -0.18181818181818182,\n",
       " 'Jayson Tatum': 0.11392405063291139,\n",
       " 'Marcus Smart': 0.11038961038961038,\n",
       " 'Juwan Morgan': 0.0,\n",
       " 'Jaylen Brown': 0.18143459915611815,\n",
       " 'Luke Kornet': -0.25}"
      ]
     },
     "execution_count": 93,
     "metadata": {},
     "output_type": "execute_result"
    }
   ],
   "source": [
    "bX_dict "
   ]
  },
  {
   "cell_type": "code",
   "execution_count": 96,
   "id": "deaef5c5",
   "metadata": {},
   "outputs": [
    {
     "data": {
      "text/plain": [
       "Text(0.5, 1.0, 'Player bX')"
      ]
     },
     "execution_count": 96,
     "metadata": {},
     "output_type": "execute_result"
    },
    {
     "data": {
      "image/png": "[encoded data removed]",
      "text/plain": [
       "<Figure size 1200x600 with 1 Axes>"
      ]
     },
     "metadata": {},
     "output_type": "display_data"
    }
   ],
   "source": [
    "players = list(bX_dict.keys())\n",
    "scores = list(bX_dict.values())\n",
    "plt.figure(figsize=(12, 6))\n",
    "plt.barh(players, scores, color='skyblue')\n",
    "plt.xlabel('Scores')\n",
    "plt.ylabel('Players')\n",
    "plt.title('Player bX')"
   ]
  },
  {
   "cell_type": "code",
   "execution_count": 91,
   "id": "077f7e86",
   "metadata": {},
   "outputs": [],
   "source": [
    "player_list = ['Gabe Vincent',\n",
    "   'Omer Yurtseven',\n",
    "   'Haywood Highsmith',\n",
    "   'Bam Adebayo',\n",
    "   'Duncan Robinson',\n",
    "   'Victor Oladipo',\n",
    "   'Tyler Herro',\n",
    "   'Dewayne Dedmon',\n",
    "   'Caleb Martin',\n",
    "   'Max Strus',\n",
    "   'Jimmy Butler',\n",
    "   'P.J. Tucker','Al Horford',\n",
    "   'Payton Pritchard',\n",
    "   'Nik Stauskas',\n",
    "   'Aaron Nesmith',\n",
    "   'Grant Williams',\n",
    "   'Robert Williams III',\n",
    "   'Daniel Theis',\n",
    "   'Jayson Tatum',\n",
    "   'Marcus Smart',\n",
    "   'Juwan Morgan',\n",
    "   'Jaylen Brown',\n",
    "   'Luke Kornet']"
   ]
  },
  {
   "cell_type": "code",
   "execution_count": null,
   "id": "15799344",
   "metadata": {},
   "outputs": [],
   "source": []
  },
  {
   "cell_type": "code",
   "execution_count": null,
   "id": "0c907d53",
   "metadata": {},
   "outputs": [],
   "source": []
  },
  {
   "cell_type": "code",
   "execution_count": null,
   "id": "2d2cbbf9",
   "metadata": {},
   "outputs": [],
   "source": []
  },
  {
   "cell_type": "code",
   "execution_count": null,
   "id": "d9f63d33",
   "metadata": {},
   "outputs": [],
   "source": []
  },
  {
   "cell_type": "code",
   "execution_count": null,
   "id": "c8311804",
   "metadata": {},
   "outputs": [],
   "source": []
  },
  {
   "cell_type": "code",
   "execution_count": null,
   "id": "1a3e8273",
   "metadata": {},
   "outputs": [],
   "source": []
  },
  {
   "cell_type": "code",
   "execution_count": 178,
   "id": "e2deca4e",
   "metadata": {},
   "outputs": [
    {
     "data": {
      "text/plain": [
       "['new_data/model2.pkl']"
      ]
     },
     "execution_count": 178,
     "metadata": {},
     "output_type": "execute_result"
    }
   ],
   "source": [
    "joblib.dump(best_logistic_model, 'new_data/model2.pkl')"
   ]
  },
  {
   "cell_type": "code",
   "execution_count": 93,
   "id": "0a6a23cc",
   "metadata": {},
   "outputs": [],
   "source": [
    "def rf_Grid_CV(df, target):\n",
    "    X_train, X_test, y_train, y_test = train_test_split(\n",
    "        df.drop(columns=target), df[target], test_size=0.25, random_state=47)\n",
    "    \n",
    "    oversampler = RandomOverSampler(sampling_strategy='auto', random_state=42)\n",
    "    X_train, y_train = oversampler.fit_resample(X_train, y_train)\n",
    "    \n",
    "    param_grid = {\n",
    "        'n_estimators': [100, 200, 300],             # Number of trees in the forest\n",
    "        'max_depth': [None, 10, 20, 30],             # Maximum depth of the tree\n",
    "        'min_samples_split': [2, 5, 10],             # Minimum number of samples required to split an internal node\n",
    "        'min_samples_leaf': [1, 2, 4]                # Minimum number of samples required to be at a leaf node\n",
    "    }\n",
    "    \n",
    "    rf_model = RandomForestClassifier(random_state=42)\n",
    "    grid_search = GridSearchCV(rf_model, param_grid, cv=5, scoring=make_scorer(accuracy_score))\n",
    "    grid_search.fit(X_train, y_train)\n",
    "    \n",
    "    best_params = grid_search.best_params_\n",
    "    print(\"Best hyperparameters:\", best_params)\n",
    "    best_rf_model = grid_search.best_estimator_\n",
    "\n",
    "    y_pred = best_rf_model.predict(X_test)\n",
    "    feature_importances = best_rf_model.feature_importances_\n",
    "    features = X_train.columns\n",
    "    \n",
    "    print(classification_report(y_test,y_pred))\n",
    "    cm = confusion_matrix(y_test, y_pred, labels=best_rf_model.classes_)\n",
    "    disp = ConfusionMatrixDisplay(confusion_matrix=cm, display_labels=best_rf_model.classes_)\n",
    "\n",
    "    fig, ax = plt.subplots(figsize=(2, 2))  \n",
    "    disp.plot(ax=ax,cmap=plt.cm.Blues, colorbar = False)  \n",
    "    plt.grid(False)\n",
    "    plt.show()  \n",
    "    \n",
    "    feature_importance_df = pd.DataFrame({'Feature': features, 'Importance': feature_importances})\n",
    "    sorted_feature_importance_df = feature_importance_df.sort_values(by='Importance', ascending=False)\n",
    "    sorted_feature_importance_df = sorted_feature_importance_df.reset_index(drop = True)\n",
    "    print(sorted_feature_importance_df)\n",
    "\n",
    "    plt.figure(figsize=(8, 5))\n",
    "    plt.bar(sorted_feature_importance_df['Feature'], sorted_feature_importance_df['Importance'], color = 'lavender')\n",
    "    plt.xticks(rotation=90)\n",
    "    plt.xlabel('Feature')\n",
    "    plt.ylabel('Importance')\n",
    "    plt.title('Feature Importances in Random Forest (Best Model)')\n",
    "    plt.tight_layout()\n",
    "    plt.show()\n",
    "    \n",
    "    return best_rf_model, feature_importances"
   ]
  },
  {
   "cell_type": "code",
   "execution_count": 94,
   "id": "51a84cdb",
   "metadata": {},
   "outputs": [
    {
     "name": "stdout",
     "output_type": "stream",
     "text": [
      "Best hyperparameters: {'max_depth': 20, 'min_samples_leaf': 1, 'min_samples_split': 5, 'n_estimators': 100}\n",
      "              precision    recall  f1-score   support\n",
      "\n",
      "           0       0.61      0.67      0.64       406\n",
      "           1       0.55      0.49      0.52       340\n",
      "\n",
      "    accuracy                           0.59       746\n",
      "   macro avg       0.58      0.58      0.58       746\n",
      "weighted avg       0.58      0.59      0.58       746\n",
      "\n"
     ]
    },
    {
     "data": {
      "image/png": "[encoded data removed]",
      "text/plain": [
       "<Figure size 200x200 with 1 Axes>"
      ]
     },
     "metadata": {},
     "output_type": "display_data"
    },
    {
     "name": "stdout",
     "output_type": "stream",
     "text": [
      "                      Feature  Importance\n",
      "0                           y    0.153493\n",
      "1                   shotClock    0.151956\n",
      "2                           x    0.151776\n",
      "3       closest_opponent_dist    0.148774\n",
      "4           opponent_strength    0.112871\n",
      "5          shotType_2PT_PAINT    0.022644\n",
      "6                  period_2.0    0.016922\n",
      "7                  period_4.0    0.015901\n",
      "8                  period_1.0    0.015670\n",
      "9                  period_3.0    0.015519\n",
      "10                  Team_away    0.015467\n",
      "11                  Team_home    0.014744\n",
      "12                 position_G    0.014561\n",
      "13                  height_LM    0.014300\n",
      "14                   height_L    0.014147\n",
      "15               position_G-F    0.013735\n",
      "16                 position_F    0.013717\n",
      "17                  height_LL    0.012126\n",
      "18          shotType_3PT_SHOT    0.012013\n",
      "19                  height_MH    0.011424\n",
      "20  shotType_3PT_DRIBBLE SHOT    0.011272\n",
      "21  shotType_2PT_DRIBBLE SHOT    0.010981\n",
      "22                   height_H    0.010519\n",
      "23                  height_HH    0.009850\n",
      "24               position_F-C    0.008898\n",
      "25          shotType_2PT_SHOT    0.005244\n",
      "26                 position_C    0.001477\n"
     ]
    },
    {
     "data": {
      "image/png": "[encoded data removed]",
      "text/plain": [
       "<Figure size 800x500 with 1 Axes>"
      ]
     },
     "metadata": {},
     "output_type": "display_data"
    }
   ],
   "source": [
    "best_model, feature_importances = rf_Grid_CV(model_df_2, 'score_miss')"
   ]
  },
  {
   "cell_type": "code",
   "execution_count": 100,
   "id": "b19cc5ab",
   "metadata": {},
   "outputs": [],
   "source": [
    "model_df_3 = model_df_2[['y', 'x',  'opponent_strength', 'score_miss']]"
   ]
  },
  {
   "cell_type": "code",
   "execution_count": 101,
   "id": "8e38bd1b",
   "metadata": {
    "collapsed": true
   },
   "outputs": [
    {
     "ename": "KeyboardInterrupt",
     "evalue": "",
     "output_type": "error",
     "traceback": [
      "\u001b[1;31m---------------------------------------------------------------------------\u001b[0m",
      "\u001b[1;31mKeyboardInterrupt\u001b[0m                         Traceback (most recent call last)",
      "Cell \u001b[1;32mIn[101], line 1\u001b[0m\n\u001b[1;32m----> 1\u001b[0m \u001b[43mrf_Grid_CV\u001b[49m\u001b[43m(\u001b[49m\u001b[43mmodel_df_3\u001b[49m\u001b[43m,\u001b[49m\u001b[43m \u001b[49m\u001b[38;5;124;43m'\u001b[39;49m\u001b[38;5;124;43mscore_miss\u001b[39;49m\u001b[38;5;124;43m'\u001b[39;49m\u001b[43m)\u001b[49m\n",
      "Cell \u001b[1;32mIn[93], line 17\u001b[0m, in \u001b[0;36mrf_Grid_CV\u001b[1;34m(df, target)\u001b[0m\n\u001b[0;32m     15\u001b[0m rf_model \u001b[38;5;241m=\u001b[39m RandomForestClassifier(random_state\u001b[38;5;241m=\u001b[39m\u001b[38;5;241m42\u001b[39m)\n\u001b[0;32m     16\u001b[0m grid_search \u001b[38;5;241m=\u001b[39m GridSearchCV(rf_model, param_grid, cv\u001b[38;5;241m=\u001b[39m\u001b[38;5;241m5\u001b[39m, scoring\u001b[38;5;241m=\u001b[39mmake_scorer(accuracy_score))\n\u001b[1;32m---> 17\u001b[0m \u001b[43mgrid_search\u001b[49m\u001b[38;5;241;43m.\u001b[39;49m\u001b[43mfit\u001b[49m\u001b[43m(\u001b[49m\u001b[43mX_train\u001b[49m\u001b[43m,\u001b[49m\u001b[43m \u001b[49m\u001b[43my_train\u001b[49m\u001b[43m)\u001b[49m\n\u001b[0;32m     19\u001b[0m best_params \u001b[38;5;241m=\u001b[39m grid_search\u001b[38;5;241m.\u001b[39mbest_params_\n\u001b[0;32m     20\u001b[0m \u001b[38;5;28mprint\u001b[39m(\u001b[38;5;124m\"\u001b[39m\u001b[38;5;124mBest hyperparameters:\u001b[39m\u001b[38;5;124m\"\u001b[39m, best_params)\n",
      "File \u001b[1;32m~\\anaconda3\\envs\\hack2023\\lib\\site-packages\\sklearn\\base.py:1151\u001b[0m, in \u001b[0;36m_fit_context.<locals>.decorator.<locals>.wrapper\u001b[1;34m(estimator, *args, **kwargs)\u001b[0m\n\u001b[0;32m   1144\u001b[0m     estimator\u001b[38;5;241m.\u001b[39m_validate_params()\n\u001b[0;32m   1146\u001b[0m \u001b[38;5;28;01mwith\u001b[39;00m config_context(\n\u001b[0;32m   1147\u001b[0m     skip_parameter_validation\u001b[38;5;241m=\u001b[39m(\n\u001b[0;32m   1148\u001b[0m         prefer_skip_nested_validation \u001b[38;5;129;01mor\u001b[39;00m global_skip_validation\n\u001b[0;32m   1149\u001b[0m     )\n\u001b[0;32m   1150\u001b[0m ):\n\u001b[1;32m-> 1151\u001b[0m     \u001b[38;5;28;01mreturn\u001b[39;00m fit_method(estimator, \u001b[38;5;241m*\u001b[39margs, \u001b[38;5;241m*\u001b[39m\u001b[38;5;241m*\u001b[39mkwargs)\n",
      "File \u001b[1;32m~\\anaconda3\\envs\\hack2023\\lib\\site-packages\\sklearn\\model_selection\\_search.py:898\u001b[0m, in \u001b[0;36mBaseSearchCV.fit\u001b[1;34m(self, X, y, groups, **fit_params)\u001b[0m\n\u001b[0;32m    892\u001b[0m     results \u001b[38;5;241m=\u001b[39m \u001b[38;5;28mself\u001b[39m\u001b[38;5;241m.\u001b[39m_format_results(\n\u001b[0;32m    893\u001b[0m         all_candidate_params, n_splits, all_out, all_more_results\n\u001b[0;32m    894\u001b[0m     )\n\u001b[0;32m    896\u001b[0m     \u001b[38;5;28;01mreturn\u001b[39;00m results\n\u001b[1;32m--> 898\u001b[0m \u001b[38;5;28;43mself\u001b[39;49m\u001b[38;5;241;43m.\u001b[39;49m\u001b[43m_run_search\u001b[49m\u001b[43m(\u001b[49m\u001b[43mevaluate_candidates\u001b[49m\u001b[43m)\u001b[49m\n\u001b[0;32m    900\u001b[0m \u001b[38;5;66;03m# multimetric is determined here because in the case of a callable\u001b[39;00m\n\u001b[0;32m    901\u001b[0m \u001b[38;5;66;03m# self.scoring the return type is only known after calling\u001b[39;00m\n\u001b[0;32m    902\u001b[0m first_test_score \u001b[38;5;241m=\u001b[39m all_out[\u001b[38;5;241m0\u001b[39m][\u001b[38;5;124m\"\u001b[39m\u001b[38;5;124mtest_scores\u001b[39m\u001b[38;5;124m\"\u001b[39m]\n",
      "File \u001b[1;32m~\\anaconda3\\envs\\hack2023\\lib\\site-packages\\sklearn\\model_selection\\_search.py:1419\u001b[0m, in \u001b[0;36mGridSearchCV._run_search\u001b[1;34m(self, evaluate_candidates)\u001b[0m\n\u001b[0;32m   1417\u001b[0m \u001b[38;5;28;01mdef\u001b[39;00m \u001b[38;5;21m_run_search\u001b[39m(\u001b[38;5;28mself\u001b[39m, evaluate_candidates):\n\u001b[0;32m   1418\u001b[0m \u001b[38;5;250m    \u001b[39m\u001b[38;5;124;03m\"\"\"Search all candidates in param_grid\"\"\"\u001b[39;00m\n\u001b[1;32m-> 1419\u001b[0m     \u001b[43mevaluate_candidates\u001b[49m\u001b[43m(\u001b[49m\u001b[43mParameterGrid\u001b[49m\u001b[43m(\u001b[49m\u001b[38;5;28;43mself\u001b[39;49m\u001b[38;5;241;43m.\u001b[39;49m\u001b[43mparam_grid\u001b[49m\u001b[43m)\u001b[49m\u001b[43m)\u001b[49m\n",
      "File \u001b[1;32m~\\anaconda3\\envs\\hack2023\\lib\\site-packages\\sklearn\\model_selection\\_search.py:845\u001b[0m, in \u001b[0;36mBaseSearchCV.fit.<locals>.evaluate_candidates\u001b[1;34m(candidate_params, cv, more_results)\u001b[0m\n\u001b[0;32m    837\u001b[0m \u001b[38;5;28;01mif\u001b[39;00m \u001b[38;5;28mself\u001b[39m\u001b[38;5;241m.\u001b[39mverbose \u001b[38;5;241m>\u001b[39m \u001b[38;5;241m0\u001b[39m:\n\u001b[0;32m    838\u001b[0m     \u001b[38;5;28mprint\u001b[39m(\n\u001b[0;32m    839\u001b[0m         \u001b[38;5;124m\"\u001b[39m\u001b[38;5;124mFitting \u001b[39m\u001b[38;5;132;01m{0}\u001b[39;00m\u001b[38;5;124m folds for each of \u001b[39m\u001b[38;5;132;01m{1}\u001b[39;00m\u001b[38;5;124m candidates,\u001b[39m\u001b[38;5;124m\"\u001b[39m\n\u001b[0;32m    840\u001b[0m         \u001b[38;5;124m\"\u001b[39m\u001b[38;5;124m totalling \u001b[39m\u001b[38;5;132;01m{2}\u001b[39;00m\u001b[38;5;124m fits\u001b[39m\u001b[38;5;124m\"\u001b[39m\u001b[38;5;241m.\u001b[39mformat(\n\u001b[0;32m    841\u001b[0m             n_splits, n_candidates, n_candidates \u001b[38;5;241m*\u001b[39m n_splits\n\u001b[0;32m    842\u001b[0m         )\n\u001b[0;32m    843\u001b[0m     )\n\u001b[1;32m--> 845\u001b[0m out \u001b[38;5;241m=\u001b[39m \u001b[43mparallel\u001b[49m\u001b[43m(\u001b[49m\n\u001b[0;32m    846\u001b[0m \u001b[43m    \u001b[49m\u001b[43mdelayed\u001b[49m\u001b[43m(\u001b[49m\u001b[43m_fit_and_score\u001b[49m\u001b[43m)\u001b[49m\u001b[43m(\u001b[49m\n\u001b[0;32m    847\u001b[0m \u001b[43m        \u001b[49m\u001b[43mclone\u001b[49m\u001b[43m(\u001b[49m\u001b[43mbase_estimator\u001b[49m\u001b[43m)\u001b[49m\u001b[43m,\u001b[49m\n\u001b[0;32m    848\u001b[0m \u001b[43m        \u001b[49m\u001b[43mX\u001b[49m\u001b[43m,\u001b[49m\n\u001b[0;32m    849\u001b[0m \u001b[43m        \u001b[49m\u001b[43my\u001b[49m\u001b[43m,\u001b[49m\n\u001b[0;32m    850\u001b[0m \u001b[43m        \u001b[49m\u001b[43mtrain\u001b[49m\u001b[38;5;241;43m=\u001b[39;49m\u001b[43mtrain\u001b[49m\u001b[43m,\u001b[49m\n\u001b[0;32m    851\u001b[0m \u001b[43m        \u001b[49m\u001b[43mtest\u001b[49m\u001b[38;5;241;43m=\u001b[39;49m\u001b[43mtest\u001b[49m\u001b[43m,\u001b[49m\n\u001b[0;32m    852\u001b[0m \u001b[43m        \u001b[49m\u001b[43mparameters\u001b[49m\u001b[38;5;241;43m=\u001b[39;49m\u001b[43mparameters\u001b[49m\u001b[43m,\u001b[49m\n\u001b[0;32m    853\u001b[0m \u001b[43m        \u001b[49m\u001b[43msplit_progress\u001b[49m\u001b[38;5;241;43m=\u001b[39;49m\u001b[43m(\u001b[49m\u001b[43msplit_idx\u001b[49m\u001b[43m,\u001b[49m\u001b[43m \u001b[49m\u001b[43mn_splits\u001b[49m\u001b[43m)\u001b[49m\u001b[43m,\u001b[49m\n\u001b[0;32m    854\u001b[0m \u001b[43m        \u001b[49m\u001b[43mcandidate_progress\u001b[49m\u001b[38;5;241;43m=\u001b[39;49m\u001b[43m(\u001b[49m\u001b[43mcand_idx\u001b[49m\u001b[43m,\u001b[49m\u001b[43m \u001b[49m\u001b[43mn_candidates\u001b[49m\u001b[43m)\u001b[49m\u001b[43m,\u001b[49m\n\u001b[0;32m    855\u001b[0m \u001b[43m        \u001b[49m\u001b[38;5;241;43m*\u001b[39;49m\u001b[38;5;241;43m*\u001b[39;49m\u001b[43mfit_and_score_kwargs\u001b[49m\u001b[43m,\u001b[49m\n\u001b[0;32m    856\u001b[0m \u001b[43m    \u001b[49m\u001b[43m)\u001b[49m\n\u001b[0;32m    857\u001b[0m \u001b[43m    \u001b[49m\u001b[38;5;28;43;01mfor\u001b[39;49;00m\u001b[43m \u001b[49m\u001b[43m(\u001b[49m\u001b[43mcand_idx\u001b[49m\u001b[43m,\u001b[49m\u001b[43m \u001b[49m\u001b[43mparameters\u001b[49m\u001b[43m)\u001b[49m\u001b[43m,\u001b[49m\u001b[43m \u001b[49m\u001b[43m(\u001b[49m\u001b[43msplit_idx\u001b[49m\u001b[43m,\u001b[49m\u001b[43m \u001b[49m\u001b[43m(\u001b[49m\u001b[43mtrain\u001b[49m\u001b[43m,\u001b[49m\u001b[43m \u001b[49m\u001b[43mtest\u001b[49m\u001b[43m)\u001b[49m\u001b[43m)\u001b[49m\u001b[43m \u001b[49m\u001b[38;5;129;43;01min\u001b[39;49;00m\u001b[43m \u001b[49m\u001b[43mproduct\u001b[49m\u001b[43m(\u001b[49m\n\u001b[0;32m    858\u001b[0m \u001b[43m        \u001b[49m\u001b[38;5;28;43menumerate\u001b[39;49m\u001b[43m(\u001b[49m\u001b[43mcandidate_params\u001b[49m\u001b[43m)\u001b[49m\u001b[43m,\u001b[49m\u001b[43m \u001b[49m\u001b[38;5;28;43menumerate\u001b[39;49m\u001b[43m(\u001b[49m\u001b[43mcv\u001b[49m\u001b[38;5;241;43m.\u001b[39;49m\u001b[43msplit\u001b[49m\u001b[43m(\u001b[49m\u001b[43mX\u001b[49m\u001b[43m,\u001b[49m\u001b[43m \u001b[49m\u001b[43my\u001b[49m\u001b[43m,\u001b[49m\u001b[43m \u001b[49m\u001b[43mgroups\u001b[49m\u001b[43m)\u001b[49m\u001b[43m)\u001b[49m\n\u001b[0;32m    859\u001b[0m \u001b[43m    \u001b[49m\u001b[43m)\u001b[49m\n\u001b[0;32m    860\u001b[0m \u001b[43m\u001b[49m\u001b[43m)\u001b[49m\n\u001b[0;32m    862\u001b[0m \u001b[38;5;28;01mif\u001b[39;00m \u001b[38;5;28mlen\u001b[39m(out) \u001b[38;5;241m<\u001b[39m \u001b[38;5;241m1\u001b[39m:\n\u001b[0;32m    863\u001b[0m     \u001b[38;5;28;01mraise\u001b[39;00m \u001b[38;5;167;01mValueError\u001b[39;00m(\n\u001b[0;32m    864\u001b[0m         \u001b[38;5;124m\"\u001b[39m\u001b[38;5;124mNo fits were performed. \u001b[39m\u001b[38;5;124m\"\u001b[39m\n\u001b[0;32m    865\u001b[0m         \u001b[38;5;124m\"\u001b[39m\u001b[38;5;124mWas the CV iterator empty? \u001b[39m\u001b[38;5;124m\"\u001b[39m\n\u001b[0;32m    866\u001b[0m         \u001b[38;5;124m\"\u001b[39m\u001b[38;5;124mWere there no candidates?\u001b[39m\u001b[38;5;124m\"\u001b[39m\n\u001b[0;32m    867\u001b[0m     )\n",
      "File \u001b[1;32m~\\anaconda3\\envs\\hack2023\\lib\\site-packages\\sklearn\\utils\\parallel.py:65\u001b[0m, in \u001b[0;36mParallel.__call__\u001b[1;34m(self, iterable)\u001b[0m\n\u001b[0;32m     60\u001b[0m config \u001b[38;5;241m=\u001b[39m get_config()\n\u001b[0;32m     61\u001b[0m iterable_with_config \u001b[38;5;241m=\u001b[39m (\n\u001b[0;32m     62\u001b[0m     (_with_config(delayed_func, config), args, kwargs)\n\u001b[0;32m     63\u001b[0m     \u001b[38;5;28;01mfor\u001b[39;00m delayed_func, args, kwargs \u001b[38;5;129;01min\u001b[39;00m iterable\n\u001b[0;32m     64\u001b[0m )\n\u001b[1;32m---> 65\u001b[0m \u001b[38;5;28;01mreturn\u001b[39;00m \u001b[38;5;28;43msuper\u001b[39;49m\u001b[43m(\u001b[49m\u001b[43m)\u001b[49m\u001b[38;5;241;43m.\u001b[39;49m\u001b[38;5;21;43m__call__\u001b[39;49m\u001b[43m(\u001b[49m\u001b[43miterable_with_config\u001b[49m\u001b[43m)\u001b[49m\n",
      "File \u001b[1;32m~\\anaconda3\\envs\\hack2023\\lib\\site-packages\\joblib\\parallel.py:1855\u001b[0m, in \u001b[0;36mParallel.__call__\u001b[1;34m(self, iterable)\u001b[0m\n\u001b[0;32m   1853\u001b[0m     output \u001b[38;5;241m=\u001b[39m \u001b[38;5;28mself\u001b[39m\u001b[38;5;241m.\u001b[39m_get_sequential_output(iterable)\n\u001b[0;32m   1854\u001b[0m     \u001b[38;5;28mnext\u001b[39m(output)\n\u001b[1;32m-> 1855\u001b[0m     \u001b[38;5;28;01mreturn\u001b[39;00m output \u001b[38;5;28;01mif\u001b[39;00m \u001b[38;5;28mself\u001b[39m\u001b[38;5;241m.\u001b[39mreturn_generator \u001b[38;5;28;01melse\u001b[39;00m \u001b[38;5;28;43mlist\u001b[39;49m\u001b[43m(\u001b[49m\u001b[43moutput\u001b[49m\u001b[43m)\u001b[49m\n\u001b[0;32m   1857\u001b[0m \u001b[38;5;66;03m# Let's create an ID that uniquely identifies the current call. If the\u001b[39;00m\n\u001b[0;32m   1858\u001b[0m \u001b[38;5;66;03m# call is interrupted early and that the same instance is immediately\u001b[39;00m\n\u001b[0;32m   1859\u001b[0m \u001b[38;5;66;03m# re-used, this id will be used to prevent workers that were\u001b[39;00m\n\u001b[0;32m   1860\u001b[0m \u001b[38;5;66;03m# concurrently finalizing a task from the previous call to run the\u001b[39;00m\n\u001b[0;32m   1861\u001b[0m \u001b[38;5;66;03m# callback.\u001b[39;00m\n\u001b[0;32m   1862\u001b[0m \u001b[38;5;28;01mwith\u001b[39;00m \u001b[38;5;28mself\u001b[39m\u001b[38;5;241m.\u001b[39m_lock:\n",
      "File \u001b[1;32m~\\anaconda3\\envs\\hack2023\\lib\\site-packages\\joblib\\parallel.py:1784\u001b[0m, in \u001b[0;36mParallel._get_sequential_output\u001b[1;34m(self, iterable)\u001b[0m\n\u001b[0;32m   1782\u001b[0m \u001b[38;5;28mself\u001b[39m\u001b[38;5;241m.\u001b[39mn_dispatched_batches \u001b[38;5;241m+\u001b[39m\u001b[38;5;241m=\u001b[39m \u001b[38;5;241m1\u001b[39m\n\u001b[0;32m   1783\u001b[0m \u001b[38;5;28mself\u001b[39m\u001b[38;5;241m.\u001b[39mn_dispatched_tasks \u001b[38;5;241m+\u001b[39m\u001b[38;5;241m=\u001b[39m \u001b[38;5;241m1\u001b[39m\n\u001b[1;32m-> 1784\u001b[0m res \u001b[38;5;241m=\u001b[39m func(\u001b[38;5;241m*\u001b[39margs, \u001b[38;5;241m*\u001b[39m\u001b[38;5;241m*\u001b[39mkwargs)\n\u001b[0;32m   1785\u001b[0m \u001b[38;5;28mself\u001b[39m\u001b[38;5;241m.\u001b[39mn_completed_tasks \u001b[38;5;241m+\u001b[39m\u001b[38;5;241m=\u001b[39m \u001b[38;5;241m1\u001b[39m\n\u001b[0;32m   1786\u001b[0m \u001b[38;5;28mself\u001b[39m\u001b[38;5;241m.\u001b[39mprint_progress()\n",
      "File \u001b[1;32m~\\anaconda3\\envs\\hack2023\\lib\\site-packages\\sklearn\\utils\\parallel.py:127\u001b[0m, in \u001b[0;36m_FuncWrapper.__call__\u001b[1;34m(self, *args, **kwargs)\u001b[0m\n\u001b[0;32m    125\u001b[0m     config \u001b[38;5;241m=\u001b[39m {}\n\u001b[0;32m    126\u001b[0m \u001b[38;5;28;01mwith\u001b[39;00m config_context(\u001b[38;5;241m*\u001b[39m\u001b[38;5;241m*\u001b[39mconfig):\n\u001b[1;32m--> 127\u001b[0m     \u001b[38;5;28;01mreturn\u001b[39;00m \u001b[38;5;28mself\u001b[39m\u001b[38;5;241m.\u001b[39mfunction(\u001b[38;5;241m*\u001b[39margs, \u001b[38;5;241m*\u001b[39m\u001b[38;5;241m*\u001b[39mkwargs)\n",
      "File \u001b[1;32m~\\anaconda3\\envs\\hack2023\\lib\\site-packages\\sklearn\\model_selection\\_validation.py:732\u001b[0m, in \u001b[0;36m_fit_and_score\u001b[1;34m(estimator, X, y, scorer, train, test, verbose, parameters, fit_params, return_train_score, return_parameters, return_n_test_samples, return_times, return_estimator, split_progress, candidate_progress, error_score)\u001b[0m\n\u001b[0;32m    730\u001b[0m         estimator\u001b[38;5;241m.\u001b[39mfit(X_train, \u001b[38;5;241m*\u001b[39m\u001b[38;5;241m*\u001b[39mfit_params)\n\u001b[0;32m    731\u001b[0m     \u001b[38;5;28;01melse\u001b[39;00m:\n\u001b[1;32m--> 732\u001b[0m         estimator\u001b[38;5;241m.\u001b[39mfit(X_train, y_train, \u001b[38;5;241m*\u001b[39m\u001b[38;5;241m*\u001b[39mfit_params)\n\u001b[0;32m    734\u001b[0m \u001b[38;5;28;01mexcept\u001b[39;00m \u001b[38;5;167;01mException\u001b[39;00m:\n\u001b[0;32m    735\u001b[0m     \u001b[38;5;66;03m# Note fit time as time until error\u001b[39;00m\n\u001b[0;32m    736\u001b[0m     fit_time \u001b[38;5;241m=\u001b[39m time\u001b[38;5;241m.\u001b[39mtime() \u001b[38;5;241m-\u001b[39m start_time\n",
      "File \u001b[1;32m~\\anaconda3\\envs\\hack2023\\lib\\site-packages\\sklearn\\base.py:1151\u001b[0m, in \u001b[0;36m_fit_context.<locals>.decorator.<locals>.wrapper\u001b[1;34m(estimator, *args, **kwargs)\u001b[0m\n\u001b[0;32m   1144\u001b[0m     estimator\u001b[38;5;241m.\u001b[39m_validate_params()\n\u001b[0;32m   1146\u001b[0m \u001b[38;5;28;01mwith\u001b[39;00m config_context(\n\u001b[0;32m   1147\u001b[0m     skip_parameter_validation\u001b[38;5;241m=\u001b[39m(\n\u001b[0;32m   1148\u001b[0m         prefer_skip_nested_validation \u001b[38;5;129;01mor\u001b[39;00m global_skip_validation\n\u001b[0;32m   1149\u001b[0m     )\n\u001b[0;32m   1150\u001b[0m ):\n\u001b[1;32m-> 1151\u001b[0m     \u001b[38;5;28;01mreturn\u001b[39;00m fit_method(estimator, \u001b[38;5;241m*\u001b[39margs, \u001b[38;5;241m*\u001b[39m\u001b[38;5;241m*\u001b[39mkwargs)\n",
      "File \u001b[1;32m~\\anaconda3\\envs\\hack2023\\lib\\site-packages\\sklearn\\ensemble\\_forest.py:456\u001b[0m, in \u001b[0;36mBaseForest.fit\u001b[1;34m(self, X, y, sample_weight)\u001b[0m\n\u001b[0;32m    445\u001b[0m trees \u001b[38;5;241m=\u001b[39m [\n\u001b[0;32m    446\u001b[0m     \u001b[38;5;28mself\u001b[39m\u001b[38;5;241m.\u001b[39m_make_estimator(append\u001b[38;5;241m=\u001b[39m\u001b[38;5;28;01mFalse\u001b[39;00m, random_state\u001b[38;5;241m=\u001b[39mrandom_state)\n\u001b[0;32m    447\u001b[0m     \u001b[38;5;28;01mfor\u001b[39;00m i \u001b[38;5;129;01min\u001b[39;00m \u001b[38;5;28mrange\u001b[39m(n_more_estimators)\n\u001b[0;32m    448\u001b[0m ]\n\u001b[0;32m    450\u001b[0m \u001b[38;5;66;03m# Parallel loop: we prefer the threading backend as the Cython code\u001b[39;00m\n\u001b[0;32m    451\u001b[0m \u001b[38;5;66;03m# for fitting the trees is internally releasing the Python GIL\u001b[39;00m\n\u001b[0;32m    452\u001b[0m \u001b[38;5;66;03m# making threading more efficient than multiprocessing in\u001b[39;00m\n\u001b[0;32m    453\u001b[0m \u001b[38;5;66;03m# that case. However, for joblib 0.12+ we respect any\u001b[39;00m\n\u001b[0;32m    454\u001b[0m \u001b[38;5;66;03m# parallel_backend contexts set at a higher level,\u001b[39;00m\n\u001b[0;32m    455\u001b[0m \u001b[38;5;66;03m# since correctness does not rely on using threads.\u001b[39;00m\n\u001b[1;32m--> 456\u001b[0m trees \u001b[38;5;241m=\u001b[39m \u001b[43mParallel\u001b[49m\u001b[43m(\u001b[49m\n\u001b[0;32m    457\u001b[0m \u001b[43m    \u001b[49m\u001b[43mn_jobs\u001b[49m\u001b[38;5;241;43m=\u001b[39;49m\u001b[38;5;28;43mself\u001b[39;49m\u001b[38;5;241;43m.\u001b[39;49m\u001b[43mn_jobs\u001b[49m\u001b[43m,\u001b[49m\n\u001b[0;32m    458\u001b[0m \u001b[43m    \u001b[49m\u001b[43mverbose\u001b[49m\u001b[38;5;241;43m=\u001b[39;49m\u001b[38;5;28;43mself\u001b[39;49m\u001b[38;5;241;43m.\u001b[39;49m\u001b[43mverbose\u001b[49m\u001b[43m,\u001b[49m\n\u001b[0;32m    459\u001b[0m \u001b[43m    \u001b[49m\u001b[43mprefer\u001b[49m\u001b[38;5;241;43m=\u001b[39;49m\u001b[38;5;124;43m\"\u001b[39;49m\u001b[38;5;124;43mthreads\u001b[39;49m\u001b[38;5;124;43m\"\u001b[39;49m\u001b[43m,\u001b[49m\n\u001b[0;32m    460\u001b[0m \u001b[43m\u001b[49m\u001b[43m)\u001b[49m\u001b[43m(\u001b[49m\n\u001b[0;32m    461\u001b[0m \u001b[43m    \u001b[49m\u001b[43mdelayed\u001b[49m\u001b[43m(\u001b[49m\u001b[43m_parallel_build_trees\u001b[49m\u001b[43m)\u001b[49m\u001b[43m(\u001b[49m\n\u001b[0;32m    462\u001b[0m \u001b[43m        \u001b[49m\u001b[43mt\u001b[49m\u001b[43m,\u001b[49m\n\u001b[0;32m    463\u001b[0m \u001b[43m        \u001b[49m\u001b[38;5;28;43mself\u001b[39;49m\u001b[38;5;241;43m.\u001b[39;49m\u001b[43mbootstrap\u001b[49m\u001b[43m,\u001b[49m\n\u001b[0;32m    464\u001b[0m \u001b[43m        \u001b[49m\u001b[43mX\u001b[49m\u001b[43m,\u001b[49m\n\u001b[0;32m    465\u001b[0m \u001b[43m        \u001b[49m\u001b[43my\u001b[49m\u001b[43m,\u001b[49m\n\u001b[0;32m    466\u001b[0m \u001b[43m        \u001b[49m\u001b[43msample_weight\u001b[49m\u001b[43m,\u001b[49m\n\u001b[0;32m    467\u001b[0m \u001b[43m        \u001b[49m\u001b[43mi\u001b[49m\u001b[43m,\u001b[49m\n\u001b[0;32m    468\u001b[0m \u001b[43m        \u001b[49m\u001b[38;5;28;43mlen\u001b[39;49m\u001b[43m(\u001b[49m\u001b[43mtrees\u001b[49m\u001b[43m)\u001b[49m\u001b[43m,\u001b[49m\n\u001b[0;32m    469\u001b[0m \u001b[43m        \u001b[49m\u001b[43mverbose\u001b[49m\u001b[38;5;241;43m=\u001b[39;49m\u001b[38;5;28;43mself\u001b[39;49m\u001b[38;5;241;43m.\u001b[39;49m\u001b[43mverbose\u001b[49m\u001b[43m,\u001b[49m\n\u001b[0;32m    470\u001b[0m \u001b[43m        \u001b[49m\u001b[43mclass_weight\u001b[49m\u001b[38;5;241;43m=\u001b[39;49m\u001b[38;5;28;43mself\u001b[39;49m\u001b[38;5;241;43m.\u001b[39;49m\u001b[43mclass_weight\u001b[49m\u001b[43m,\u001b[49m\n\u001b[0;32m    471\u001b[0m \u001b[43m        \u001b[49m\u001b[43mn_samples_bootstrap\u001b[49m\u001b[38;5;241;43m=\u001b[39;49m\u001b[43mn_samples_bootstrap\u001b[49m\u001b[43m,\u001b[49m\n\u001b[0;32m    472\u001b[0m \u001b[43m    \u001b[49m\u001b[43m)\u001b[49m\n\u001b[0;32m    473\u001b[0m \u001b[43m    \u001b[49m\u001b[38;5;28;43;01mfor\u001b[39;49;00m\u001b[43m \u001b[49m\u001b[43mi\u001b[49m\u001b[43m,\u001b[49m\u001b[43m \u001b[49m\u001b[43mt\u001b[49m\u001b[43m \u001b[49m\u001b[38;5;129;43;01min\u001b[39;49;00m\u001b[43m \u001b[49m\u001b[38;5;28;43menumerate\u001b[39;49m\u001b[43m(\u001b[49m\u001b[43mtrees\u001b[49m\u001b[43m)\u001b[49m\n\u001b[0;32m    474\u001b[0m \u001b[43m\u001b[49m\u001b[43m)\u001b[49m\n\u001b[0;32m    476\u001b[0m \u001b[38;5;66;03m# Collect newly grown trees\u001b[39;00m\n\u001b[0;32m    477\u001b[0m \u001b[38;5;28mself\u001b[39m\u001b[38;5;241m.\u001b[39mestimators_\u001b[38;5;241m.\u001b[39mextend(trees)\n",
      "File \u001b[1;32m~\\anaconda3\\envs\\hack2023\\lib\\site-packages\\sklearn\\utils\\parallel.py:65\u001b[0m, in \u001b[0;36mParallel.__call__\u001b[1;34m(self, iterable)\u001b[0m\n\u001b[0;32m     60\u001b[0m config \u001b[38;5;241m=\u001b[39m get_config()\n\u001b[0;32m     61\u001b[0m iterable_with_config \u001b[38;5;241m=\u001b[39m (\n\u001b[0;32m     62\u001b[0m     (_with_config(delayed_func, config), args, kwargs)\n\u001b[0;32m     63\u001b[0m     \u001b[38;5;28;01mfor\u001b[39;00m delayed_func, args, kwargs \u001b[38;5;129;01min\u001b[39;00m iterable\n\u001b[0;32m     64\u001b[0m )\n\u001b[1;32m---> 65\u001b[0m \u001b[38;5;28;01mreturn\u001b[39;00m \u001b[38;5;28;43msuper\u001b[39;49m\u001b[43m(\u001b[49m\u001b[43m)\u001b[49m\u001b[38;5;241;43m.\u001b[39;49m\u001b[38;5;21;43m__call__\u001b[39;49m\u001b[43m(\u001b[49m\u001b[43miterable_with_config\u001b[49m\u001b[43m)\u001b[49m\n",
      "File \u001b[1;32m~\\anaconda3\\envs\\hack2023\\lib\\site-packages\\joblib\\parallel.py:1855\u001b[0m, in \u001b[0;36mParallel.__call__\u001b[1;34m(self, iterable)\u001b[0m\n\u001b[0;32m   1853\u001b[0m     output \u001b[38;5;241m=\u001b[39m \u001b[38;5;28mself\u001b[39m\u001b[38;5;241m.\u001b[39m_get_sequential_output(iterable)\n\u001b[0;32m   1854\u001b[0m     \u001b[38;5;28mnext\u001b[39m(output)\n\u001b[1;32m-> 1855\u001b[0m     \u001b[38;5;28;01mreturn\u001b[39;00m output \u001b[38;5;28;01mif\u001b[39;00m \u001b[38;5;28mself\u001b[39m\u001b[38;5;241m.\u001b[39mreturn_generator \u001b[38;5;28;01melse\u001b[39;00m \u001b[38;5;28;43mlist\u001b[39;49m\u001b[43m(\u001b[49m\u001b[43moutput\u001b[49m\u001b[43m)\u001b[49m\n\u001b[0;32m   1857\u001b[0m \u001b[38;5;66;03m# Let's create an ID that uniquely identifies the current call. If the\u001b[39;00m\n\u001b[0;32m   1858\u001b[0m \u001b[38;5;66;03m# call is interrupted early and that the same instance is immediately\u001b[39;00m\n\u001b[0;32m   1859\u001b[0m \u001b[38;5;66;03m# re-used, this id will be used to prevent workers that were\u001b[39;00m\n\u001b[0;32m   1860\u001b[0m \u001b[38;5;66;03m# concurrently finalizing a task from the previous call to run the\u001b[39;00m\n\u001b[0;32m   1861\u001b[0m \u001b[38;5;66;03m# callback.\u001b[39;00m\n\u001b[0;32m   1862\u001b[0m \u001b[38;5;28;01mwith\u001b[39;00m \u001b[38;5;28mself\u001b[39m\u001b[38;5;241m.\u001b[39m_lock:\n",
      "File \u001b[1;32m~\\anaconda3\\envs\\hack2023\\lib\\site-packages\\joblib\\parallel.py:1784\u001b[0m, in \u001b[0;36mParallel._get_sequential_output\u001b[1;34m(self, iterable)\u001b[0m\n\u001b[0;32m   1782\u001b[0m \u001b[38;5;28mself\u001b[39m\u001b[38;5;241m.\u001b[39mn_dispatched_batches \u001b[38;5;241m+\u001b[39m\u001b[38;5;241m=\u001b[39m \u001b[38;5;241m1\u001b[39m\n\u001b[0;32m   1783\u001b[0m \u001b[38;5;28mself\u001b[39m\u001b[38;5;241m.\u001b[39mn_dispatched_tasks \u001b[38;5;241m+\u001b[39m\u001b[38;5;241m=\u001b[39m \u001b[38;5;241m1\u001b[39m\n\u001b[1;32m-> 1784\u001b[0m res \u001b[38;5;241m=\u001b[39m func(\u001b[38;5;241m*\u001b[39margs, \u001b[38;5;241m*\u001b[39m\u001b[38;5;241m*\u001b[39mkwargs)\n\u001b[0;32m   1785\u001b[0m \u001b[38;5;28mself\u001b[39m\u001b[38;5;241m.\u001b[39mn_completed_tasks \u001b[38;5;241m+\u001b[39m\u001b[38;5;241m=\u001b[39m \u001b[38;5;241m1\u001b[39m\n\u001b[0;32m   1786\u001b[0m \u001b[38;5;28mself\u001b[39m\u001b[38;5;241m.\u001b[39mprint_progress()\n",
      "File \u001b[1;32m~\\anaconda3\\envs\\hack2023\\lib\\site-packages\\sklearn\\utils\\parallel.py:127\u001b[0m, in \u001b[0;36m_FuncWrapper.__call__\u001b[1;34m(self, *args, **kwargs)\u001b[0m\n\u001b[0;32m    125\u001b[0m     config \u001b[38;5;241m=\u001b[39m {}\n\u001b[0;32m    126\u001b[0m \u001b[38;5;28;01mwith\u001b[39;00m config_context(\u001b[38;5;241m*\u001b[39m\u001b[38;5;241m*\u001b[39mconfig):\n\u001b[1;32m--> 127\u001b[0m     \u001b[38;5;28;01mreturn\u001b[39;00m \u001b[38;5;28mself\u001b[39m\u001b[38;5;241m.\u001b[39mfunction(\u001b[38;5;241m*\u001b[39margs, \u001b[38;5;241m*\u001b[39m\u001b[38;5;241m*\u001b[39mkwargs)\n",
      "File \u001b[1;32m~\\anaconda3\\envs\\hack2023\\lib\\site-packages\\sklearn\\ensemble\\_forest.py:175\u001b[0m, in \u001b[0;36m_parallel_build_trees\u001b[1;34m(tree, bootstrap, X, y, sample_weight, tree_idx, n_trees, verbose, class_weight, n_samples_bootstrap)\u001b[0m\n\u001b[0;32m    172\u001b[0m \u001b[38;5;28;01melse\u001b[39;00m:\n\u001b[0;32m    173\u001b[0m     curr_sample_weight \u001b[38;5;241m=\u001b[39m sample_weight\u001b[38;5;241m.\u001b[39mcopy()\n\u001b[1;32m--> 175\u001b[0m indices \u001b[38;5;241m=\u001b[39m \u001b[43m_generate_sample_indices\u001b[49m\u001b[43m(\u001b[49m\n\u001b[0;32m    176\u001b[0m \u001b[43m    \u001b[49m\u001b[43mtree\u001b[49m\u001b[38;5;241;43m.\u001b[39;49m\u001b[43mrandom_state\u001b[49m\u001b[43m,\u001b[49m\u001b[43m \u001b[49m\u001b[43mn_samples\u001b[49m\u001b[43m,\u001b[49m\u001b[43m \u001b[49m\u001b[43mn_samples_bootstrap\u001b[49m\n\u001b[0;32m    177\u001b[0m \u001b[43m\u001b[49m\u001b[43m)\u001b[49m\n\u001b[0;32m    178\u001b[0m sample_counts \u001b[38;5;241m=\u001b[39m np\u001b[38;5;241m.\u001b[39mbincount(indices, minlength\u001b[38;5;241m=\u001b[39mn_samples)\n\u001b[0;32m    179\u001b[0m curr_sample_weight \u001b[38;5;241m*\u001b[39m\u001b[38;5;241m=\u001b[39m sample_counts\n",
      "File \u001b[1;32m~\\anaconda3\\envs\\hack2023\\lib\\site-packages\\sklearn\\ensemble\\_forest.py:132\u001b[0m, in \u001b[0;36m_generate_sample_indices\u001b[1;34m(random_state, n_samples, n_samples_bootstrap)\u001b[0m\n\u001b[0;32m    128\u001b[0m \u001b[38;5;250m\u001b[39m\u001b[38;5;124;03m\"\"\"\u001b[39;00m\n\u001b[0;32m    129\u001b[0m \u001b[38;5;124;03mPrivate function used to _parallel_build_trees function.\"\"\"\u001b[39;00m\n\u001b[0;32m    131\u001b[0m random_instance \u001b[38;5;241m=\u001b[39m check_random_state(random_state)\n\u001b[1;32m--> 132\u001b[0m sample_indices \u001b[38;5;241m=\u001b[39m \u001b[43mrandom_instance\u001b[49m\u001b[38;5;241;43m.\u001b[39;49m\u001b[43mrandint\u001b[49m\u001b[43m(\u001b[49m\u001b[38;5;241;43m0\u001b[39;49m\u001b[43m,\u001b[49m\u001b[43m \u001b[49m\u001b[43mn_samples\u001b[49m\u001b[43m,\u001b[49m\u001b[43m \u001b[49m\u001b[43mn_samples_bootstrap\u001b[49m\u001b[43m)\u001b[49m\n\u001b[0;32m    134\u001b[0m \u001b[38;5;28;01mreturn\u001b[39;00m sample_indices\n",
      "\u001b[1;31mKeyboardInterrupt\u001b[0m: "
     ]
    }
   ],
   "source": [
    "rf_Grid_CV(model_df_3, 'score_miss')"
   ]
  },
  {
   "cell_type": "code",
   "execution_count": 145,
   "id": "42e3be28",
   "metadata": {},
   "outputs": [
    {
     "data": {
      "text/plain": [
       "['new_data/saved_model.pkl']"
      ]
     },
     "execution_count": 145,
     "metadata": {},
     "output_type": "execute_result"
    }
   ],
   "source": [
    "joblib.dump(best_logistic_model, 'new_data/saved_model.pkl')"
   ]
  },
  {
   "cell_type": "code",
   "execution_count": null,
   "id": "84127d50",
   "metadata": {},
   "outputs": [],
   "source": []
  }
 ],
 "metadata": {
  "kernelspec": {
   "display_name": "hack2023",
   "language": "python",
   "name": "hack2023"
  },
  "language_info": {
   "codemirror_mode": {
    "name": "ipython",
    "version": 3
   },
   "file_extension": ".py",
   "mimetype": "text/x-python",
   "name": "python",
   "nbconvert_exporter": "python",
   "pygments_lexer": "ipython3",
   "version": "3.9.13"
  }
 },
 "nbformat": 4,
 "nbformat_minor": 5
}
