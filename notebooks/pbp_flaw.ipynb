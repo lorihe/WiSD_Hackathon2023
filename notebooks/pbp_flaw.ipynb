{
 "cells": [
  {
   "cell_type": "code",
   "execution_count": 1,
   "id": "2ad93ff9",
   "metadata": {},
   "outputs": [],
   "source": [
    "import json\n",
    "import pandas as pd\n",
    "import urllib3\n",
    "import jsonlines\n",
    "import matplotlib.pyplot as plt\n",
    "import seaborn as sns\n",
    "import os\n",
    "%matplotlib inline\n",
    "sns.set_style(\"whitegrid\")\n",
    "\n",
    "# import local modules\n",
    "import getpbp\n",
    "import getdata as gd\n",
    "from BasketballCourt import get_layout\n",
    "\n",
    "pd.set_option('display.max_columns', None)\n",
    "pd.set_option('display.max_rows',  None)\n",
    "%load_ext autoreload\n",
    "%autoreload 2\n",
    "import math\n",
    "import warnings\n",
    "warnings.filterwarnings('ignore')\n",
    "\n",
    "import plotly.express as px\n",
    "import plotly.graph_objs as go"
   ]
  },
  {
   "cell_type": "markdown",
   "id": "c9a32fb9",
   "metadata": {},
   "source": [
    "### 1. Get relevant data from raw data"
   ]
  },
  {
   "cell_type": "code",
   "execution_count": 2,
   "id": "d1a195a3",
   "metadata": {},
   "outputs": [],
   "source": [
    "folder_path = 'data/'\n",
    "files = []\n",
    "for file in os.listdir('data'):\n",
    "    files.append(file)"
   ]
  },
  {
   "cell_type": "code",
   "execution_count": 3,
   "id": "006f7273",
   "metadata": {},
   "outputs": [
    {
     "name": "stdout",
     "output_type": "stream",
     "text": [
      "['0042100301', '0042100301', '0042100302', '0042100302', '0042100303', '0042100303', '0042100304', '0042100304', '0042100305', '0042100305', '0042100306', '0042100306', '0042100307', '0042100307', '0042100311', '0042100311', '0042100312', '0042100312', '0042100313', '0042100313', '0042100314', '0042100314', '0042100315', '0042100315', '0042100401', '0042100401', '0042100402', '0042100402', '0042100403', '0042100403', '0042100404', '0042100404', '0042100405', '0042100405', '0042100406', '0042100406']\n"
     ]
    }
   ],
   "source": [
    "game_files = files[:-3]\n",
    "game_ids = []\n",
    "for game in game_files:\n",
    "    game_id = game.split('_')[0]\n",
    "    game_ids.append(game_id)\n",
    "print(game_ids)"
   ]
  },
  {
   "cell_type": "code",
   "execution_count": 4,
   "id": "b3f8efb0",
   "metadata": {},
   "outputs": [],
   "source": [
    "def load_json_file(file_path):\n",
    "    with open(file_path, 'r') as file:\n",
    "        data = json.load(file)\n",
    "    return data"
   ]
  },
  {
   "cell_type": "code",
   "execution_count": 5,
   "id": "1a6952bb",
   "metadata": {},
   "outputs": [],
   "source": [
    "players = load_json_file('data/metadata_players.json')\n",
    "players_df = pd.DataFrame(players['players'])"
   ]
  },
  {
   "cell_type": "code",
   "execution_count": 6,
   "id": "033ffc0d",
   "metadata": {},
   "outputs": [
    {
     "data": {
      "text/html": [
       "<div>\n",
       "<style scoped>\n",
       "    .dataframe tbody tr th:only-of-type {\n",
       "        vertical-align: middle;\n",
       "    }\n",
       "\n",
       "    .dataframe tbody tr th {\n",
       "        vertical-align: top;\n",
       "    }\n",
       "\n",
       "    .dataframe thead th {\n",
       "        text-align: right;\n",
       "    }\n",
       "</style>\n",
       "<table border=\"1\" class=\"dataframe\">\n",
       "  <thead>\n",
       "    <tr style=\"text-align: right;\">\n",
       "      <th></th>\n",
       "      <th>id</th>\n",
       "      <th>firstName</th>\n",
       "      <th>lastName</th>\n",
       "      <th>nbaId</th>\n",
       "      <th>height</th>\n",
       "      <th>weight</th>\n",
       "      <th>dob</th>\n",
       "      <th>position</th>\n",
       "    </tr>\n",
       "  </thead>\n",
       "  <tbody>\n",
       "    <tr>\n",
       "      <th>0</th>\n",
       "      <td>ff415697-89ef-11e6-a31e-a45e60e298d3</td>\n",
       "      <td>Aaron</td>\n",
       "      <td>Brooks</td>\n",
       "      <td>201166</td>\n",
       "      <td>72.0</td>\n",
       "      <td>161.0</td>\n",
       "      <td>1985-01-14</td>\n",
       "      <td>G</td>\n",
       "    </tr>\n",
       "    <tr>\n",
       "      <th>1</th>\n",
       "      <td>ff42ec5e-89ef-11e6-96c8-a45e60e298d3</td>\n",
       "      <td>Aaron</td>\n",
       "      <td>Gordon</td>\n",
       "      <td>203932</td>\n",
       "      <td>80.0</td>\n",
       "      <td>235.0</td>\n",
       "      <td>1995-09-16</td>\n",
       "      <td>F</td>\n",
       "    </tr>\n",
       "    <tr>\n",
       "      <th>2</th>\n",
       "      <td>ff4020d4-89ef-11e6-af09-a45e60e298d3</td>\n",
       "      <td>Aaron</td>\n",
       "      <td>Gray</td>\n",
       "      <td>201189</td>\n",
       "      <td>84.0</td>\n",
       "      <td>270.0</td>\n",
       "      <td>1984-12-07</td>\n",
       "      <td>C</td>\n",
       "    </tr>\n",
       "    <tr>\n",
       "      <th>3</th>\n",
       "      <td>ff4199f8-89ef-11e6-854d-a45e60e298d3</td>\n",
       "      <td>Aaron</td>\n",
       "      <td>Harrison</td>\n",
       "      <td>1626151</td>\n",
       "      <td>78.0</td>\n",
       "      <td>210.0</td>\n",
       "      <td>1994-10-28</td>\n",
       "      <td>G</td>\n",
       "    </tr>\n",
       "    <tr>\n",
       "      <th>4</th>\n",
       "      <td>c9b3e617-4bd6-4399-970f-b84358a6783f</td>\n",
       "      <td>Aaron</td>\n",
       "      <td>Henry</td>\n",
       "      <td>1630565</td>\n",
       "      <td>77.0</td>\n",
       "      <td>210.0</td>\n",
       "      <td>1999-08-30</td>\n",
       "      <td>F</td>\n",
       "    </tr>\n",
       "  </tbody>\n",
       "</table>\n",
       "</div>"
      ],
      "text/plain": [
       "                                     id firstName  lastName    nbaId  height  \\\n",
       "0  ff415697-89ef-11e6-a31e-a45e60e298d3     Aaron    Brooks   201166    72.0   \n",
       "1  ff42ec5e-89ef-11e6-96c8-a45e60e298d3     Aaron    Gordon   203932    80.0   \n",
       "2  ff4020d4-89ef-11e6-af09-a45e60e298d3     Aaron      Gray   201189    84.0   \n",
       "3  ff4199f8-89ef-11e6-854d-a45e60e298d3     Aaron  Harrison  1626151    78.0   \n",
       "4  c9b3e617-4bd6-4399-970f-b84358a6783f     Aaron     Henry  1630565    77.0   \n",
       "\n",
       "   weight         dob position  \n",
       "0   161.0  1985-01-14        G  \n",
       "1   235.0  1995-09-16        F  \n",
       "2   270.0  1984-12-07        C  \n",
       "3   210.0  1994-10-28        G  \n",
       "4   210.0  1999-08-30        F  "
      ]
     },
     "execution_count": 6,
     "metadata": {},
     "output_type": "execute_result"
    }
   ],
   "source": [
    "players_df.head()"
   ]
  },
  {
   "cell_type": "code",
   "execution_count": 7,
   "id": "b5661152",
   "metadata": {},
   "outputs": [],
   "source": [
    "def load_jsonl_file(file_path):\n",
    "    with jsonlines.open(file_path, 'r') as file:\n",
    "        data = [line for line in file]\n",
    "    return data"
   ]
  },
  {
   "cell_type": "code",
   "execution_count": 8,
   "id": "94070c77",
   "metadata": {},
   "outputs": [],
   "source": [
    "metadata = load_json_file('data/metadata.json')\n",
    "metadata_df = pd.DataFrame(metadata['games'])\n",
    "metadata_df = metadata_df[metadata_df['nbaId'].isin(game_ids)]\n",
    "metadata_df['date'] = pd.to_datetime(metadata_df[['month', 'day', 'year']]).dt.strftime('%m-%d-%Y')"
   ]
  },
  {
   "cell_type": "code",
   "execution_count": 9,
   "id": "77fde6fa",
   "metadata": {},
   "outputs": [
    {
     "data": {
      "text/html": [
       "<div>\n",
       "<style scoped>\n",
       "    .dataframe tbody tr th:only-of-type {\n",
       "        vertical-align: middle;\n",
       "    }\n",
       "\n",
       "    .dataframe tbody tr th {\n",
       "        vertical-align: top;\n",
       "    }\n",
       "\n",
       "    .dataframe thead th {\n",
       "        text-align: right;\n",
       "    }\n",
       "</style>\n",
       "<table border=\"1\" class=\"dataframe\">\n",
       "  <thead>\n",
       "    <tr style=\"text-align: right;\">\n",
       "      <th></th>\n",
       "      <th>id</th>\n",
       "      <th>homeTeamId</th>\n",
       "      <th>awayTeamId</th>\n",
       "      <th>nbaId</th>\n",
       "      <th>type</th>\n",
       "      <th>path</th>\n",
       "      <th>prefix</th>\n",
       "      <th>lastMod</th>\n",
       "      <th>completed</th>\n",
       "      <th>trackingState</th>\n",
       "      <th>season</th>\n",
       "      <th>year</th>\n",
       "      <th>month</th>\n",
       "      <th>day</th>\n",
       "      <th>date</th>\n",
       "    </tr>\n",
       "  </thead>\n",
       "  <tbody>\n",
       "    <tr>\n",
       "      <th>1329</th>\n",
       "      <td>9f9f8793-d8c4-4e27-b2fc-432698b7bc50</td>\n",
       "      <td>feb4cb57-89ef-11e6-86b2-a45e60e298d3</td>\n",
       "      <td>feb4d0a6-89ef-11e6-82c6-a45e60e298d3</td>\n",
       "      <td>0042100406</td>\n",
       "      <td>playoff</td>\n",
       "      <td>2021-22/0042100406/</td>\n",
       "      <td>0042100406</td>\n",
       "      <td>2023-02-23T07:01:38.000Z</td>\n",
       "      <td>True</td>\n",
       "      <td>full</td>\n",
       "      <td>2021</td>\n",
       "      <td>2022</td>\n",
       "      <td>6</td>\n",
       "      <td>16</td>\n",
       "      <td>06-16-2022</td>\n",
       "    </tr>\n",
       "    <tr>\n",
       "      <th>1330</th>\n",
       "      <td>057c4fb6-9bbb-496b-8852-a763968da000</td>\n",
       "      <td>feb4d0a6-89ef-11e6-82c6-a45e60e298d3</td>\n",
       "      <td>feb4cb57-89ef-11e6-86b2-a45e60e298d3</td>\n",
       "      <td>0042100405</td>\n",
       "      <td>playoff</td>\n",
       "      <td>2021-22/0042100405/</td>\n",
       "      <td>0042100405</td>\n",
       "      <td>2023-02-23T06:52:19.000Z</td>\n",
       "      <td>True</td>\n",
       "      <td>full</td>\n",
       "      <td>2021</td>\n",
       "      <td>2022</td>\n",
       "      <td>6</td>\n",
       "      <td>13</td>\n",
       "      <td>06-13-2022</td>\n",
       "    </tr>\n",
       "    <tr>\n",
       "      <th>1331</th>\n",
       "      <td>d04fcb9c-22d1-4b70-af2d-2fe367b45d5a</td>\n",
       "      <td>feb4cb57-89ef-11e6-86b2-a45e60e298d3</td>\n",
       "      <td>feb4d0a6-89ef-11e6-82c6-a45e60e298d3</td>\n",
       "      <td>0042100404</td>\n",
       "      <td>playoff</td>\n",
       "      <td>2021-22/0042100404/</td>\n",
       "      <td>0042100404</td>\n",
       "      <td>2023-02-23T07:02:59.000Z</td>\n",
       "      <td>True</td>\n",
       "      <td>full</td>\n",
       "      <td>2021</td>\n",
       "      <td>2022</td>\n",
       "      <td>6</td>\n",
       "      <td>10</td>\n",
       "      <td>06-10-2022</td>\n",
       "    </tr>\n",
       "    <tr>\n",
       "      <th>1332</th>\n",
       "      <td>1706335e-b170-46ed-ac58-2a72715a6c86</td>\n",
       "      <td>feb4cb57-89ef-11e6-86b2-a45e60e298d3</td>\n",
       "      <td>feb4d0a6-89ef-11e6-82c6-a45e60e298d3</td>\n",
       "      <td>0042100403</td>\n",
       "      <td>playoff</td>\n",
       "      <td>2021-22/0042100403/</td>\n",
       "      <td>0042100403</td>\n",
       "      <td>2023-02-23T06:55:23.000Z</td>\n",
       "      <td>True</td>\n",
       "      <td>full</td>\n",
       "      <td>2021</td>\n",
       "      <td>2022</td>\n",
       "      <td>6</td>\n",
       "      <td>8</td>\n",
       "      <td>06-08-2022</td>\n",
       "    </tr>\n",
       "    <tr>\n",
       "      <th>1333</th>\n",
       "      <td>135d26c9-57f2-4e2e-a72c-e91e32d29957</td>\n",
       "      <td>feb4d0a6-89ef-11e6-82c6-a45e60e298d3</td>\n",
       "      <td>feb4cb57-89ef-11e6-86b2-a45e60e298d3</td>\n",
       "      <td>0042100402</td>\n",
       "      <td>playoff</td>\n",
       "      <td>2021-22/0042100402/</td>\n",
       "      <td>0042100402</td>\n",
       "      <td>2023-02-23T06:52:52.000Z</td>\n",
       "      <td>True</td>\n",
       "      <td>full</td>\n",
       "      <td>2021</td>\n",
       "      <td>2022</td>\n",
       "      <td>6</td>\n",
       "      <td>5</td>\n",
       "      <td>06-05-2022</td>\n",
       "    </tr>\n",
       "  </tbody>\n",
       "</table>\n",
       "</div>"
      ],
      "text/plain": [
       "                                        id  \\\n",
       "1329  9f9f8793-d8c4-4e27-b2fc-432698b7bc50   \n",
       "1330  057c4fb6-9bbb-496b-8852-a763968da000   \n",
       "1331  d04fcb9c-22d1-4b70-af2d-2fe367b45d5a   \n",
       "1332  1706335e-b170-46ed-ac58-2a72715a6c86   \n",
       "1333  135d26c9-57f2-4e2e-a72c-e91e32d29957   \n",
       "\n",
       "                                homeTeamId  \\\n",
       "1329  feb4cb57-89ef-11e6-86b2-a45e60e298d3   \n",
       "1330  feb4d0a6-89ef-11e6-82c6-a45e60e298d3   \n",
       "1331  feb4cb57-89ef-11e6-86b2-a45e60e298d3   \n",
       "1332  feb4cb57-89ef-11e6-86b2-a45e60e298d3   \n",
       "1333  feb4d0a6-89ef-11e6-82c6-a45e60e298d3   \n",
       "\n",
       "                                awayTeamId       nbaId     type  \\\n",
       "1329  feb4d0a6-89ef-11e6-82c6-a45e60e298d3  0042100406  playoff   \n",
       "1330  feb4cb57-89ef-11e6-86b2-a45e60e298d3  0042100405  playoff   \n",
       "1331  feb4d0a6-89ef-11e6-82c6-a45e60e298d3  0042100404  playoff   \n",
       "1332  feb4d0a6-89ef-11e6-82c6-a45e60e298d3  0042100403  playoff   \n",
       "1333  feb4cb57-89ef-11e6-86b2-a45e60e298d3  0042100402  playoff   \n",
       "\n",
       "                     path      prefix                   lastMod  completed  \\\n",
       "1329  2021-22/0042100406/  0042100406  2023-02-23T07:01:38.000Z       True   \n",
       "1330  2021-22/0042100405/  0042100405  2023-02-23T06:52:19.000Z       True   \n",
       "1331  2021-22/0042100404/  0042100404  2023-02-23T07:02:59.000Z       True   \n",
       "1332  2021-22/0042100403/  0042100403  2023-02-23T06:55:23.000Z       True   \n",
       "1333  2021-22/0042100402/  0042100402  2023-02-23T06:52:52.000Z       True   \n",
       "\n",
       "     trackingState  season  year  month  day        date  \n",
       "1329          full    2021  2022      6   16  06-16-2022  \n",
       "1330          full    2021  2022      6   13  06-13-2022  \n",
       "1331          full    2021  2022      6   10  06-10-2022  \n",
       "1332          full    2021  2022      6    8  06-08-2022  \n",
       "1333          full    2021  2022      6    5  06-05-2022  "
      ]
     },
     "execution_count": 9,
     "metadata": {},
     "output_type": "execute_result"
    }
   ],
   "source": [
    "metadata_df.head()"
   ]
  },
  {
   "cell_type": "markdown",
   "id": "9881820a",
   "metadata": {},
   "source": [
    "### 2. Transform data"
   ]
  },
  {
   "cell_type": "code",
   "execution_count": 10,
   "id": "998955b1",
   "metadata": {},
   "outputs": [],
   "source": [
    "home_player_dict = {}\n",
    "away_player_dict = {}\n",
    "home_players = []\n",
    "away_players = []\n",
    "\n",
    "for game_id in game_ids:    \n",
    "    event = load_jsonl_file('data/'+str(game_id)+'_events.jsonl')\n",
    "    event_df = pd.DataFrame(event)\n",
    "\n",
    "    home_players_ids = event_df['homePlayers'].apply(pd.Series)\n",
    "    home_players_ids = home_players_ids.values.flatten()\n",
    "    home_players_ids = list(set(home_players_ids))\n",
    "    \n",
    "    away_players_ids = event_df['awayPlayers'].apply(pd.Series)\n",
    "    away_players_ids = away_players_ids.values.flatten()\n",
    "    away_players_ids = list(set(away_players_ids))    \n",
    "    \n",
    "    home_player_dict[game_id] = []\n",
    "    away_player_dict[game_id] = []\n",
    "    \n",
    "    for player_id in home_players_ids:\n",
    "        player_name = players_df[players_df['id']==player_id]['firstName'].item()+' '+ \\\n",
    "            players_df[players_df['id']==player_id]['lastName'].item()\n",
    "        if player_name not in home_players:\n",
    "            home_players.append(player_name) \n",
    "        else:\n",
    "            pass\n",
    "        home_player_dict[game_id].append(player_name) \n",
    "    \n",
    "    for player_id in away_players_ids:\n",
    "        player_name = players_df[players_df['id']==player_id]['firstName'].item()+' '+ \\\n",
    "            players_df[players_df['id']==player_id]['lastName'].item()\n",
    "        if player_name not in away_players:\n",
    "            away_players.append(player_name) \n",
    "        else:\n",
    "            pass\n",
    "        away_player_dict[game_id].append(player_name)     \n",
    "    "
   ]
  },
  {
   "cell_type": "code",
   "execution_count": 11,
   "id": "a3a9373f",
   "metadata": {},
   "outputs": [
    {
     "data": {
      "text/plain": [
       "52"
      ]
     },
     "execution_count": 11,
     "metadata": {},
     "output_type": "execute_result"
    }
   ],
   "source": [
    "len(home_players)"
   ]
  },
  {
   "cell_type": "code",
   "execution_count": 12,
   "id": "e10ecc1d",
   "metadata": {},
   "outputs": [],
   "source": [
    "hoop_left = [-41.75, 0]\n",
    "hoop_right = [41.75, 0]"
   ]
  },
  {
   "cell_type": "code",
   "execution_count": 13,
   "id": "5f188d1f",
   "metadata": {},
   "outputs": [],
   "source": [
    "Jaylen_game_ids = [key for key, value in home_player_dict.items() if 'Jaylen Brown' in value]"
   ]
  },
  {
   "cell_type": "code",
   "execution_count": 14,
   "id": "13385ff4",
   "metadata": {},
   "outputs": [],
   "source": [
    "game_0 = Jaylen_game_ids[0]"
   ]
  },
  {
   "cell_type": "code",
   "execution_count": 15,
   "id": "c89ced75",
   "metadata": {},
   "outputs": [],
   "source": [
    "Jaylen_shots_pbp = getpbp.get_shot(game_0, 'Jaylen Brown')"
   ]
  },
  {
   "cell_type": "code",
   "execution_count": 16,
   "id": "fc8ed76a",
   "metadata": {},
   "outputs": [
    {
     "data": {
      "text/html": [
       "<div>\n",
       "<style scoped>\n",
       "    .dataframe tbody tr th:only-of-type {\n",
       "        vertical-align: middle;\n",
       "    }\n",
       "\n",
       "    .dataframe tbody tr th {\n",
       "        vertical-align: top;\n",
       "    }\n",
       "\n",
       "    .dataframe thead th {\n",
       "        text-align: right;\n",
       "    }\n",
       "</style>\n",
       "<table border=\"1\" class=\"dataframe\">\n",
       "  <thead>\n",
       "    <tr style=\"text-align: right;\">\n",
       "      <th></th>\n",
       "      <th>EVENTNUM</th>\n",
       "      <th>EVENTMSGTYPE</th>\n",
       "      <th>EVENTMSGACTIONTYPE</th>\n",
       "      <th>HOMEDESCRIPTION</th>\n",
       "      <th>VISITORDESCRIPTION</th>\n",
       "    </tr>\n",
       "  </thead>\n",
       "  <tbody>\n",
       "    <tr>\n",
       "      <th>0</th>\n",
       "      <td>14</td>\n",
       "      <td>2</td>\n",
       "      <td>80</td>\n",
       "      <td>MISS Brown 30' 3PT Step Back Jump Shot</td>\n",
       "      <td>None</td>\n",
       "    </tr>\n",
       "    <tr>\n",
       "      <th>1</th>\n",
       "      <td>17</td>\n",
       "      <td>1</td>\n",
       "      <td>63</td>\n",
       "      <td>Brown 17' Fadeaway Jumper (2 PTS)</td>\n",
       "      <td>None</td>\n",
       "    </tr>\n",
       "    <tr>\n",
       "      <th>2</th>\n",
       "      <td>37</td>\n",
       "      <td>2</td>\n",
       "      <td>1</td>\n",
       "      <td>MISS Brown 26' 3PT Jump Shot</td>\n",
       "      <td>None</td>\n",
       "    </tr>\n",
       "    <tr>\n",
       "      <th>3</th>\n",
       "      <td>51</td>\n",
       "      <td>2</td>\n",
       "      <td>1</td>\n",
       "      <td>MISS Brown 24' 3PT Jump Shot</td>\n",
       "      <td>None</td>\n",
       "    </tr>\n",
       "    <tr>\n",
       "      <th>4</th>\n",
       "      <td>134</td>\n",
       "      <td>1</td>\n",
       "      <td>79</td>\n",
       "      <td>Brown 22' Pullup Jump Shot (9 PTS)</td>\n",
       "      <td>None</td>\n",
       "    </tr>\n",
       "  </tbody>\n",
       "</table>\n",
       "</div>"
      ],
      "text/plain": [
       "   EVENTNUM  EVENTMSGTYPE  EVENTMSGACTIONTYPE  \\\n",
       "0        14             2                  80   \n",
       "1        17             1                  63   \n",
       "2        37             2                   1   \n",
       "3        51             2                   1   \n",
       "4       134             1                  79   \n",
       "\n",
       "                          HOMEDESCRIPTION VISITORDESCRIPTION  \n",
       "0  MISS Brown 30' 3PT Step Back Jump Shot               None  \n",
       "1       Brown 17' Fadeaway Jumper (2 PTS)               None  \n",
       "2            MISS Brown 26' 3PT Jump Shot               None  \n",
       "3            MISS Brown 24' 3PT Jump Shot               None  \n",
       "4      Brown 22' Pullup Jump Shot (9 PTS)               None  "
      ]
     },
     "execution_count": 16,
     "metadata": {},
     "output_type": "execute_result"
    }
   ],
   "source": [
    "Jaylen_shots_pbp.head()"
   ]
  },
  {
   "cell_type": "markdown",
   "id": "0b00838e",
   "metadata": {},
   "source": [
    "3PT: \\\n",
    "3PT_JUMP_SHOT = 1 \\\n",
    "3PT_PULLUP_JUMP_SHOT = 79 \\\n",
    "3PT_STEP_BACK_JUMP_SHOT = 80 \\\n",
    "3PT_RUNNING_PULLUP_JUMP_SHOT = 103 \n",
    "\n",
    "\n",
    "2PT_mid: \\\n",
    "HOOK_SHOT = 3 \\\n",
    "JUMP_BANK_SHOT = 66 \\\n",
    "JUMP_SHOT = 1 \\\n",
    "FLOATING_JUMP_SHOT = 78 \\\n",
    "TURNAROUND_FADEAWAY = 86 \\\n",
    "TURNAROUND_HOOK_SHOT = 58 \\\n",
    "TURNAROUND_JUMP_SHOT = 47 \\\n",
    "DRIVING_FLOATING_JUMP_SHOT = 101 \\ \n",
    "PULLUP_JUMP_SHOT = 79 \\\n",
    "STEP_BACK_JUMP_SHOT = 80 \\\n",
    "FADEAWAY_JUMPER = 63 \\\n",
    "TURNAROUND_FADEAWAY_BANK_JUMP_SHOT = 105 \n",
    "\n",
    "2PT_rim: \\\n",
    "ALLEY_OOP_DUNK = 52 \\\n",
    "CUTTING_DUNK_SHOT = 108 \\\n",
    "CUTTING_FINGER_ROLL_LAYUP_SHOT = 99 \\\n",
    "CUTTING_LAYUP_SHOT = 98 \\\n",
    "DRIVING_FINGER_ROLL_LAYUP = 75 \\\n",
    "DRIVING_LAYUP = 6 \\\n",
    "DRIVING_REVERSE_LAYUP = 73 \\\n",
    "DUNK = 7 \\\n",
    "FINGER_ROLL_LAYUP = 71 \\\n",
    "PUTBACK_LAYUP = 72 \\\n",
    "REVERSE_LAYUP = 44 \\\n",
    "LAYUP = 5 \\\n",
    "TIP_LAYUP_SHOT = 97 \\\n",
    "RUNNING_DUNK = 50 \\\n",
    "RUNNING_FINGER_ROLL_LAYUP = 76 \\\n",
    "RUNNING_LAYUP = 41 \\\n",
    "ALLEY_OOP_LAYUP = 43 \\\n",
    "RUNNING_ALLEY_OOP_LAYUP = 100"
   ]
  },
  {
   "cell_type": "code",
   "execution_count": 17,
   "id": "f13df15e",
   "metadata": {},
   "outputs": [],
   "source": [
    "three_PT = [1, 79, 80, 103]\n",
    "two_PT_mid = [3, 66, 1, 78, 86, 58, 47, 79, 80, 63, 105, 101]\n",
    "two_PT_rim = [52, 108, 99, 98, 75, 6, 73, 7, 71, 72, 44, 5, 97, 50, 76, 41, 43, 100]"
   ]
  },
  {
   "cell_type": "code",
   "execution_count": 18,
   "id": "f9429bbd",
   "metadata": {},
   "outputs": [],
   "source": [
    "Jaylen_shots_pbp['ACTIONTYPE'] = Jaylen_shots_pbp['EVENTMSGACTIONTYPE'].apply(\n",
    "    lambda x: 'three_PT' if x in three_PT else 'two_PT_mid'if x in two_PT_mid else 'two_PT_rim' if x in two_PT_rim else 'other')"
   ]
  },
  {
   "cell_type": "code",
   "execution_count": 19,
   "id": "0e882606",
   "metadata": {},
   "outputs": [
    {
     "data": {
      "text/html": [
       "<div>\n",
       "<style scoped>\n",
       "    .dataframe tbody tr th:only-of-type {\n",
       "        vertical-align: middle;\n",
       "    }\n",
       "\n",
       "    .dataframe tbody tr th {\n",
       "        vertical-align: top;\n",
       "    }\n",
       "\n",
       "    .dataframe thead th {\n",
       "        text-align: right;\n",
       "    }\n",
       "</style>\n",
       "<table border=\"1\" class=\"dataframe\">\n",
       "  <thead>\n",
       "    <tr style=\"text-align: right;\">\n",
       "      <th></th>\n",
       "      <th>EVENTNUM</th>\n",
       "      <th>EVENTMSGTYPE</th>\n",
       "      <th>EVENTMSGACTIONTYPE</th>\n",
       "      <th>HOMEDESCRIPTION</th>\n",
       "      <th>VISITORDESCRIPTION</th>\n",
       "      <th>ACTIONTYPE</th>\n",
       "    </tr>\n",
       "  </thead>\n",
       "  <tbody>\n",
       "  </tbody>\n",
       "</table>\n",
       "</div>"
      ],
      "text/plain": [
       "Empty DataFrame\n",
       "Columns: [EVENTNUM, EVENTMSGTYPE, EVENTMSGACTIONTYPE, HOMEDESCRIPTION, VISITORDESCRIPTION, ACTIONTYPE]\n",
       "Index: []"
      ]
     },
     "execution_count": 19,
     "metadata": {},
     "output_type": "execute_result"
    }
   ],
   "source": [
    "Jaylen_shots_pbp[Jaylen_shots_pbp['ACTIONTYPE']=='other']"
   ]
  },
  {
   "cell_type": "code",
   "execution_count": 29,
   "id": "4e9c3228",
   "metadata": {},
   "outputs": [
    {
     "data": {
      "text/html": [
       "<div>\n",
       "<style scoped>\n",
       "    .dataframe tbody tr th:only-of-type {\n",
       "        vertical-align: middle;\n",
       "    }\n",
       "\n",
       "    .dataframe tbody tr th {\n",
       "        vertical-align: top;\n",
       "    }\n",
       "\n",
       "    .dataframe thead th {\n",
       "        text-align: right;\n",
       "    }\n",
       "</style>\n",
       "<table border=\"1\" class=\"dataframe\">\n",
       "  <thead>\n",
       "    <tr style=\"text-align: right;\">\n",
       "      <th></th>\n",
       "      <th>EVENTNUM</th>\n",
       "      <th>EVENTMSGTYPE</th>\n",
       "      <th>EVENTMSGACTIONTYPE</th>\n",
       "      <th>HOMEDESCRIPTION</th>\n",
       "      <th>VISITORDESCRIPTION</th>\n",
       "      <th>ACTIONTYPE</th>\n",
       "    </tr>\n",
       "  </thead>\n",
       "  <tbody>\n",
       "    <tr>\n",
       "      <th>0</th>\n",
       "      <td>14</td>\n",
       "      <td>2</td>\n",
       "      <td>80</td>\n",
       "      <td>MISS Brown 30' 3PT Step Back Jump Shot</td>\n",
       "      <td>None</td>\n",
       "      <td>three_PT</td>\n",
       "    </tr>\n",
       "    <tr>\n",
       "      <th>1</th>\n",
       "      <td>17</td>\n",
       "      <td>1</td>\n",
       "      <td>63</td>\n",
       "      <td>Brown 17' Fadeaway Jumper (2 PTS)</td>\n",
       "      <td>None</td>\n",
       "      <td>two_PT_mid</td>\n",
       "    </tr>\n",
       "    <tr>\n",
       "      <th>2</th>\n",
       "      <td>37</td>\n",
       "      <td>2</td>\n",
       "      <td>1</td>\n",
       "      <td>MISS Brown 26' 3PT Jump Shot</td>\n",
       "      <td>None</td>\n",
       "      <td>three_PT</td>\n",
       "    </tr>\n",
       "    <tr>\n",
       "      <th>3</th>\n",
       "      <td>51</td>\n",
       "      <td>2</td>\n",
       "      <td>1</td>\n",
       "      <td>MISS Brown 24' 3PT Jump Shot</td>\n",
       "      <td>None</td>\n",
       "      <td>three_PT</td>\n",
       "    </tr>\n",
       "    <tr>\n",
       "      <th>4</th>\n",
       "      <td>134</td>\n",
       "      <td>1</td>\n",
       "      <td>79</td>\n",
       "      <td>Brown 22' Pullup Jump Shot (9 PTS)</td>\n",
       "      <td>None</td>\n",
       "      <td>three_PT</td>\n",
       "    </tr>\n",
       "    <tr>\n",
       "      <th>5</th>\n",
       "      <td>136</td>\n",
       "      <td>1</td>\n",
       "      <td>47</td>\n",
       "      <td>Brown 17' Turnaround Jump Shot (11 PTS) (White...</td>\n",
       "      <td>None</td>\n",
       "      <td>two_PT_mid</td>\n",
       "    </tr>\n",
       "    <tr>\n",
       "      <th>6</th>\n",
       "      <td>242</td>\n",
       "      <td>1</td>\n",
       "      <td>6</td>\n",
       "      <td>Brown 5' Driving Layup (13 PTS) (Pritchard 3 AST)</td>\n",
       "      <td>None</td>\n",
       "      <td>two_PT_rim</td>\n",
       "    </tr>\n",
       "    <tr>\n",
       "      <th>7</th>\n",
       "      <td>350</td>\n",
       "      <td>1</td>\n",
       "      <td>6</td>\n",
       "      <td>Brown 3' Driving Layup (17 PTS)</td>\n",
       "      <td>None</td>\n",
       "      <td>two_PT_rim</td>\n",
       "    </tr>\n",
       "    <tr>\n",
       "      <th>8</th>\n",
       "      <td>366</td>\n",
       "      <td>1</td>\n",
       "      <td>6</td>\n",
       "      <td>Brown 1' Driving Layup (19 PTS) (Pritchard 4 AST)</td>\n",
       "      <td>None</td>\n",
       "      <td>two_PT_rim</td>\n",
       "    </tr>\n",
       "    <tr>\n",
       "      <th>9</th>\n",
       "      <td>393</td>\n",
       "      <td>1</td>\n",
       "      <td>6</td>\n",
       "      <td>Brown 4' Driving Layup (21 PTS)</td>\n",
       "      <td>None</td>\n",
       "      <td>two_PT_rim</td>\n",
       "    </tr>\n",
       "    <tr>\n",
       "      <th>10</th>\n",
       "      <td>430</td>\n",
       "      <td>1</td>\n",
       "      <td>79</td>\n",
       "      <td>Brown 14' Pullup Jump Shot (23 PTS)</td>\n",
       "      <td>None</td>\n",
       "      <td>three_PT</td>\n",
       "    </tr>\n",
       "    <tr>\n",
       "      <th>11</th>\n",
       "      <td>452</td>\n",
       "      <td>1</td>\n",
       "      <td>1</td>\n",
       "      <td>Brown 25' 3PT Jump Shot (26 PTS) (Horford 2 AST)</td>\n",
       "      <td>None</td>\n",
       "      <td>three_PT</td>\n",
       "    </tr>\n",
       "    <tr>\n",
       "      <th>12</th>\n",
       "      <td>464</td>\n",
       "      <td>2</td>\n",
       "      <td>1</td>\n",
       "      <td>MISS Brown 25' 3PT Jump Shot</td>\n",
       "      <td>None</td>\n",
       "      <td>three_PT</td>\n",
       "    </tr>\n",
       "    <tr>\n",
       "      <th>13</th>\n",
       "      <td>479</td>\n",
       "      <td>2</td>\n",
       "      <td>79</td>\n",
       "      <td>MISS Brown 26' 3PT Pullup Jump Shot</td>\n",
       "      <td>None</td>\n",
       "      <td>three_PT</td>\n",
       "    </tr>\n",
       "    <tr>\n",
       "      <th>14</th>\n",
       "      <td>592</td>\n",
       "      <td>1</td>\n",
       "      <td>98</td>\n",
       "      <td>Brown 9' Cutting Layup Shot (29 PTS) (Smart 4 ...</td>\n",
       "      <td>None</td>\n",
       "      <td>two_PT_rim</td>\n",
       "    </tr>\n",
       "    <tr>\n",
       "      <th>15</th>\n",
       "      <td>602</td>\n",
       "      <td>1</td>\n",
       "      <td>101</td>\n",
       "      <td>Brown 8' Driving Floating Jump Shot (32 PTS)</td>\n",
       "      <td>None</td>\n",
       "      <td>two_PT_mid</td>\n",
       "    </tr>\n",
       "    <tr>\n",
       "      <th>16</th>\n",
       "      <td>606</td>\n",
       "      <td>1</td>\n",
       "      <td>75</td>\n",
       "      <td>Brown 8' Driving Finger Roll Layup (34 PTS) (S...</td>\n",
       "      <td>None</td>\n",
       "      <td>two_PT_rim</td>\n",
       "    </tr>\n",
       "    <tr>\n",
       "      <th>17</th>\n",
       "      <td>624</td>\n",
       "      <td>1</td>\n",
       "      <td>1</td>\n",
       "      <td>Brown 26' 3PT Jump Shot (37 PTS) (Smart 6 AST)</td>\n",
       "      <td>None</td>\n",
       "      <td>three_PT</td>\n",
       "    </tr>\n",
       "    <tr>\n",
       "      <th>18</th>\n",
       "      <td>639</td>\n",
       "      <td>2</td>\n",
       "      <td>79</td>\n",
       "      <td>MISS Brown 27' 3PT Pullup Jump Shot</td>\n",
       "      <td>None</td>\n",
       "      <td>three_PT</td>\n",
       "    </tr>\n",
       "    <tr>\n",
       "      <th>19</th>\n",
       "      <td>656</td>\n",
       "      <td>1</td>\n",
       "      <td>1</td>\n",
       "      <td>Brown 27' 3PT Jump Shot (40 PTS) (Smart 7 AST)</td>\n",
       "      <td>None</td>\n",
       "      <td>three_PT</td>\n",
       "    </tr>\n",
       "  </tbody>\n",
       "</table>\n",
       "</div>"
      ],
      "text/plain": [
       "    EVENTNUM  EVENTMSGTYPE  EVENTMSGACTIONTYPE  \\\n",
       "0         14             2                  80   \n",
       "1         17             1                  63   \n",
       "2         37             2                   1   \n",
       "3         51             2                   1   \n",
       "4        134             1                  79   \n",
       "5        136             1                  47   \n",
       "6        242             1                   6   \n",
       "7        350             1                   6   \n",
       "8        366             1                   6   \n",
       "9        393             1                   6   \n",
       "10       430             1                  79   \n",
       "11       452             1                   1   \n",
       "12       464             2                   1   \n",
       "13       479             2                  79   \n",
       "14       592             1                  98   \n",
       "15       602             1                 101   \n",
       "16       606             1                  75   \n",
       "17       624             1                   1   \n",
       "18       639             2                  79   \n",
       "19       656             1                   1   \n",
       "\n",
       "                                      HOMEDESCRIPTION VISITORDESCRIPTION  \\\n",
       "0              MISS Brown 30' 3PT Step Back Jump Shot               None   \n",
       "1                   Brown 17' Fadeaway Jumper (2 PTS)               None   \n",
       "2                        MISS Brown 26' 3PT Jump Shot               None   \n",
       "3                        MISS Brown 24' 3PT Jump Shot               None   \n",
       "4                  Brown 22' Pullup Jump Shot (9 PTS)               None   \n",
       "5   Brown 17' Turnaround Jump Shot (11 PTS) (White...               None   \n",
       "6   Brown 5' Driving Layup (13 PTS) (Pritchard 3 AST)               None   \n",
       "7                     Brown 3' Driving Layup (17 PTS)               None   \n",
       "8   Brown 1' Driving Layup (19 PTS) (Pritchard 4 AST)               None   \n",
       "9                     Brown 4' Driving Layup (21 PTS)               None   \n",
       "10                Brown 14' Pullup Jump Shot (23 PTS)               None   \n",
       "11   Brown 25' 3PT Jump Shot (26 PTS) (Horford 2 AST)               None   \n",
       "12                       MISS Brown 25' 3PT Jump Shot               None   \n",
       "13                MISS Brown 26' 3PT Pullup Jump Shot               None   \n",
       "14  Brown 9' Cutting Layup Shot (29 PTS) (Smart 4 ...               None   \n",
       "15       Brown 8' Driving Floating Jump Shot (32 PTS)               None   \n",
       "16  Brown 8' Driving Finger Roll Layup (34 PTS) (S...               None   \n",
       "17     Brown 26' 3PT Jump Shot (37 PTS) (Smart 6 AST)               None   \n",
       "18                MISS Brown 27' 3PT Pullup Jump Shot               None   \n",
       "19     Brown 27' 3PT Jump Shot (40 PTS) (Smart 7 AST)               None   \n",
       "\n",
       "    ACTIONTYPE  \n",
       "0     three_PT  \n",
       "1   two_PT_mid  \n",
       "2     three_PT  \n",
       "3     three_PT  \n",
       "4     three_PT  \n",
       "5   two_PT_mid  \n",
       "6   two_PT_rim  \n",
       "7   two_PT_rim  \n",
       "8   two_PT_rim  \n",
       "9   two_PT_rim  \n",
       "10    three_PT  \n",
       "11    three_PT  \n",
       "12    three_PT  \n",
       "13    three_PT  \n",
       "14  two_PT_rim  \n",
       "15  two_PT_mid  \n",
       "16  two_PT_rim  \n",
       "17    three_PT  \n",
       "18    three_PT  \n",
       "19    three_PT  "
      ]
     },
     "execution_count": 29,
     "metadata": {},
     "output_type": "execute_result"
    }
   ],
   "source": [
    "Jaylen_shots_pbp"
   ]
  },
  {
   "cell_type": "code",
   "execution_count": 25,
   "id": "f73e94d5",
   "metadata": {},
   "outputs": [],
   "source": [
    "Jaylen_id = gd.get_playerInfo('Jaylen Brown', 'fullName', 'id')"
   ]
  },
  {
   "cell_type": "code",
   "execution_count": 22,
   "id": "d6380a57",
   "metadata": {},
   "outputs": [],
   "source": [
    "def load_event_shots(file_path, player_id):\n",
    "    with jsonlines.open(file_path) as reader:\n",
    "        lines = iter(reader)\n",
    "        prev_line = next(lines, None)\n",
    "        filtered_data = []\n",
    "\n",
    "        for line in lines:\n",
    "            if line['eventType'] == 'SHOT' and line['playerId'] == player_id:\n",
    "\n",
    "                filtered_data.append(prev_line)\n",
    "                filtered_data.append(line)\n",
    "            \n",
    "            prev_line = line        \n",
    "    return filtered_data"
   ]
  },
  {
   "cell_type": "code",
   "execution_count": 27,
   "id": "3c48d9f4",
   "metadata": {},
   "outputs": [],
   "source": [
    "def get_event(game_id, player_id):\n",
    "    event_data =load_event_shots(f'data/{game_id}_events.jsonl', player_id)\n",
    "    player_event_df = pd.DataFrame(event_data)\n",
    "    player_event_df['pbpId'] = player_event_df['pbpId'].astype('Int64')\n",
    "    \n",
    "    for i in range(1, len(player_event_df)):\n",
    "        if player_event_df.loc[i, 'eventType'] == 'SHOT' and player_event_df.loc[i - 1, 'eventType'] == 'DRIBBLE':\n",
    "            player_event_df.loc[i, 'eventType'] = 'DRIBBLE SHOT'\n",
    "    player_event_df = player_event_df[(player_event_df['eventType'] == 'SHOT') | (\n",
    "        player_event_df['eventType'] == 'DRIBBLE SHOT')]\n",
    "    \n",
    "    player_event_df.reset_index(drop=True, inplace = True)\n",
    "    player_event_df = player_event_df[['eventType','gameClock','shotClock','period','pbpId']]\n",
    "    return player_event_df"
   ]
  },
  {
   "cell_type": "code",
   "execution_count": 28,
   "id": "a846cbdd",
   "metadata": {},
   "outputs": [
    {
     "ename": "KeyError",
     "evalue": "\"['ACTIONTYPE'] not in index\"",
     "output_type": "error",
     "traceback": [
      "\u001b[1;31m---------------------------------------------------------------------------\u001b[0m",
      "\u001b[1;31mKeyError\u001b[0m                                  Traceback (most recent call last)",
      "Cell \u001b[1;32mIn[28], line 1\u001b[0m\n\u001b[1;32m----> 1\u001b[0m Jaylen_event \u001b[38;5;241m=\u001b[39m \u001b[43mget_event\u001b[49m\u001b[43m(\u001b[49m\u001b[43mgame_0\u001b[49m\u001b[43m,\u001b[49m\u001b[43m \u001b[49m\u001b[43mJaylen_id\u001b[49m\u001b[43m)\u001b[49m\n\u001b[0;32m      2\u001b[0m \u001b[38;5;28mprint\u001b[39m(Jaylen_event\u001b[38;5;241m.\u001b[39mshape)\n\u001b[0;32m      3\u001b[0m Jaylen_event\u001b[38;5;241m.\u001b[39mhead()\n",
      "Cell \u001b[1;32mIn[27], line 13\u001b[0m, in \u001b[0;36mget_event\u001b[1;34m(game_id, player_id)\u001b[0m\n\u001b[0;32m      9\u001b[0m player_event_df \u001b[38;5;241m=\u001b[39m player_event_df[(player_event_df[\u001b[38;5;124m'\u001b[39m\u001b[38;5;124meventType\u001b[39m\u001b[38;5;124m'\u001b[39m] \u001b[38;5;241m==\u001b[39m \u001b[38;5;124m'\u001b[39m\u001b[38;5;124mSHOT\u001b[39m\u001b[38;5;124m'\u001b[39m) \u001b[38;5;241m|\u001b[39m (\n\u001b[0;32m     10\u001b[0m     player_event_df[\u001b[38;5;124m'\u001b[39m\u001b[38;5;124meventType\u001b[39m\u001b[38;5;124m'\u001b[39m] \u001b[38;5;241m==\u001b[39m \u001b[38;5;124m'\u001b[39m\u001b[38;5;124mDRIBBLE SHOT\u001b[39m\u001b[38;5;124m'\u001b[39m)]\n\u001b[0;32m     12\u001b[0m player_event_df\u001b[38;5;241m.\u001b[39mreset_index(drop\u001b[38;5;241m=\u001b[39m\u001b[38;5;28;01mTrue\u001b[39;00m, inplace \u001b[38;5;241m=\u001b[39m \u001b[38;5;28;01mTrue\u001b[39;00m)\n\u001b[1;32m---> 13\u001b[0m player_event_df \u001b[38;5;241m=\u001b[39m \u001b[43mplayer_event_df\u001b[49m\u001b[43m[\u001b[49m\u001b[43m[\u001b[49m\u001b[38;5;124;43m'\u001b[39;49m\u001b[38;5;124;43meventType\u001b[39;49m\u001b[38;5;124;43m'\u001b[39;49m\u001b[43m,\u001b[49m\u001b[38;5;124;43m'\u001b[39;49m\u001b[38;5;124;43mgameClock\u001b[39;49m\u001b[38;5;124;43m'\u001b[39;49m\u001b[43m,\u001b[49m\u001b[38;5;124;43m'\u001b[39;49m\u001b[38;5;124;43mshotClock\u001b[39;49m\u001b[38;5;124;43m'\u001b[39;49m\u001b[43m,\u001b[49m\u001b[38;5;124;43m'\u001b[39;49m\u001b[38;5;124;43mperiod\u001b[39;49m\u001b[38;5;124;43m'\u001b[39;49m\u001b[43m,\u001b[49m\u001b[38;5;124;43m'\u001b[39;49m\u001b[38;5;124;43mpbpId\u001b[39;49m\u001b[38;5;124;43m'\u001b[39;49m\u001b[43m,\u001b[49m\u001b[38;5;124;43m'\u001b[39;49m\u001b[38;5;124;43mACTIONTYPE\u001b[39;49m\u001b[38;5;124;43m'\u001b[39;49m\u001b[43m]\u001b[49m\u001b[43m]\u001b[49m\n\u001b[0;32m     14\u001b[0m \u001b[38;5;28;01mreturn\u001b[39;00m player_event_df\n",
      "File \u001b[1;32m~\\anaconda3\\envs\\hack2023\\lib\\site-packages\\pandas\\core\\frame.py:3767\u001b[0m, in \u001b[0;36mDataFrame.__getitem__\u001b[1;34m(self, key)\u001b[0m\n\u001b[0;32m   3765\u001b[0m     \u001b[38;5;28;01mif\u001b[39;00m is_iterator(key):\n\u001b[0;32m   3766\u001b[0m         key \u001b[38;5;241m=\u001b[39m \u001b[38;5;28mlist\u001b[39m(key)\n\u001b[1;32m-> 3767\u001b[0m     indexer \u001b[38;5;241m=\u001b[39m \u001b[38;5;28;43mself\u001b[39;49m\u001b[38;5;241;43m.\u001b[39;49m\u001b[43mcolumns\u001b[49m\u001b[38;5;241;43m.\u001b[39;49m\u001b[43m_get_indexer_strict\u001b[49m\u001b[43m(\u001b[49m\u001b[43mkey\u001b[49m\u001b[43m,\u001b[49m\u001b[43m \u001b[49m\u001b[38;5;124;43m\"\u001b[39;49m\u001b[38;5;124;43mcolumns\u001b[39;49m\u001b[38;5;124;43m\"\u001b[39;49m\u001b[43m)\u001b[49m[\u001b[38;5;241m1\u001b[39m]\n\u001b[0;32m   3769\u001b[0m \u001b[38;5;66;03m# take() does not accept boolean indexers\u001b[39;00m\n\u001b[0;32m   3770\u001b[0m \u001b[38;5;28;01mif\u001b[39;00m \u001b[38;5;28mgetattr\u001b[39m(indexer, \u001b[38;5;124m\"\u001b[39m\u001b[38;5;124mdtype\u001b[39m\u001b[38;5;124m\"\u001b[39m, \u001b[38;5;28;01mNone\u001b[39;00m) \u001b[38;5;241m==\u001b[39m \u001b[38;5;28mbool\u001b[39m:\n",
      "File \u001b[1;32m~\\anaconda3\\envs\\hack2023\\lib\\site-packages\\pandas\\core\\indexes\\base.py:5877\u001b[0m, in \u001b[0;36mIndex._get_indexer_strict\u001b[1;34m(self, key, axis_name)\u001b[0m\n\u001b[0;32m   5874\u001b[0m \u001b[38;5;28;01melse\u001b[39;00m:\n\u001b[0;32m   5875\u001b[0m     keyarr, indexer, new_indexer \u001b[38;5;241m=\u001b[39m \u001b[38;5;28mself\u001b[39m\u001b[38;5;241m.\u001b[39m_reindex_non_unique(keyarr)\n\u001b[1;32m-> 5877\u001b[0m \u001b[38;5;28;43mself\u001b[39;49m\u001b[38;5;241;43m.\u001b[39;49m\u001b[43m_raise_if_missing\u001b[49m\u001b[43m(\u001b[49m\u001b[43mkeyarr\u001b[49m\u001b[43m,\u001b[49m\u001b[43m \u001b[49m\u001b[43mindexer\u001b[49m\u001b[43m,\u001b[49m\u001b[43m \u001b[49m\u001b[43maxis_name\u001b[49m\u001b[43m)\u001b[49m\n\u001b[0;32m   5879\u001b[0m keyarr \u001b[38;5;241m=\u001b[39m \u001b[38;5;28mself\u001b[39m\u001b[38;5;241m.\u001b[39mtake(indexer)\n\u001b[0;32m   5880\u001b[0m \u001b[38;5;28;01mif\u001b[39;00m \u001b[38;5;28misinstance\u001b[39m(key, Index):\n\u001b[0;32m   5881\u001b[0m     \u001b[38;5;66;03m# GH 42790 - Preserve name from an Index\u001b[39;00m\n",
      "File \u001b[1;32m~\\anaconda3\\envs\\hack2023\\lib\\site-packages\\pandas\\core\\indexes\\base.py:5941\u001b[0m, in \u001b[0;36mIndex._raise_if_missing\u001b[1;34m(self, key, indexer, axis_name)\u001b[0m\n\u001b[0;32m   5938\u001b[0m     \u001b[38;5;28;01mraise\u001b[39;00m \u001b[38;5;167;01mKeyError\u001b[39;00m(\u001b[38;5;124mf\u001b[39m\u001b[38;5;124m\"\u001b[39m\u001b[38;5;124mNone of [\u001b[39m\u001b[38;5;132;01m{\u001b[39;00mkey\u001b[38;5;132;01m}\u001b[39;00m\u001b[38;5;124m] are in the [\u001b[39m\u001b[38;5;132;01m{\u001b[39;00maxis_name\u001b[38;5;132;01m}\u001b[39;00m\u001b[38;5;124m]\u001b[39m\u001b[38;5;124m\"\u001b[39m)\n\u001b[0;32m   5940\u001b[0m not_found \u001b[38;5;241m=\u001b[39m \u001b[38;5;28mlist\u001b[39m(ensure_index(key)[missing_mask\u001b[38;5;241m.\u001b[39mnonzero()[\u001b[38;5;241m0\u001b[39m]]\u001b[38;5;241m.\u001b[39munique())\n\u001b[1;32m-> 5941\u001b[0m \u001b[38;5;28;01mraise\u001b[39;00m \u001b[38;5;167;01mKeyError\u001b[39;00m(\u001b[38;5;124mf\u001b[39m\u001b[38;5;124m\"\u001b[39m\u001b[38;5;132;01m{\u001b[39;00mnot_found\u001b[38;5;132;01m}\u001b[39;00m\u001b[38;5;124m not in index\u001b[39m\u001b[38;5;124m\"\u001b[39m)\n",
      "\u001b[1;31mKeyError\u001b[0m: \"['ACTIONTYPE'] not in index\""
     ]
    }
   ],
   "source": [
    "Jaylen_event = get_event(game_0, Jaylen_id)\n",
    "print(Jaylen_event.shape)\n",
    "Jaylen_event.head()"
   ]
  },
  {
   "cell_type": "code",
   "execution_count": null,
   "id": "52c75fd7",
   "metadata": {},
   "outputs": [],
   "source": []
  },
  {
   "cell_type": "code",
   "execution_count": null,
   "id": "44aca4ea",
   "metadata": {},
   "outputs": [],
   "source": []
  },
  {
   "cell_type": "code",
   "execution_count": 20,
   "id": "50b43199",
   "metadata": {},
   "outputs": [],
   "source": [
    "def get_event(game_id, player):\n",
    "    event_data =load_jsonl_file(f'data/{game_id}_events.jsonl')\n",
    "    event_df = pd.DataFrame(event_data)\n",
    "    event_df['pbpId'] = event_df['pbpId'].astype('Int64')\n",
    "    playerId = gd.get_playerId(player)\n",
    "    player_event_df = event_df[(event_df['playerId'] == playerId\n",
    "                              ) & (event_df['eventType'] == 'SHOT')].reset_index(drop = True)\n",
    "    player_event_df = player_event_df[['eventType','gameClock','period','pbpId']]\n",
    "    return player_event_df"
   ]
  },
  {
   "cell_type": "code",
   "execution_count": 21,
   "id": "91ba0d10",
   "metadata": {},
   "outputs": [
    {
     "ename": "AttributeError",
     "evalue": "module 'getdata' has no attribute 'get_playerId'",
     "output_type": "error",
     "traceback": [
      "\u001b[1;31m---------------------------------------------------------------------------\u001b[0m",
      "\u001b[1;31mAttributeError\u001b[0m                            Traceback (most recent call last)",
      "Cell \u001b[1;32mIn[21], line 1\u001b[0m\n\u001b[1;32m----> 1\u001b[0m Jaylen_event \u001b[38;5;241m=\u001b[39m \u001b[43mget_event\u001b[49m\u001b[43m(\u001b[49m\u001b[43mgame_0\u001b[49m\u001b[43m,\u001b[49m\u001b[43m \u001b[49m\u001b[38;5;124;43m'\u001b[39;49m\u001b[38;5;124;43mJaylen Brown\u001b[39;49m\u001b[38;5;124;43m'\u001b[39;49m\u001b[43m)\u001b[49m\n",
      "Cell \u001b[1;32mIn[20], line 5\u001b[0m, in \u001b[0;36mget_event\u001b[1;34m(game_id, player)\u001b[0m\n\u001b[0;32m      3\u001b[0m event_df \u001b[38;5;241m=\u001b[39m pd\u001b[38;5;241m.\u001b[39mDataFrame(event_data)\n\u001b[0;32m      4\u001b[0m event_df[\u001b[38;5;124m'\u001b[39m\u001b[38;5;124mpbpId\u001b[39m\u001b[38;5;124m'\u001b[39m] \u001b[38;5;241m=\u001b[39m event_df[\u001b[38;5;124m'\u001b[39m\u001b[38;5;124mpbpId\u001b[39m\u001b[38;5;124m'\u001b[39m]\u001b[38;5;241m.\u001b[39mastype(\u001b[38;5;124m'\u001b[39m\u001b[38;5;124mInt64\u001b[39m\u001b[38;5;124m'\u001b[39m)\n\u001b[1;32m----> 5\u001b[0m playerId \u001b[38;5;241m=\u001b[39m \u001b[43mgd\u001b[49m\u001b[38;5;241;43m.\u001b[39;49m\u001b[43mget_playerId\u001b[49m(player)\n\u001b[0;32m      6\u001b[0m player_event_df \u001b[38;5;241m=\u001b[39m event_df[(event_df[\u001b[38;5;124m'\u001b[39m\u001b[38;5;124mplayerId\u001b[39m\u001b[38;5;124m'\u001b[39m] \u001b[38;5;241m==\u001b[39m playerId\n\u001b[0;32m      7\u001b[0m                           ) \u001b[38;5;241m&\u001b[39m (event_df[\u001b[38;5;124m'\u001b[39m\u001b[38;5;124meventType\u001b[39m\u001b[38;5;124m'\u001b[39m] \u001b[38;5;241m==\u001b[39m \u001b[38;5;124m'\u001b[39m\u001b[38;5;124mSHOT\u001b[39m\u001b[38;5;124m'\u001b[39m)]\u001b[38;5;241m.\u001b[39mreset_index(drop \u001b[38;5;241m=\u001b[39m \u001b[38;5;28;01mTrue\u001b[39;00m)\n\u001b[0;32m      8\u001b[0m player_event_df \u001b[38;5;241m=\u001b[39m player_event_df[[\u001b[38;5;124m'\u001b[39m\u001b[38;5;124meventType\u001b[39m\u001b[38;5;124m'\u001b[39m,\u001b[38;5;124m'\u001b[39m\u001b[38;5;124mgameClock\u001b[39m\u001b[38;5;124m'\u001b[39m,\u001b[38;5;124m'\u001b[39m\u001b[38;5;124mperiod\u001b[39m\u001b[38;5;124m'\u001b[39m,\u001b[38;5;124m'\u001b[39m\u001b[38;5;124mpbpId\u001b[39m\u001b[38;5;124m'\u001b[39m]]\n",
      "\u001b[1;31mAttributeError\u001b[0m: module 'getdata' has no attribute 'get_playerId'"
     ]
    }
   ],
   "source": [
    "Jaylen_event = get_event(game_0, 'Jaylen Brown')"
   ]
  },
  {
   "cell_type": "code",
   "execution_count": null,
   "id": "6f7844f0",
   "metadata": {},
   "outputs": [],
   "source": [
    "Jaylen_event.head()"
   ]
  },
  {
   "cell_type": "code",
   "execution_count": null,
   "id": "2c51c25f",
   "metadata": {},
   "outputs": [],
   "source": [
    "event_data =load_jsonl_file(f'data/{game_0}_events.jsonl')"
   ]
  },
  {
   "cell_type": "code",
   "execution_count": null,
   "id": "9fafea28",
   "metadata": {},
   "outputs": [],
   "source": [
    "event_df = pd.DataFrame(event_data)"
   ]
  },
  {
   "cell_type": "code",
   "execution_count": null,
   "id": "2208e966",
   "metadata": {},
   "outputs": [],
   "source": [
    "event_df.head(10)"
   ]
  },
  {
   "cell_type": "code",
   "execution_count": null,
   "id": "e727f94e",
   "metadata": {},
   "outputs": [],
   "source": [
    "# Merge pbp data and event data, using pbp as 'how' to exclude free throws\n",
    "Jaylen_merge = pd.merge(Jaylen_shots_pbp, Jaylen_event, left_on = 'EVENTNUM',\n",
    "                        right_on = 'pbpId', how = 'left')\n",
    "Jaylen_merge.head()"
   ]
  },
  {
   "cell_type": "code",
   "execution_count": null,
   "id": "5052c394",
   "metadata": {},
   "outputs": [],
   "source": [
    "Jaylen_xy = gd.get_xy_df(game_0, 'Jaylen Brown')"
   ]
  },
  {
   "cell_type": "code",
   "execution_count": null,
   "id": "01770dd0",
   "metadata": {},
   "outputs": [],
   "source": [
    "Jaylen_xy.head()"
   ]
  },
  {
   "cell_type": "code",
   "execution_count": null,
   "id": "3b685308",
   "metadata": {},
   "outputs": [],
   "source": [
    "Jaylen_merge = pd.merge(Jaylen_merge, Jaylen_xy, on = ['gameClock', 'period'], how = 'left')\n",
    "Jaylen_merge.head()"
   ]
  },
  {
   "cell_type": "code",
   "execution_count": null,
   "id": "403a51ce",
   "metadata": {},
   "outputs": [],
   "source": [
    "Jaylen_tracking = gd.get_tracking(game_0)"
   ]
  },
  {
   "cell_type": "code",
   "execution_count": null,
   "id": "407499a8",
   "metadata": {
    "scrolled": true
   },
   "outputs": [],
   "source": [
    "Jaylen_merge = pd.merge(Jaylen_merge, Jaylen_tracking[['gameClock','period', 'awayPlayers']], \n",
    "                        on = ['gameClock', 'period'], how = 'left')\n",
    "Jaylen_merge.head()"
   ]
  },
  {
   "cell_type": "code",
   "execution_count": null,
   "id": "582a8862",
   "metadata": {},
   "outputs": [],
   "source": [
    "Jaylen_merge"
   ]
  },
  {
   "cell_type": "code",
   "execution_count": null,
   "id": "1fad5737",
   "metadata": {},
   "outputs": [],
   "source": [
    "def get_distance(df):\n",
    "    \n",
    "    # Check if 'x' column contains the value 0\n",
    "    rows_with_zero = df[df['x'] == 0]\n",
    "    assert rows_with_zero.empty, \"The 'x' column contains the value 0 in the following row(s):\\n\" + str(rows_with_zero)\n",
    "\n",
    "    for i in range(5):\n",
    "        df[f'x_{i}'] = df['awayPlayers'].apply(lambda lst: lst[i]['xyz'][0] if len(lst) >= i+1 else None)\n",
    "        df[f'y_{i}'] = df['awayPlayers'].apply(lambda lst: lst[i]['xyz'][1] if len(lst) >= i+1 else None)\n",
    "    \n",
    "    df['closest_opponent'] = df.apply(lambda row: min(\n",
    "        math.sqrt((row['x'] - row['x_0'])**2 + (row['y'] - row['y_0'])**2),\n",
    "        math.sqrt((row['x'] - row['x_1'])**2 + (row['y'] - row['y_1'])**2),\n",
    "        math.sqrt((row['x'] - row['x_2'])**2 + (row['y'] - row['y_2'])**2),\n",
    "        math.sqrt((row['x'] - row['x_3'])**2 + (row['y'] - row['y_3'])**2),\n",
    "        math.sqrt((row['x'] - row['x_4'])**2 + (row['y'] - row['y_4'])**2)), axis=1)\n",
    "    \n",
    "    df = df[['ACTIONTYPE', 'EVENTMSGTYPE', 'EVENTMSGACTIONTYPE', 'HOMEDESCRIPTION', 'gameClock', 'period',\n",
    "             'x', 'y','closest_opponent']]\n",
    "    df['EVENTMSGTYPE'] = df['EVENTMSGTYPE'].replace({1: 'score', 2:'miss'})\n",
    "    \n",
    "    return df"
   ]
  },
  {
   "cell_type": "code",
   "execution_count": null,
   "id": "557f2bdb",
   "metadata": {},
   "outputs": [],
   "source": [
    "Jaylen_merge_all = get_distance(Jaylen_merge)"
   ]
  },
  {
   "cell_type": "code",
   "execution_count": null,
   "id": "00bf902c",
   "metadata": {},
   "outputs": [],
   "source": [
    "Jaylen_merge_all.sort_values(by = 'ACTIONTYPE')"
   ]
  },
  {
   "cell_type": "code",
   "execution_count": null,
   "id": "621fed0b",
   "metadata": {},
   "outputs": [],
   "source": [
    "basketball_court_layout = get_layout()\n",
    "fig = px.scatter(Jaylen_merge_all, x = 'x', y = 'y', color='ACTIONTYPE')\n",
    "fig.update_layout(basketball_court_layout)\n",
    "fig.show()"
   ]
  },
  {
   "cell_type": "code",
   "execution_count": null,
   "id": "a2b6fc62",
   "metadata": {},
   "outputs": [],
   "source": [
    "Jaylen_all = pd.DataFrame()\n",
    "\n",
    "for game in Jaylen_game_ids:\n",
    "    Jaylen_shots_pbp = getpbp.get_shot(game, 'Jaylen Brown')\n",
    "    Jaylen_shots_pbp['ACTIONTYPE'] = Jaylen_shots_pbp['EVENTMSGACTIONTYPE'].apply(\n",
    "        lambda x: 'three_PT' if x in three_PT else 'two_PT_mid'if x in two_PT_mid else 'two_PT_rim' if x in two_PT_rim else 'other')\n",
    "    Jaylen_event = get_event(game, 'Jaylen Brown')\n",
    "    Jaylen_merge = pd.merge(Jaylen_shots_pbp, Jaylen_event, left_on = 'EVENTNUM',\n",
    "                        right_on = 'pbpId', how = 'left')\n",
    "    Jaylen_xy = gd.get_xy_df(game, 'Jaylen Brown')\n",
    "    Jaylen_merge = pd.merge(Jaylen_merge, Jaylen_xy, on = ['gameClock', 'period'], how = 'left')\n",
    "    Jaylen_tracking = gd.get_tracking(game)\n",
    "    Jaylen_merge = pd.merge(Jaylen_merge, Jaylen_tracking[['gameClock','period', 'awayPlayers']], \n",
    "                        on = ['gameClock', 'period'], how = 'left')\n",
    "    Jaylen_merge_all = get_distance(Jaylen_merge)\n",
    "    \n",
    "    Jaylen_all = pd.concat([Jaylen_all, Jaylen_merge_all], ignore_index = True)"
   ]
  },
  {
   "cell_type": "code",
   "execution_count": null,
   "id": "82e7abba",
   "metadata": {},
   "outputs": [],
   "source": [
    "Jaylen_all.shape"
   ]
  },
  {
   "cell_type": "code",
   "execution_count": null,
   "id": "1b3b43e1",
   "metadata": {},
   "outputs": [],
   "source": [
    "basketball_court_layout = get_layout()\n",
    "fig = px.scatter(Jaylen_all, x = 'x', y = 'y', color='ACTIONTYPE')\n",
    "fig.update_layout(basketball_court_layout)\n",
    "fig.show()"
   ]
  },
  {
   "cell_type": "code",
   "execution_count": null,
   "id": "4c7d17bf",
   "metadata": {
    "scrolled": false
   },
   "outputs": [],
   "source": [
    "Jaylen_all.sort_values(by = 'ACTIONTYPE')"
   ]
  },
  {
   "cell_type": "code",
   "execution_count": null,
   "id": "4b3f41f1",
   "metadata": {},
   "outputs": [],
   "source": []
  },
  {
   "cell_type": "code",
   "execution_count": null,
   "id": "8a64de44",
   "metadata": {},
   "outputs": [],
   "source": []
  },
  {
   "cell_type": "code",
   "execution_count": null,
   "id": "540826f7",
   "metadata": {},
   "outputs": [],
   "source": []
  },
  {
   "cell_type": "code",
   "execution_count": null,
   "id": "b7d8e07c",
   "metadata": {},
   "outputs": [],
   "source": [
    "metadata_df.head()"
   ]
  },
  {
   "cell_type": "code",
   "execution_count": null,
   "id": "bd9938f2",
   "metadata": {},
   "outputs": [],
   "source": [
    "all_dates = list(metadata_df['date'])"
   ]
  },
  {
   "cell_type": "code",
   "execution_count": null,
   "id": "0dfc9b19",
   "metadata": {},
   "outputs": [],
   "source": [
    "home_player_dict"
   ]
  },
  {
   "cell_type": "code",
   "execution_count": null,
   "id": "2bff5c06",
   "metadata": {},
   "outputs": [],
   "source": [
    "away_player_dict"
   ]
  },
  {
   "cell_type": "code",
   "execution_count": null,
   "id": "d1de3bc4",
   "metadata": {},
   "outputs": [],
   "source": [
    "def get_shots(player):\n",
    "    game_ids = [key for key, value in home_player_dict.items() if player in value]\n",
    "    merge_all = pd.DataFrame()\n",
    "    for game_id in game_ids:\n",
    "        pbp_df = getpbp.extract_data(game_id)\n",
    "        made_miss = get_shot_pbp(pbp_df, player)\n",
    "        event = get_event(game_id, player)\n",
    "        shot_df = pd.merge(event, made_miss, left_on = 'pbpId', right_on = 'EVENTNUM')\n",
    "        player_xy = gd.get_home_player_df(player, game_id)\n",
    "        tracking = gd.get_tracking(game_id)\n",
    "        merge_df = shot_df.merge(player_xy, on = ['gameClock', 'period'], how = 'left')\n",
    "        merge_df = get_distance(merge_df, tracking)\n",
    "        \n",
    "        merge_all = pd.concat([merge_all, merge_df], ignore_index = True)\n",
    "\n",
    "    return merge_all"
   ]
  },
  {
   "cell_type": "code",
   "execution_count": null,
   "id": "eede9ae6",
   "metadata": {},
   "outputs": [],
   "source": [
    "test4 = get_shots('Moses Moody')"
   ]
  },
  {
   "cell_type": "code",
   "execution_count": null,
   "id": "e5855f65",
   "metadata": {},
   "outputs": [],
   "source": [
    "test "
   ]
  },
  {
   "cell_type": "code",
   "execution_count": null,
   "id": "acabb634",
   "metadata": {},
   "outputs": [],
   "source": [
    "game_ids = [key for key, value in home_player_dict.items() if 'Sam Hauser' in value]"
   ]
  },
  {
   "cell_type": "code",
   "execution_count": null,
   "id": "b7d98172",
   "metadata": {},
   "outputs": [],
   "source": [
    "game_ids"
   ]
  },
  {
   "cell_type": "code",
   "execution_count": null,
   "id": "7bd639b9",
   "metadata": {},
   "outputs": [],
   "source": [
    "(test['x'] != 0).any()"
   ]
  },
  {
   "cell_type": "code",
   "execution_count": null,
   "id": "0d396908",
   "metadata": {},
   "outputs": [],
   "source": [
    "tracking = gd.get_tracking('0042100403')"
   ]
  },
  {
   "cell_type": "code",
   "execution_count": null,
   "id": "5f8d7d63",
   "metadata": {},
   "outputs": [],
   "source": [
    "merge_df = get_distance(test, tracking)"
   ]
  },
  {
   "cell_type": "code",
   "execution_count": null,
   "id": "934e3942",
   "metadata": {},
   "outputs": [],
   "source": [
    "merge_df "
   ]
  },
  {
   "cell_type": "code",
   "execution_count": null,
   "id": "29c7b3ed",
   "metadata": {},
   "outputs": [],
   "source": [
    "def plot_dist_shot(df):\n",
    "    \n",
    "    fig = px.scatter(df, x='hoop_dist', y='closest_opponent', color='EVENTMSGTYPE',\n",
    "                        color_discrete_sequence=['crimson', 'powderblue'])\n",
    "\n",
    "    fig.update_layout(yaxis=dict(tickmode='linear', dtick=0.5))\n",
    "\n",
    "    fig.update_layout(\n",
    "        plot_bgcolor='white',\n",
    "        paper_bgcolor='white',\n",
    "        xaxis=dict(showgrid=True, gridcolor='lightgray'),\n",
    "        yaxis=dict(showgrid=True, gridcolor='lightgray')\n",
    "    )\n",
    "\n",
    "    fig.add_shape(type='line',\n",
    "                  x0=23.75, y0=fig.data[0].y.min(),\n",
    "                  x1=23.75, y1=fig.data[0].y.max()+1.2,\n",
    "                  line=dict(color='grey', width=1, dash='dash'))\n",
    "    \n",
    "    fig.add_shape(type='line',\n",
    "              x0=22, y0=fig.data[0].y.min(),\n",
    "              x1=22, y1=fig.data[0].y.max()+1.2,\n",
    "              line=dict(color='grey', width=1, dash='dash'))\n",
    "\n",
    "    fig.add_annotation(\n",
    "        x=24.75, y=fig.data[0].y.max()+1.5,\n",
    "        xref=\"x\", yref=\"y\",\n",
    "        text=\"3-Point arc\",\n",
    "        showarrow=False,\n",
    "        font=dict(color=\"black\"),\n",
    "        align=\"left\",\n",
    "        ax=0,\n",
    "        ay=-30\n",
    "    )\n",
    "    \n",
    "    fig.add_annotation(\n",
    "    x=20, y=fig.data[0].y.max()+1.5,\n",
    "    xref=\"x\", yref=\"y\",\n",
    "    text=\"3-Point corner line\",\n",
    "    showarrow=False,\n",
    "    font=dict(color=\"black\"),\n",
    "    align=\"left\",\n",
    "    ax=0,\n",
    "    ay=-30\n",
    "    )\n",
    "\n",
    "    fig.update_layout(\n",
    "        legend=dict(title=\"\")\n",
    "    )\n",
    "\n",
    "    fig.show()"
   ]
  },
  {
   "cell_type": "code",
   "execution_count": null,
   "id": "c7bc389d",
   "metadata": {},
   "outputs": [],
   "source": [
    "plot_dist_shot(test)"
   ]
  },
  {
   "cell_type": "code",
   "execution_count": null,
   "id": "703a2bb3",
   "metadata": {},
   "outputs": [],
   "source": [
    "plot_dist_shot(test2)"
   ]
  },
  {
   "cell_type": "code",
   "execution_count": null,
   "id": "76c3ef0d",
   "metadata": {},
   "outputs": [],
   "source": [
    "plot_dist_shot(test3)"
   ]
  },
  {
   "cell_type": "code",
   "execution_count": null,
   "id": "3bdb2065",
   "metadata": {},
   "outputs": [],
   "source": [
    "plot_dist_shot(test4)"
   ]
  },
  {
   "cell_type": "code",
   "execution_count": null,
   "id": "a6c1d42d",
   "metadata": {},
   "outputs": [],
   "source": []
  }
 ],
 "metadata": {
  "kernelspec": {
   "display_name": "hack2023",
   "language": "python",
   "name": "hack2023"
  },
  "language_info": {
   "codemirror_mode": {
    "name": "ipython",
    "version": 3
   },
   "file_extension": ".py",
   "mimetype": "text/x-python",
   "name": "python",
   "nbconvert_exporter": "python",
   "pygments_lexer": "ipython3",
   "version": "3.9.13"
  }
 },
 "nbformat": 4,
 "nbformat_minor": 5
}
